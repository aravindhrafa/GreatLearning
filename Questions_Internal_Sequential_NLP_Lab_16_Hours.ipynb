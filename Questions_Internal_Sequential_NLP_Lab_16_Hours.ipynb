{
 "cells": [
  {
   "cell_type": "markdown",
   "metadata": {
    "colab_type": "text",
    "id": "vXE926qT0jHg"
   },
   "source": [
    "# Time series prediction using LSTM"
   ]
  },
  {
   "cell_type": "markdown",
   "metadata": {
    "colab_type": "text",
    "id": "54u8ql4Z4kBE"
   },
   "source": [
    "## Dataset\n",
    "- Daily minimum temperatures in Melbourne, Australia, 1981-1990\n",
    "- Units: Degrees Celcius"
   ]
  },
  {
   "cell_type": "markdown",
   "metadata": {
    "colab_type": "text",
    "id": "IPkYyOzY77yl"
   },
   "source": [
    "## Question 1"
   ]
  },
  {
   "cell_type": "markdown",
   "metadata": {
    "colab_type": "text",
    "id": "aXEOY69f8B9d"
   },
   "source": [
    "### Load the data\n",
    "- load daily-minimum-temperatures-in-me.csv"
   ]
  },
  {
   "cell_type": "markdown",
   "metadata": {
    "colab_type": "text",
    "id": "vQ4xtmH1M21w"
   },
   "source": []
  },
  {
   "cell_type": "code",
   "execution_count": 0,
   "metadata": {
    "colab": {
     "base_uri": "https://localhost:8080/",
     "height": 34
    },
    "colab_type": "code",
    "id": "1Yvcuhqz0m23",
    "outputId": "67330837-c2ad-43e6-c8e0-0608c8e9b13d"
   },
   "outputs": [
    {
     "name": "stdout",
     "output_type": "stream",
     "text": [
      "Drive already mounted at /content/drive; to attempt to forcibly remount, call drive.mount(\"/content/drive\", force_remount=True).\n"
     ]
    }
   ],
   "source": [
    "# if you are using google colab\n",
    "from google.colab import files\n",
    "# files.upload()\n",
    "from google.colab import drive\n",
    "drive.mount('/content/drive')"
   ]
  },
  {
   "cell_type": "code",
   "execution_count": 0,
   "metadata": {
    "colab": {
     "base_uri": "https://localhost:8080/",
     "height": 359
    },
    "colab_type": "code",
    "id": "LA7R2II8-Jxh",
    "outputId": "da1c24ca-2f2a-4056-ae95-83c2d8c2d045"
   },
   "outputs": [
    {
     "data": {
      "text/html": [
       "<div>\n",
       "<style scoped>\n",
       "    .dataframe tbody tr th:only-of-type {\n",
       "        vertical-align: middle;\n",
       "    }\n",
       "\n",
       "    .dataframe tbody tr th {\n",
       "        vertical-align: top;\n",
       "    }\n",
       "\n",
       "    .dataframe thead th {\n",
       "        text-align: right;\n",
       "    }\n",
       "</style>\n",
       "<table border=\"1\" class=\"dataframe\">\n",
       "  <thead>\n",
       "    <tr style=\"text-align: right;\">\n",
       "      <th></th>\n",
       "      <th>Date</th>\n",
       "      <th>Temperature</th>\n",
       "    </tr>\n",
       "  </thead>\n",
       "  <tbody>\n",
       "    <tr>\n",
       "      <th>3640</th>\n",
       "      <td>1990-12-22</td>\n",
       "      <td>13.2</td>\n",
       "    </tr>\n",
       "    <tr>\n",
       "      <th>3641</th>\n",
       "      <td>1990-12-23</td>\n",
       "      <td>13.9</td>\n",
       "    </tr>\n",
       "    <tr>\n",
       "      <th>3642</th>\n",
       "      <td>1990-12-24</td>\n",
       "      <td>10.0</td>\n",
       "    </tr>\n",
       "    <tr>\n",
       "      <th>3643</th>\n",
       "      <td>1990-12-25</td>\n",
       "      <td>12.9</td>\n",
       "    </tr>\n",
       "    <tr>\n",
       "      <th>3644</th>\n",
       "      <td>1990-12-26</td>\n",
       "      <td>14.6</td>\n",
       "    </tr>\n",
       "    <tr>\n",
       "      <th>3645</th>\n",
       "      <td>1990-12-27</td>\n",
       "      <td>14.0</td>\n",
       "    </tr>\n",
       "    <tr>\n",
       "      <th>3646</th>\n",
       "      <td>1990-12-28</td>\n",
       "      <td>13.6</td>\n",
       "    </tr>\n",
       "    <tr>\n",
       "      <th>3647</th>\n",
       "      <td>1990-12-29</td>\n",
       "      <td>13.5</td>\n",
       "    </tr>\n",
       "    <tr>\n",
       "      <th>3648</th>\n",
       "      <td>1990-12-30</td>\n",
       "      <td>15.7</td>\n",
       "    </tr>\n",
       "    <tr>\n",
       "      <th>3649</th>\n",
       "      <td>1990-12-31</td>\n",
       "      <td>13.0</td>\n",
       "    </tr>\n",
       "  </tbody>\n",
       "</table>\n",
       "</div>"
      ],
      "text/plain": [
       "            Date  Temperature\n",
       "3640  1990-12-22         13.2\n",
       "3641  1990-12-23         13.9\n",
       "3642  1990-12-24         10.0\n",
       "3643  1990-12-25         12.9\n",
       "3644  1990-12-26         14.6\n",
       "3645  1990-12-27         14.0\n",
       "3646  1990-12-28         13.6\n",
       "3647  1990-12-29         13.5\n",
       "3648  1990-12-30         15.7\n",
       "3649  1990-12-31         13.0"
      ]
     },
     "execution_count": 26,
     "metadata": {
      "tags": []
     },
     "output_type": "execute_result"
    }
   ],
   "source": [
    "import pandas as pd\n",
    "import numpy as np\n",
    "df = pd.read_csv(\"/content/drive/My Drive/NeuralMachineTranslator/daily-minimum-temperatures-in-me.csv\")\n",
    "df.tail(10)"
   ]
  },
  {
   "cell_type": "markdown",
   "metadata": {
    "colab_type": "text",
    "id": "pWcMgg69-T6k"
   },
   "source": [
    "### Print the data\n",
    "- First 5 rows only"
   ]
  },
  {
   "cell_type": "code",
   "execution_count": 0,
   "metadata": {
    "colab": {
     "base_uri": "https://localhost:8080/",
     "height": 204
    },
    "colab_type": "code",
    "id": "SM828gT_-Ra2",
    "outputId": "87a53de8-5ad2-4f5d-996b-7a9e54a08f63"
   },
   "outputs": [
    {
     "data": {
      "text/html": [
       "<div>\n",
       "<style scoped>\n",
       "    .dataframe tbody tr th:only-of-type {\n",
       "        vertical-align: middle;\n",
       "    }\n",
       "\n",
       "    .dataframe tbody tr th {\n",
       "        vertical-align: top;\n",
       "    }\n",
       "\n",
       "    .dataframe thead th {\n",
       "        text-align: right;\n",
       "    }\n",
       "</style>\n",
       "<table border=\"1\" class=\"dataframe\">\n",
       "  <thead>\n",
       "    <tr style=\"text-align: right;\">\n",
       "      <th></th>\n",
       "      <th>Date</th>\n",
       "      <th>Temperature</th>\n",
       "    </tr>\n",
       "  </thead>\n",
       "  <tbody>\n",
       "    <tr>\n",
       "      <th>0</th>\n",
       "      <td>1981-01-01</td>\n",
       "      <td>20.7</td>\n",
       "    </tr>\n",
       "    <tr>\n",
       "      <th>1</th>\n",
       "      <td>1981-01-02</td>\n",
       "      <td>17.9</td>\n",
       "    </tr>\n",
       "    <tr>\n",
       "      <th>2</th>\n",
       "      <td>1981-01-03</td>\n",
       "      <td>18.8</td>\n",
       "    </tr>\n",
       "    <tr>\n",
       "      <th>3</th>\n",
       "      <td>1981-01-04</td>\n",
       "      <td>14.6</td>\n",
       "    </tr>\n",
       "    <tr>\n",
       "      <th>4</th>\n",
       "      <td>1981-01-05</td>\n",
       "      <td>15.8</td>\n",
       "    </tr>\n",
       "  </tbody>\n",
       "</table>\n",
       "</div>"
      ],
      "text/plain": [
       "         Date  Temperature\n",
       "0  1981-01-01         20.7\n",
       "1  1981-01-02         17.9\n",
       "2  1981-01-03         18.8\n",
       "3  1981-01-04         14.6\n",
       "4  1981-01-05         15.8"
      ]
     },
     "execution_count": 27,
     "metadata": {
      "tags": []
     },
     "output_type": "execute_result"
    }
   ],
   "source": [
    "df.head(5)"
   ]
  },
  {
   "cell_type": "code",
   "execution_count": 0,
   "metadata": {
    "colab": {
     "base_uri": "https://localhost:8080/",
     "height": 221
    },
    "colab_type": "code",
    "id": "fb7VD7GYOWb3",
    "outputId": "b2d1ec08-24fe-4637-8c0f-e0d498d96669"
   },
   "outputs": [
    {
     "data": {
      "text/plain": [
       "0      1981-01-01\n",
       "1      1981-01-02\n",
       "2      1981-01-03\n",
       "3      1981-01-04\n",
       "4      1981-01-05\n",
       "          ...    \n",
       "3645   1990-12-27\n",
       "3646   1990-12-28\n",
       "3647   1990-12-29\n",
       "3648   1990-12-30\n",
       "3649   1990-12-31\n",
       "Name: Date, Length: 3650, dtype: datetime64[ns]"
      ]
     },
     "execution_count": 28,
     "metadata": {
      "tags": []
     },
     "output_type": "execute_result"
    }
   ],
   "source": [
    "df['Date'] = pd.to_datetime(df['Date'])\n",
    "df['Date']"
   ]
  },
  {
   "cell_type": "markdown",
   "metadata": {
    "colab_type": "text",
    "id": "JGnWESz9BKx8"
   },
   "source": [
    "### Set index column\n",
    "- Set the DataFrame index using \"Date\" column"
   ]
  },
  {
   "cell_type": "code",
   "execution_count": 0,
   "metadata": {
    "colab": {},
    "colab_type": "code",
    "id": "nFrbd_vd-eZP"
   },
   "outputs": [],
   "source": [
    "df['Date'] = pd.to_datetime(df['Date'])\n",
    "df.set_index('Date', inplace=True)\n",
    "df = df.sort_index()"
   ]
  },
  {
   "cell_type": "markdown",
   "metadata": {
    "colab_type": "text",
    "id": "sS7IVXq7B1P1"
   },
   "source": [
    "## Question 2"
   ]
  },
  {
   "cell_type": "markdown",
   "metadata": {
    "colab_type": "text",
    "id": "PcgAOybZCc5-"
   },
   "source": [
    "### Check the total count of null values in the data"
   ]
  },
  {
   "cell_type": "code",
   "execution_count": 0,
   "metadata": {
    "colab": {
     "base_uri": "https://localhost:8080/",
     "height": 51
    },
    "colab_type": "code",
    "id": "UTMe5jdCCj4k",
    "outputId": "cae7daa5-9df6-42e4-ebaa-67e6207ee553"
   },
   "outputs": [
    {
     "data": {
      "text/plain": [
       "Temperature    0\n",
       "dtype: int64"
      ]
     },
     "execution_count": 30,
     "metadata": {
      "tags": []
     },
     "output_type": "execute_result"
    }
   ],
   "source": [
    "df.isnull().sum()"
   ]
  },
  {
   "cell_type": "markdown",
   "metadata": {
    "colab_type": "text",
    "id": "Ua-AeW2YC3kY"
   },
   "source": [
    "### Drop all the rows with null values\n",
    "- use dropna() method"
   ]
  },
  {
   "cell_type": "code",
   "execution_count": 0,
   "metadata": {
    "colab": {},
    "colab_type": "code",
    "id": "9l9UeA6YC8RV"
   },
   "outputs": [],
   "source": [
    "df = df.dropna(how = 'any')"
   ]
  },
  {
   "cell_type": "markdown",
   "metadata": {
    "colab_type": "text",
    "id": "SJam5Ho-DHK7"
   },
   "source": [
    "## Question 3"
   ]
  },
  {
   "cell_type": "markdown",
   "metadata": {
    "colab_type": "text",
    "id": "3esUPJAMDzCJ"
   },
   "source": [
    "### Describe your dataframe\n",
    "- use describe() method"
   ]
  },
  {
   "cell_type": "code",
   "execution_count": 0,
   "metadata": {
    "colab": {
     "base_uri": "https://localhost:8080/",
     "height": 297
    },
    "colab_type": "code",
    "id": "uhH8OwGVELyH",
    "outputId": "8ad19e94-eb74-4e58-9e16-dbae9b21443a"
   },
   "outputs": [
    {
     "data": {
      "text/html": [
       "<div>\n",
       "<style scoped>\n",
       "    .dataframe tbody tr th:only-of-type {\n",
       "        vertical-align: middle;\n",
       "    }\n",
       "\n",
       "    .dataframe tbody tr th {\n",
       "        vertical-align: top;\n",
       "    }\n",
       "\n",
       "    .dataframe thead th {\n",
       "        text-align: right;\n",
       "    }\n",
       "</style>\n",
       "<table border=\"1\" class=\"dataframe\">\n",
       "  <thead>\n",
       "    <tr style=\"text-align: right;\">\n",
       "      <th></th>\n",
       "      <th>Temperature</th>\n",
       "    </tr>\n",
       "  </thead>\n",
       "  <tbody>\n",
       "    <tr>\n",
       "      <th>count</th>\n",
       "      <td>3650.000000</td>\n",
       "    </tr>\n",
       "    <tr>\n",
       "      <th>mean</th>\n",
       "      <td>11.177753</td>\n",
       "    </tr>\n",
       "    <tr>\n",
       "      <th>std</th>\n",
       "      <td>4.071837</td>\n",
       "    </tr>\n",
       "    <tr>\n",
       "      <th>min</th>\n",
       "      <td>0.000000</td>\n",
       "    </tr>\n",
       "    <tr>\n",
       "      <th>25%</th>\n",
       "      <td>8.300000</td>\n",
       "    </tr>\n",
       "    <tr>\n",
       "      <th>50%</th>\n",
       "      <td>11.000000</td>\n",
       "    </tr>\n",
       "    <tr>\n",
       "      <th>75%</th>\n",
       "      <td>14.000000</td>\n",
       "    </tr>\n",
       "    <tr>\n",
       "      <th>max</th>\n",
       "      <td>26.300000</td>\n",
       "    </tr>\n",
       "  </tbody>\n",
       "</table>\n",
       "</div>"
      ],
      "text/plain": [
       "       Temperature\n",
       "count  3650.000000\n",
       "mean     11.177753\n",
       "std       4.071837\n",
       "min       0.000000\n",
       "25%       8.300000\n",
       "50%      11.000000\n",
       "75%      14.000000\n",
       "max      26.300000"
      ]
     },
     "execution_count": 32,
     "metadata": {
      "tags": []
     },
     "output_type": "execute_result"
    }
   ],
   "source": [
    "df.describe()"
   ]
  },
  {
   "cell_type": "markdown",
   "metadata": {
    "colab_type": "text",
    "id": "bizrToFMB4ix"
   },
   "source": [
    "### Plot the dataframe\n",
    "- use plot() method"
   ]
  },
  {
   "cell_type": "code",
   "execution_count": 0,
   "metadata": {
    "colab": {
     "base_uri": "https://localhost:8080/",
     "height": 286
    },
    "colab_type": "code",
    "id": "rNiXK6YZB30N",
    "outputId": "cec0a7dd-2f3e-464b-a2d3-bae9b5948629"
   },
   "outputs": [
    {
     "data": {
      "text/plain": [
       "<matplotlib.axes._subplots.AxesSubplot at 0x7f3850a48518>"
      ]
     },
     "execution_count": 33,
     "metadata": {
      "tags": []
     },
     "output_type": "execute_result"
    },
    {
     "data": {
      "image/png": "[encoded data removed]",
      "text/plain": [
       "<Figure size 432x288 with 1 Axes>"
      ]
     },
     "metadata": {
      "tags": []
     },
     "output_type": "display_data"
    }
   ],
   "source": [
    "df.plot()"
   ]
  },
  {
   "cell_type": "markdown",
   "metadata": {
    "colab_type": "text",
    "id": "OtI9ZGJqE1lh"
   },
   "source": [
    "### Get representation of the distribution of data using histogram\n",
    "- use hist() method"
   ]
  },
  {
   "cell_type": "code",
   "execution_count": 0,
   "metadata": {
    "colab": {
     "base_uri": "https://localhost:8080/",
     "height": 315
    },
    "colab_type": "code",
    "id": "qan611HdE9nR",
    "outputId": "0949dac6-c78a-45ab-ab14-f2c5d601aa3e"
   },
   "outputs": [
    {
     "data": {
      "text/plain": [
       "array([[<matplotlib.axes._subplots.AxesSubplot object at 0x7f3851ceaa58>]],\n",
       "      dtype=object)"
      ]
     },
     "execution_count": 34,
     "metadata": {
      "tags": []
     },
     "output_type": "execute_result"
    },
    {
     "data": {
      "image/png": "[encoded data removed]",
      "text/plain": [
       "<Figure size 432x288 with 1 Axes>"
      ]
     },
     "metadata": {
      "tags": []
     },
     "output_type": "display_data"
    }
   ],
   "source": [
    "df.hist()"
   ]
  },
  {
   "cell_type": "markdown",
   "metadata": {
    "colab_type": "text",
    "id": "D8VDVRisHAsH"
   },
   "source": [
    "### Check minimum and maximum temperature\n",
    "- use min() and max() methods"
   ]
  },
  {
   "cell_type": "code",
   "execution_count": 0,
   "metadata": {
    "colab": {
     "base_uri": "https://localhost:8080/",
     "height": 51
    },
    "colab_type": "code",
    "id": "xlwlVtRfG_qX",
    "outputId": "6895d7f8-9098-4b26-9d58-20a32cde069f"
   },
   "outputs": [
    {
     "data": {
      "text/plain": [
       "Temperature    0.0\n",
       "dtype: float64"
      ]
     },
     "execution_count": 35,
     "metadata": {
      "tags": []
     },
     "output_type": "execute_result"
    }
   ],
   "source": [
    "df.min()"
   ]
  },
  {
   "cell_type": "code",
   "execution_count": 0,
   "metadata": {
    "colab": {
     "base_uri": "https://localhost:8080/",
     "height": 51
    },
    "colab_type": "code",
    "id": "abO5iWWAFFCJ",
    "outputId": "f480161a-4650-4020-bd1c-83f890bb057b"
   },
   "outputs": [
    {
     "data": {
      "text/plain": [
       "Temperature    26.3\n",
       "dtype: float64"
      ]
     },
     "execution_count": 36,
     "metadata": {
      "tags": []
     },
     "output_type": "execute_result"
    }
   ],
   "source": [
    "df.max()"
   ]
  },
  {
   "cell_type": "markdown",
   "metadata": {
    "colab_type": "text",
    "id": "qTjD3zhSI_BD"
   },
   "source": [
    "## Question 4"
   ]
  },
  {
   "cell_type": "markdown",
   "metadata": {
    "colab_type": "text",
    "id": "QSDmmRxBMOO7"
   },
   "source": [
    "### Split the dataset into training and testing\n",
    "- training data: 75%\n",
    "- testing data: 25%"
   ]
  },
  {
   "cell_type": "code",
   "execution_count": 0,
   "metadata": {
    "colab": {},
    "colab_type": "code",
    "id": "dbrspzBVM6Gg"
   },
   "outputs": [],
   "source": [
    "df = df.reset_index(drop = True)\n",
    "train = df[:int(len(df) * 0.75)]\n",
    "test = df[int(len(df) * 0.75):]"
   ]
  },
  {
   "cell_type": "markdown",
   "metadata": {
    "colab_type": "text",
    "id": "eEgBn5JkKwrZ"
   },
   "source": [
    "### Normalize the data\n",
    "- normalize temperature values using MinMaxScaler\n",
    "- feature_range: 0-1\n",
    "- fit MinMaxScaler on train data and transform it\n",
    "  - use fit_transform() method\n",
    "- transform test data using MinMaxScaler object\n",
    "  - use transform() method"
   ]
  },
  {
   "cell_type": "code",
   "execution_count": 0,
   "metadata": {
    "colab": {},
    "colab_type": "code",
    "id": "OqDcm7tbI19Z"
   },
   "outputs": [],
   "source": [
    "from sklearn.preprocessing import MinMaxScaler\n",
    "scaler = MinMaxScaler(feature_range=(0, 1))\n",
    "scaled_train = scaler.fit_transform(train)\n",
    "scaled_test = scaler.transform(test)"
   ]
  },
  {
   "cell_type": "markdown",
   "metadata": {
    "colab_type": "text",
    "id": "4HjbO8gRQ3M1"
   },
   "source": [
    "### Print scaled train and test data\n",
    "- print only first 5 values"
   ]
  },
  {
   "cell_type": "code",
   "execution_count": 0,
   "metadata": {
    "colab": {
     "base_uri": "https://localhost:8080/",
     "height": 102
    },
    "colab_type": "code",
    "id": "U_WDZwKxRBRx",
    "outputId": "c2339778-cb6b-4539-a8ea-8876abb361bf"
   },
   "outputs": [
    {
     "data": {
      "text/plain": [
       "array([[0.78707224],\n",
       "       [0.68060837],\n",
       "       [0.7148289 ],\n",
       "       [0.55513308],\n",
       "       [0.60076046]])"
      ]
     },
     "execution_count": 39,
     "metadata": {
      "tags": []
     },
     "output_type": "execute_result"
    }
   ],
   "source": [
    "scaled_train[:5]\n"
   ]
  },
  {
   "cell_type": "code",
   "execution_count": 0,
   "metadata": {
    "colab": {
     "base_uri": "https://localhost:8080/",
     "height": 102
    },
    "colab_type": "code",
    "id": "vYlwALHrRGcX",
    "outputId": "23cd07da-99a2-4387-c9d5-6144bd5589a9"
   },
   "outputs": [
    {
     "data": {
      "text/plain": [
       "array([[0.22813688],\n",
       "       [0.22053232],\n",
       "       [0.18631179],\n",
       "       [0.19011407],\n",
       "       [0.31939163]])"
      ]
     },
     "execution_count": 40,
     "metadata": {
      "tags": []
     },
     "output_type": "execute_result"
    }
   ],
   "source": [
    "scaled_test[:5]"
   ]
  },
  {
   "cell_type": "markdown",
   "metadata": {
    "colab_type": "text",
    "id": "JB5lHp94RQWY"
   },
   "source": [
    "## Question 5"
   ]
  },
  {
   "cell_type": "markdown",
   "metadata": {
    "colab_type": "text",
    "id": "kVqNUf00RSiv"
   },
   "source": [
    "### Create sequential data\n",
    "Map the temperature at a particular day 'd' to the temperature at day t\n",
    "'d+n', where n is any number you define.\n",
    "\n",
    "For example: to map temperatures of consecutive days, use d+1, i.e. lookback = 1\n",
    "- Below function takes data as input and returns sequential data.\n",
    "- X as features and y as labels"
   ]
  },
  {
   "cell_type": "code",
   "execution_count": 0,
   "metadata": {
    "colab": {},
    "colab_type": "code",
    "id": "AtxhXruAWws-"
   },
   "outputs": [],
   "source": [
    "import numpy as np\n",
    "def create_seq_data(data, lookback=1):\n",
    "  X, y = list(), list()\n",
    "  \n",
    "  for day in range((len(data)-lookback)):\n",
    "    X.append(data[day: day+lookback, 0])\n",
    "    y.append(data[day+lookback, 0])\n",
    "  return np.array(X), np.array(y)"
   ]
  },
  {
   "cell_type": "markdown",
   "metadata": {
    "colab_type": "text",
    "id": "VMBJpuDQJzcG"
   },
   "source": [
    "### Use the above function to create train and test sets\n",
    "- Get X_train and y_train\n",
    "- Get X_test and y_test\n",
    "- lookback = 1"
   ]
  },
  {
   "cell_type": "code",
   "execution_count": 0,
   "metadata": {
    "colab": {},
    "colab_type": "code",
    "id": "Uq6GGmJ0Zqem"
   },
   "outputs": [],
   "source": [
    "look_back = 1\n",
    "X_train, y_train = create_seq_data(scaled_train, look_back)\n",
    "X_test, y_test = create_seq_data(scaled_test, look_back)"
   ]
  },
  {
   "cell_type": "markdown",
   "metadata": {
    "colab_type": "text",
    "id": "-E2iixEfK0Px"
   },
   "source": [
    "### Reshape the data\n",
    "- Reshape X_train and X_test\n",
    "- use np.reshape() method\n",
    "- this is to be done to make the data ready for input in model"
   ]
  },
  {
   "cell_type": "code",
   "execution_count": 0,
   "metadata": {
    "colab": {},
    "colab_type": "code",
    "id": "X3qhXEqoZxQ3"
   },
   "outputs": [],
   "source": [
    "X_train = np.reshape(X_train, (X_train.shape[0], X_train.shape[1], 1))\n",
    "X_test = np.reshape(X_test, (X_test.shape[0], X_test.shape[1], 1))"
   ]
  },
  {
   "cell_type": "markdown",
   "metadata": {
    "colab_type": "text",
    "id": "zKZ8SALZcuNB"
   },
   "source": [
    "### Print shape of data\n",
    "- print shape of X_train and X_test"
   ]
  },
  {
   "cell_type": "code",
   "execution_count": 0,
   "metadata": {
    "colab": {
     "base_uri": "https://localhost:8080/",
     "height": 51
    },
    "colab_type": "code",
    "id": "OSg_rbP6c_HI",
    "outputId": "8e825e2f-eb63-494c-afb8-8b64b4470d2e"
   },
   "outputs": [
    {
     "name": "stdout",
     "output_type": "stream",
     "text": [
      "(2736, 1, 1)\n",
      "(912, 1, 1)\n"
     ]
    }
   ],
   "source": [
    "print(X_train.shape)\n",
    "print(X_test.shape)"
   ]
  },
  {
   "cell_type": "markdown",
   "metadata": {
    "colab_type": "text",
    "id": "emGjaYZ5dfRq"
   },
   "source": [
    "## Question 6"
   ]
  },
  {
   "cell_type": "markdown",
   "metadata": {
    "colab_type": "text",
    "id": "7fk2Ze24dsXw"
   },
   "source": [
    "### Define sequential model\n",
    "- initialize a Sequential model\n",
    "- add an LSTM layer\n",
    "  - units: 10\n",
    "  - stateful: True\n",
    "  - pass a `batch_input_shape` argument to your layer\n",
    "  - batch_input_shape: (batch_size, look_back, 1)\n",
    "    - batch_size: 1\n",
    "    - look_back: 1\n",
    "- add Dense layer with 1 neuron"
   ]
  },
  {
   "cell_type": "code",
   "execution_count": 0,
   "metadata": {
    "colab": {},
    "colab_type": "code",
    "id": "eXU6UNt4dhJz"
   },
   "outputs": [],
   "source": [
    "from keras.models import Sequential\n",
    "from keras.layers import GRU, Dense\n",
    "from keras.layers import LSTM\n",
    "from keras  import callbacks\n",
    "from keras import optimizers\n",
    "import pandas as pd \n",
    "import tensorflow as tf\n",
    "import numpy as np\n",
    "batch_size = 1\n",
    "model = Sequential()\n",
    "model.add(LSTM(10, batch_input_shape=(batch_size, look_back, 1), stateful=True))\n",
    "model.add(Dense(1))"
   ]
  },
  {
   "cell_type": "markdown",
   "metadata": {
    "colab_type": "text",
    "id": "cLymvPFzEQSp"
   },
   "source": [
    "## Question 7"
   ]
  },
  {
   "cell_type": "markdown",
   "metadata": {
    "colab_type": "text",
    "id": "AZmlvbcMrCTh"
   },
   "source": [
    "### compile your model\n",
    "- loss: mean_squared_error\n",
    "- optimizer: adam"
   ]
  },
  {
   "cell_type": "code",
   "execution_count": 0,
   "metadata": {
    "colab": {
     "base_uri": "https://localhost:8080/",
     "height": 51
    },
    "colab_type": "code",
    "id": "TrcHrSdtg62Q",
    "outputId": "17381140-2677-42ac-8848-9bce2b1beeb3"
   },
   "outputs": [
    {
     "name": "stdout",
     "output_type": "stream",
     "text": [
      "WARNING:tensorflow:From /usr/local/lib/python3.6/dist-packages/keras/optimizers.py:793: The name tf.train.Optimizer is deprecated. Please use tf.compat.v1.train.Optimizer instead.\n",
      "\n"
     ]
    }
   ],
   "source": [
    "model.compile(loss='mean_squared_error', optimizer='adam')"
   ]
  },
  {
   "cell_type": "markdown",
   "metadata": {
    "colab_type": "text",
    "id": "WWAoHdFurJN5"
   },
   "source": [
    "### summarize your model\n",
    "- use summary() method"
   ]
  },
  {
   "cell_type": "code",
   "execution_count": 0,
   "metadata": {
    "colab": {
     "base_uri": "https://localhost:8080/",
     "height": 221
    },
    "colab_type": "code",
    "id": "UlIaCMtBrPU2",
    "outputId": "ba27886b-d670-4896-a1f8-2c9726c69227"
   },
   "outputs": [
    {
     "name": "stdout",
     "output_type": "stream",
     "text": [
      "Model: \"sequential_2\"\n",
      "_________________________________________________________________\n",
      "Layer (type)                 Output Shape              Param #   \n",
      "=================================================================\n",
      "lstm_2 (LSTM)                (1, 10)                   480       \n",
      "_________________________________________________________________\n",
      "dense_2 (Dense)              (1, 1)                    11        \n",
      "=================================================================\n",
      "Total params: 491\n",
      "Trainable params: 491\n",
      "Non-trainable params: 0\n",
      "_________________________________________________________________\n"
     ]
    }
   ],
   "source": [
    "model.summary()"
   ]
  },
  {
   "cell_type": "markdown",
   "metadata": {
    "colab_type": "text",
    "id": "dq5a3i6uEcJI"
   },
   "source": [
    "## Question 8"
   ]
  },
  {
   "cell_type": "markdown",
   "metadata": {
    "colab_type": "text",
    "id": "0Ca3CFhOrf83"
   },
   "source": [
    "### fit your model\n",
    "- epochs: 50\n",
    "- batch_size: 1"
   ]
  },
  {
   "cell_type": "code",
   "execution_count": 0,
   "metadata": {
    "colab": {
     "base_uri": "https://localhost:8080/",
     "height": 1000
    },
    "colab_type": "code",
    "id": "BbuB-XGPhH6h",
    "outputId": "cdc901a6-ece4-4a38-f2da-326e4df36cec"
   },
   "outputs": [
    {
     "name": "stdout",
     "output_type": "stream",
     "text": [
      "WARNING:tensorflow:From /usr/local/lib/python3.6/dist-packages/tensorflow_core/python/ops/math_grad.py:1424: where (from tensorflow.python.ops.array_ops) is deprecated and will be removed in a future version.\n",
      "Instructions for updating:\n",
      "Use tf.where in 2.0, which has the same broadcast rule as np.where\n",
      "WARNING:tensorflow:From /usr/local/lib/python3.6/dist-packages/keras/backend/tensorflow_backend.py:1033: The name tf.assign_add is deprecated. Please use tf.compat.v1.assign_add instead.\n",
      "\n",
      "WARNING:tensorflow:From /usr/local/lib/python3.6/dist-packages/keras/backend/tensorflow_backend.py:1020: The name tf.assign is deprecated. Please use tf.compat.v1.assign instead.\n",
      "\n",
      "WARNING:tensorflow:From /usr/local/lib/python3.6/dist-packages/keras/backend/tensorflow_backend.py:3005: The name tf.Session is deprecated. Please use tf.compat.v1.Session instead.\n",
      "\n",
      "Epoch 1/50\n",
      "WARNING:tensorflow:From /usr/local/lib/python3.6/dist-packages/keras/backend/tensorflow_backend.py:190: The name tf.get_default_session is deprecated. Please use tf.compat.v1.get_default_session instead.\n",
      "\n",
      "WARNING:tensorflow:From /usr/local/lib/python3.6/dist-packages/keras/backend/tensorflow_backend.py:197: The name tf.ConfigProto is deprecated. Please use tf.compat.v1.ConfigProto instead.\n",
      "\n",
      "WARNING:tensorflow:From /usr/local/lib/python3.6/dist-packages/keras/backend/tensorflow_backend.py:207: The name tf.global_variables is deprecated. Please use tf.compat.v1.global_variables instead.\n",
      "\n",
      "WARNING:tensorflow:From /usr/local/lib/python3.6/dist-packages/keras/backend/tensorflow_backend.py:216: The name tf.is_variable_initialized is deprecated. Please use tf.compat.v1.is_variable_initialized instead.\n",
      "\n",
      "WARNING:tensorflow:From /usr/local/lib/python3.6/dist-packages/keras/backend/tensorflow_backend.py:223: The name tf.variables_initializer is deprecated. Please use tf.compat.v1.variables_initializer instead.\n",
      "\n",
      " - 5s - loss: 0.0213\n",
      "Epoch 2/50\n",
      " - 4s - loss: 0.0127\n",
      "Epoch 3/50\n",
      " - 5s - loss: 0.0107\n",
      "Epoch 4/50\n",
      " - 4s - loss: 0.0107\n",
      "Epoch 5/50\n",
      " - 4s - loss: 0.0103\n",
      "Epoch 6/50\n",
      " - 4s - loss: 0.0106\n",
      "Epoch 7/50\n",
      " - 4s - loss: 0.0104\n",
      "Epoch 8/50\n",
      " - 4s - loss: 0.0103\n",
      "Epoch 9/50\n",
      " - 4s - loss: 0.0101\n",
      "Epoch 10/50\n",
      " - 4s - loss: 0.0102\n",
      "Epoch 11/50\n",
      " - 4s - loss: 0.0101\n",
      "Epoch 12/50\n",
      " - 4s - loss: 0.0103\n",
      "Epoch 13/50\n",
      " - 4s - loss: 0.0102\n",
      "Epoch 14/50\n",
      " - 4s - loss: 0.0102\n",
      "Epoch 15/50\n",
      " - 4s - loss: 0.0101\n",
      "Epoch 16/50\n",
      " - 4s - loss: 0.0100\n",
      "Epoch 17/50\n",
      " - 4s - loss: 0.0101\n",
      "Epoch 18/50\n",
      " - 4s - loss: 0.0102\n",
      "Epoch 19/50\n",
      " - 4s - loss: 0.0101\n",
      "Epoch 20/50\n",
      " - 4s - loss: 0.0101\n",
      "Epoch 21/50\n",
      " - 4s - loss: 0.0100\n",
      "Epoch 22/50\n",
      " - 4s - loss: 0.0100\n",
      "Epoch 23/50\n",
      " - 4s - loss: 0.0100\n",
      "Epoch 24/50\n",
      " - 4s - loss: 0.0100\n",
      "Epoch 25/50\n",
      " - 4s - loss: 0.0100\n",
      "Epoch 26/50\n",
      " - 4s - loss: 0.0100\n",
      "Epoch 27/50\n",
      " - 4s - loss: 0.0100\n",
      "Epoch 28/50\n",
      " - 4s - loss: 0.0099\n",
      "Epoch 29/50\n",
      " - 4s - loss: 0.0100\n",
      "Epoch 30/50\n",
      " - 4s - loss: 0.0099\n",
      "Epoch 31/50\n",
      " - 4s - loss: 0.0099\n",
      "Epoch 32/50\n",
      " - 4s - loss: 0.0099\n",
      "Epoch 33/50\n",
      " - 4s - loss: 0.0100\n",
      "Epoch 34/50\n",
      " - 4s - loss: 0.0099\n",
      "Epoch 35/50\n",
      " - 4s - loss: 0.0099\n",
      "Epoch 36/50\n",
      " - 4s - loss: 0.0100\n",
      "Epoch 37/50\n",
      " - 4s - loss: 0.0100\n",
      "Epoch 38/50\n",
      " - 4s - loss: 0.0098\n",
      "Epoch 39/50\n",
      " - 4s - loss: 0.0099\n",
      "Epoch 40/50\n",
      " - 4s - loss: 0.0099\n",
      "Epoch 41/50\n",
      " - 4s - loss: 0.0099\n",
      "Epoch 42/50\n",
      " - 5s - loss: 0.0100\n",
      "Epoch 43/50\n",
      " - 5s - loss: 0.0099\n",
      "Epoch 44/50\n",
      " - 5s - loss: 0.0099\n",
      "Epoch 45/50\n",
      " - 4s - loss: 0.0099\n",
      "Epoch 46/50\n",
      " - 4s - loss: 0.0098\n",
      "Epoch 47/50\n",
      " - 4s - loss: 0.0099\n",
      "Epoch 48/50\n",
      " - 4s - loss: 0.0099\n",
      "Epoch 49/50\n",
      " - 4s - loss: 0.0099\n",
      "Epoch 50/50\n",
      " - 4s - loss: 0.0099\n"
     ]
    },
    {
     "data": {
      "text/plain": [
       "<keras.callbacks.History at 0x7f3850944048>"
      ]
     },
     "execution_count": 48,
     "metadata": {
      "tags": []
     },
     "output_type": "execute_result"
    }
   ],
   "source": [
    "model.fit(X_train, y_train, epochs=50, batch_size=batch_size, verbose=2, shuffle=True)"
   ]
  },
  {
   "cell_type": "markdown",
   "metadata": {
    "colab_type": "text",
    "id": "hqRlEmbjEqyG"
   },
   "source": [
    "## Question 9"
   ]
  },
  {
   "cell_type": "markdown",
   "metadata": {
    "colab_type": "text",
    "id": "12IhOtvUHJBF"
   },
   "source": [
    "### make predictions on train data\n",
    "- use predict() method\n",
    "  - batch_size: 1\n",
    "- store predictions in a variable"
   ]
  },
  {
   "cell_type": "code",
   "execution_count": 0,
   "metadata": {
    "colab": {},
    "colab_type": "code",
    "id": "iXWuJikQHURm"
   },
   "outputs": [],
   "source": [
    "trainPredict = model.predict(X_train, batch_size=1)"
   ]
  },
  {
   "cell_type": "markdown",
   "metadata": {
    "colab_type": "text",
    "id": "XxxWOa-PsieH"
   },
   "source": [
    "### reset model state\n",
    "- if you are using stateful=True in your model then you should call reset_states every time, when you want to make consecutive model calls independent.\n",
    "- use reset_states() method"
   ]
  },
  {
   "cell_type": "code",
   "execution_count": 0,
   "metadata": {
    "colab": {},
    "colab_type": "code",
    "id": "ZdV5_F1Eo8SY"
   },
   "outputs": [],
   "source": [
    "model.reset_states()"
   ]
  },
  {
   "cell_type": "markdown",
   "metadata": {
    "colab_type": "text",
    "id": "KAhziPVBJD0u"
   },
   "source": [
    "### make predictions on test data\n",
    "- use predict() method\n",
    "  - batch_size: 1\n",
    "- store predictions in a variable"
   ]
  },
  {
   "cell_type": "code",
   "execution_count": 0,
   "metadata": {
    "colab": {},
    "colab_type": "code",
    "id": "HuHopEXNJU_y"
   },
   "outputs": [],
   "source": [
    "testPredict = model.predict(X_test, batch_size=1)"
   ]
  },
  {
   "cell_type": "markdown",
   "metadata": {
    "colab_type": "text",
    "id": "pO81E-fsJruD"
   },
   "source": [
    "## Question 10"
   ]
  },
  {
   "cell_type": "markdown",
   "metadata": {
    "colab_type": "text",
    "id": "RImBG7sCtnlb"
   },
   "source": [
    "### Inverse train predictions and true labels\n",
    "- use your MinMaxSclarer object\n",
    "- use inverse_transform() method"
   ]
  },
  {
   "cell_type": "code",
   "execution_count": 0,
   "metadata": {
    "colab": {},
    "colab_type": "code",
    "id": "xXfce41cqN-h"
   },
   "outputs": [],
   "source": [
    "trainPredict = scaler.inverse_transform(trainPredict)\n",
    "y_train = scaler.inverse_transform([y_train])"
   ]
  },
  {
   "cell_type": "markdown",
   "metadata": {
    "colab_type": "text",
    "id": "5fWSzk8cuPbp"
   },
   "source": [
    "### Inverse test predictions and true labels\n",
    "- use your MinMaxSclarer object\n",
    "- use inverse_transform() method"
   ]
  },
  {
   "cell_type": "code",
   "execution_count": 0,
   "metadata": {
    "colab": {},
    "colab_type": "code",
    "id": "nVJ1wMupuPbu"
   },
   "outputs": [],
   "source": [
    "testPredict = scaler.inverse_transform(testPredict)\n",
    "y_test = scaler.inverse_transform([y_test])"
   ]
  },
  {
   "cell_type": "markdown",
   "metadata": {
    "colab_type": "text",
    "id": "VtowvAItJv6c"
   },
   "source": [
    "### Evaluate train predictions\n",
    "- calculate RMSE\n",
    "- RMSE = sqrt(mean_squared_error(true_labels, predicted_labels))\n",
    "- use sqrt() and mean_squared_error() method\n",
    "- print training RMSE"
   ]
  },
  {
   "cell_type": "code",
   "execution_count": 0,
   "metadata": {
    "colab": {},
    "colab_type": "code",
    "id": "GjXbis_bJ9GL"
   },
   "outputs": [],
   "source": [
    "import math\n",
    "from sklearn.metrics import mean_squared_error"
   ]
  },
  {
   "cell_type": "code",
   "execution_count": 0,
   "metadata": {
    "colab": {
     "base_uri": "https://localhost:8080/",
     "height": 34
    },
    "colab_type": "code",
    "id": "pLb65-QiqMDX",
    "outputId": "fc5f152f-e7c4-4b61-c3fa-f217415886f4"
   },
   "outputs": [
    {
     "name": "stdout",
     "output_type": "stream",
     "text": [
      "Train Score: 2.60 RMSE\n"
     ]
    }
   ],
   "source": [
    "trainScore = math.sqrt(mean_squared_error(y_train[0], trainPredict[:,0]))\n",
    "print('Train Score: %.2f RMSE' % (trainScore))"
   ]
  },
  {
   "cell_type": "markdown",
   "metadata": {
    "colab_type": "text",
    "id": "DBOfSPRDvERE"
   },
   "source": [
    "### Evaluate test predictions\n",
    "- calculate RMSE\n",
    "- RMSE = sqrt(mean_squared_error(true_labels, predicted_labels))\n",
    "- use sqrt() and mean_squared_error() method\n",
    "- print testing RMSE"
   ]
  },
  {
   "cell_type": "code",
   "execution_count": 0,
   "metadata": {
    "colab": {},
    "colab_type": "code",
    "id": "8rQOereovERJ"
   },
   "outputs": [],
   "source": [
    "testScore = math.sqrt(mean_squared_error(y_test[0], testPredict[:,0]))\n"
   ]
  },
  {
   "cell_type": "code",
   "execution_count": 0,
   "metadata": {
    "colab": {
     "base_uri": "https://localhost:8080/",
     "height": 34
    },
    "colab_type": "code",
    "id": "8DhUsMnvvERT",
    "outputId": "6e79322c-debd-4e8a-de6b-d1f7ecb6536c"
   },
   "outputs": [
    {
     "name": "stdout",
     "output_type": "stream",
     "text": [
      "Test Score: 2.53 RMSE\n"
     ]
    }
   ],
   "source": [
    "print('Test Score: %.2f RMSE' % (testScore))"
   ]
  }
 ],
 "metadata": {
  "colab": {
   "collapsed_sections": [],
   "name": "Questions - Internal - Sequential NLP Lab - 16 Hours.ipynb",
   "provenance": []
  },
  "kernelspec": {
   "display_name": "Python 3",
   "language": "python",
   "name": "python3"
  },
  "language_info": {
   "codemirror_mode": {
    "name": "ipython",
    "version": 3
   },
   "file_extension": ".py",
   "mimetype": "text/x-python",
   "name": "python",
   "nbconvert_exporter": "python",
   "pygments_lexer": "ipython3",
   "version": "3.7.3"
  }
 },
 "nbformat": 4,
 "nbformat_minor": 1
}
