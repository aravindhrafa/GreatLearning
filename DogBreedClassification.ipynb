{
 "cells": [
  {
   "cell_type": "code",
   "execution_count": 0,
   "metadata": {
    "colab": {
     "base_uri": "https://localhost:8080/",
     "height": 34
    },
    "colab_type": "code",
    "id": "FA3MLi_qIX5x",
    "outputId": "39752ee0-4b04-4e85-e9b9-16b2a62f1df1"
   },
   "outputs": [
    {
     "name": "stdout",
     "output_type": "stream",
     "text": [
      "2.1.0\n"
     ]
    }
   ],
   "source": [
    "%tensorflow_version 2.x\n",
    "import tensorflow as tf\n",
    "print(tf.__version__)"
   ]
  },
  {
   "cell_type": "code",
   "execution_count": 0,
   "metadata": {
    "colab": {
     "base_uri": "https://localhost:8080/",
     "height": 34
    },
    "colab_type": "code",
    "id": "U1s9xJVLIgIW",
    "outputId": "888a68fc-6c1c-433d-f31e-5df27e242a1c"
   },
   "outputs": [
    {
     "name": "stdout",
     "output_type": "stream",
     "text": [
      "Drive already mounted at /content/drive; to attempt to forcibly remount, call drive.mount(\"/content/drive\", force_remount=True).\n"
     ]
    }
   ],
   "source": [
    "from google.colab import drive\n",
    "drive.mount('/content/drive')"
   ]
  },
  {
   "cell_type": "code",
   "execution_count": 0,
   "metadata": {
    "colab": {},
    "colab_type": "code",
    "id": "j1upVPfOIsU7"
   },
   "outputs": [],
   "source": [
    "import os\n",
    "from PIL import Image\n",
    "import numpy as np \n",
    "import pandas as pd \n",
    "import matplotlib.pyplot as plt\n",
    "from sklearn.model_selection import train_test_split\n",
    "from glob import glob\n",
    "import cv2\n",
    "import scipy.misc\n",
    "from skimage import transform\n",
    "from tqdm import tqdm\n",
    "import seaborn as sns\n",
    "from sklearn.metrics import confusion_matrix\n",
    "from sklearn.metrics import classification_report\n",
    "from skimage.transform import resize\n",
    "from keras.models import Model\n",
    "\n",
    "import warnings\n",
    "warnings.filterwarnings(\"ignore\")\n",
    "\n",
    "\n",
    "batch_size =128\n",
    "epochs = 10"
   ]
  },
  {
   "cell_type": "code",
   "execution_count": 0,
   "metadata": {
    "colab": {},
    "colab_type": "code",
    "id": "JF06H54mIzax"
   },
   "outputs": [],
   "source": [
    "import os\n",
    "total_data_path = '/content/drive/My Drive/computervision_assignment2/train.zip (Unzipped Files)/'\n",
    "train_path ='/content/drive/My Drive/computervision_assignment2/train.zip (Unzipped Files)/train/'\n",
    "test_path = '/content/drive/My Drive/computervision_assignment2/test.zip (Unzipped Files)/test/'\n",
    "labels_path ='/content/drive/My Drive/computervision_assignment2/labels.csv.zip (Unzipped Files)/labels.csv'"
   ]
  },
  {
   "cell_type": "code",
   "execution_count": 0,
   "metadata": {
    "colab": {},
    "colab_type": "code",
    "id": "YGQEiTQ4I4P9"
   },
   "outputs": [],
   "source": [
    "from zipfile import ZipFile\n",
    "with ZipFile(\"/content/drive/My Drive/computervision_assignment2/test.zip\",\"r\") as z:\n",
    "  z.extractall()\n",
    "\n",
    "  # zip file extraction for the test dataset\n",
    "\n",
    "\n",
    "from zipfile import ZipFile \n",
    "with ZipFile('/content/drive/My Drive/computervision_assignment2/train.zip','r') as z:\n",
    "  z.extractall()\n",
    "\n",
    "  # Zip file extraction for the train dataset\n",
    "\n",
    "from zipfile import ZipFile \n",
    "with ZipFile('/content/drive/My Drive/computervision_assignment2/labels.csv.zip','r') as z:\n",
    "  z.extractall()\n",
    "\n",
    "  # Label zip file extraction \n",
    "\n",
    "\n",
    "from zipfile import ZipFile\n",
    "with ZipFile('/content/drive/My Drive/computervision_assignment2/sample_submission.csv.zip','r') as z:\n",
    "  z.extractall()\n"
   ]
  },
  {
   "cell_type": "code",
   "execution_count": 0,
   "metadata": {
    "colab": {
     "base_uri": "https://localhost:8080/",
     "height": 359
    },
    "colab_type": "code",
    "id": "CHKazBBfLopQ",
    "outputId": "1ae0dac1-d591-4b69-8460-c8ea737516d4"
   },
   "outputs": [
    {
     "data": {
      "text/html": [
       "<div>\n",
       "<style scoped>\n",
       "    .dataframe tbody tr th:only-of-type {\n",
       "        vertical-align: middle;\n",
       "    }\n",
       "\n",
       "    .dataframe tbody tr th {\n",
       "        vertical-align: top;\n",
       "    }\n",
       "\n",
       "    .dataframe thead th {\n",
       "        text-align: right;\n",
       "    }\n",
       "</style>\n",
       "<table border=\"1\" class=\"dataframe\">\n",
       "  <thead>\n",
       "    <tr style=\"text-align: right;\">\n",
       "      <th></th>\n",
       "      <th>id</th>\n",
       "      <th>breed</th>\n",
       "    </tr>\n",
       "  </thead>\n",
       "  <tbody>\n",
       "    <tr>\n",
       "      <th>0</th>\n",
       "      <td>000bec180eb18c7604dcecc8fe0dba07</td>\n",
       "      <td>boston_bull</td>\n",
       "    </tr>\n",
       "    <tr>\n",
       "      <th>1</th>\n",
       "      <td>001513dfcb2ffafc82cccf4d8bbaba97</td>\n",
       "      <td>dingo</td>\n",
       "    </tr>\n",
       "    <tr>\n",
       "      <th>2</th>\n",
       "      <td>001cdf01b096e06d78e9e5112d419397</td>\n",
       "      <td>pekinese</td>\n",
       "    </tr>\n",
       "    <tr>\n",
       "      <th>3</th>\n",
       "      <td>00214f311d5d2247d5dfe4fe24b2303d</td>\n",
       "      <td>bluetick</td>\n",
       "    </tr>\n",
       "    <tr>\n",
       "      <th>4</th>\n",
       "      <td>0021f9ceb3235effd7fcde7f7538ed62</td>\n",
       "      <td>golden_retriever</td>\n",
       "    </tr>\n",
       "    <tr>\n",
       "      <th>5</th>\n",
       "      <td>002211c81b498ef88e1b40b9abf84e1d</td>\n",
       "      <td>bedlington_terrier</td>\n",
       "    </tr>\n",
       "    <tr>\n",
       "      <th>6</th>\n",
       "      <td>00290d3e1fdd27226ba27a8ce248ce85</td>\n",
       "      <td>bedlington_terrier</td>\n",
       "    </tr>\n",
       "    <tr>\n",
       "      <th>7</th>\n",
       "      <td>002a283a315af96eaea0e28e7163b21b</td>\n",
       "      <td>borzoi</td>\n",
       "    </tr>\n",
       "    <tr>\n",
       "      <th>8</th>\n",
       "      <td>003df8b8a8b05244b1d920bb6cf451f9</td>\n",
       "      <td>basenji</td>\n",
       "    </tr>\n",
       "    <tr>\n",
       "      <th>9</th>\n",
       "      <td>0042188c895a2f14ef64a918ed9c7b64</td>\n",
       "      <td>scottish_deerhound</td>\n",
       "    </tr>\n",
       "  </tbody>\n",
       "</table>\n",
       "</div>"
      ],
      "text/plain": [
       "                                 id               breed\n",
       "0  000bec180eb18c7604dcecc8fe0dba07         boston_bull\n",
       "1  001513dfcb2ffafc82cccf4d8bbaba97               dingo\n",
       "2  001cdf01b096e06d78e9e5112d419397            pekinese\n",
       "3  00214f311d5d2247d5dfe4fe24b2303d            bluetick\n",
       "4  0021f9ceb3235effd7fcde7f7538ed62    golden_retriever\n",
       "5  002211c81b498ef88e1b40b9abf84e1d  bedlington_terrier\n",
       "6  00290d3e1fdd27226ba27a8ce248ce85  bedlington_terrier\n",
       "7  002a283a315af96eaea0e28e7163b21b              borzoi\n",
       "8  003df8b8a8b05244b1d920bb6cf451f9             basenji\n",
       "9  0042188c895a2f14ef64a918ed9c7b64  scottish_deerhound"
      ]
     },
     "execution_count": 161,
     "metadata": {
      "tags": []
     },
     "output_type": "execute_result"
    }
   ],
   "source": [
    "labels = pd.read_csv('labels.csv')\n",
    "labels.head(10)"
   ]
  },
  {
   "cell_type": "code",
   "execution_count": 0,
   "metadata": {
    "colab": {
     "base_uri": "https://localhost:8080/",
     "height": 221
    },
    "colab_type": "code",
    "id": "sgdJIJNsMTY2",
    "outputId": "9f950f6d-4c93-4beb-9c36-a4fceaaf6bc4"
   },
   "outputs": [
    {
     "data": {
      "text/plain": [
       "scottish_deerhound      126\n",
       "maltese_dog             117\n",
       "afghan_hound            116\n",
       "entlebucher             115\n",
       "bernese_mountain_dog    114\n",
       "                       ... \n",
       "golden_retriever         67\n",
       "brabancon_griffon        67\n",
       "komondor                 67\n",
       "briard                   66\n",
       "eskimo_dog               66\n",
       "Name: breed, Length: 120, dtype: int64"
      ]
     },
     "execution_count": 162,
     "metadata": {
      "tags": []
     },
     "output_type": "execute_result"
    }
   ],
   "source": [
    "labels['breed'].value_counts()"
   ]
  },
  {
   "cell_type": "code",
   "execution_count": 0,
   "metadata": {
    "colab": {
     "base_uri": "https://localhost:8080/",
     "height": 34
    },
    "colab_type": "code",
    "id": "kmSNWNQ_MXJ8",
    "outputId": "22e4ae50-9fdb-4e4d-c079-bace679fa2a1"
   },
   "outputs": [
    {
     "data": {
      "text/plain": [
       "120"
      ]
     },
     "execution_count": 163,
     "metadata": {
      "tags": []
     },
     "output_type": "execute_result"
    }
   ],
   "source": [
    "labels['breed'].nunique()"
   ]
  },
  {
   "cell_type": "code",
   "execution_count": 0,
   "metadata": {
    "colab": {
     "base_uri": "https://localhost:8080/",
     "height": 629
    },
    "colab_type": "code",
    "id": "jLZ36eOkMhV2",
    "outputId": "506b3ae5-1ffe-4feb-de73-19fae1460ad1"
   },
   "outputs": [
    {
     "data": {
      "text/plain": [
       "array(['boston_bull', 'dingo', 'pekinese', 'bluetick', 'golden_retriever',\n",
       "       'bedlington_terrier', 'borzoi', 'basenji', 'scottish_deerhound',\n",
       "       'shetland_sheepdog', 'walker_hound', 'maltese_dog',\n",
       "       'norfolk_terrier', 'african_hunting_dog',\n",
       "       'wire-haired_fox_terrier', 'redbone', 'lakeland_terrier', 'boxer',\n",
       "       'doberman', 'otterhound', 'standard_schnauzer',\n",
       "       'irish_water_spaniel', 'black-and-tan_coonhound', 'cairn',\n",
       "       'affenpinscher', 'labrador_retriever', 'ibizan_hound',\n",
       "       'english_setter', 'weimaraner', 'giant_schnauzer', 'groenendael',\n",
       "       'dhole', 'toy_poodle', 'border_terrier', 'tibetan_terrier',\n",
       "       'norwegian_elkhound', 'shih-tzu', 'irish_terrier', 'kuvasz',\n",
       "       'german_shepherd', 'greater_swiss_mountain_dog', 'basset',\n",
       "       'australian_terrier', 'schipperke', 'rhodesian_ridgeback',\n",
       "       'irish_setter', 'appenzeller', 'bloodhound', 'samoyed',\n",
       "       'miniature_schnauzer', 'brittany_spaniel', 'kelpie', 'papillon',\n",
       "       'border_collie', 'entlebucher', 'collie', 'malamute',\n",
       "       'welsh_springer_spaniel', 'chihuahua', 'saluki', 'pug', 'malinois',\n",
       "       'komondor', 'airedale', 'leonberg', 'mexican_hairless',\n",
       "       'bull_mastiff', 'bernese_mountain_dog',\n",
       "       'american_staffordshire_terrier', 'lhasa', 'cardigan',\n",
       "       'italian_greyhound', 'clumber', 'scotch_terrier', 'afghan_hound',\n",
       "       'old_english_sheepdog', 'saint_bernard', 'miniature_pinscher',\n",
       "       'eskimo_dog', 'irish_wolfhound', 'brabancon_griffon',\n",
       "       'toy_terrier', 'chow', 'flat-coated_retriever', 'norwich_terrier',\n",
       "       'soft-coated_wheaten_terrier', 'staffordshire_bullterrier',\n",
       "       'english_foxhound', 'gordon_setter', 'siberian_husky',\n",
       "       'newfoundland', 'briard', 'chesapeake_bay_retriever',\n",
       "       'dandie_dinmont', 'great_pyrenees', 'beagle', 'vizsla',\n",
       "       'west_highland_white_terrier', 'kerry_blue_terrier', 'whippet',\n",
       "       'sealyham_terrier', 'standard_poodle', 'keeshond',\n",
       "       'japanese_spaniel', 'miniature_poodle', 'pomeranian',\n",
       "       'curly-coated_retriever', 'yorkshire_terrier', 'pembroke',\n",
       "       'great_dane', 'blenheim_spaniel', 'silky_terrier',\n",
       "       'sussex_spaniel', 'german_short-haired_pointer', 'french_bulldog',\n",
       "       'bouvier_des_flandres', 'tibetan_mastiff', 'english_springer',\n",
       "       'cocker_spaniel', 'rottweiler'], dtype=object)"
      ]
     },
     "execution_count": 164,
     "metadata": {
      "tags": []
     },
     "output_type": "execute_result"
    }
   ],
   "source": [
    "labels['breed'].unique()"
   ]
  },
  {
   "cell_type": "code",
   "execution_count": 0,
   "metadata": {
    "colab": {
     "base_uri": "https://localhost:8080/",
     "height": 357
    },
    "colab_type": "code",
    "id": "oKTeWO__MmRL",
    "outputId": "6f02b51f-0b12-4fd3-b0c1-97f27d37dc5a"
   },
   "outputs": [
    {
     "data": {
      "text/plain": [
       "['scottish_deerhound',\n",
       " 'maltese_dog',\n",
       " 'afghan_hound',\n",
       " 'entlebucher',\n",
       " 'bernese_mountain_dog',\n",
       " 'shih-tzu',\n",
       " 'pomeranian',\n",
       " 'great_pyrenees',\n",
       " 'basenji',\n",
       " 'samoyed',\n",
       " 'airedale',\n",
       " 'tibetan_terrier',\n",
       " 'cairn',\n",
       " 'leonberg',\n",
       " 'japanese_spaniel',\n",
       " 'beagle',\n",
       " 'australian_terrier',\n",
       " 'miniature_pinscher',\n",
       " 'blenheim_spaniel',\n",
       " 'irish_wolfhound']"
      ]
     },
     "execution_count": 165,
     "metadata": {
      "tags": []
     },
     "output_type": "execute_result"
    }
   ],
   "source": [
    "list(labels['breed'].value_counts().head(20).index)"
   ]
  },
  {
   "cell_type": "code",
   "execution_count": 0,
   "metadata": {
    "colab": {
     "base_uri": "https://localhost:8080/",
     "height": 357
    },
    "colab_type": "code",
    "id": "OsDjezJkM3Ke",
    "outputId": "608c0138-dde5-420d-84be-664901aa0bd7"
   },
   "outputs": [
    {
     "data": {
      "text/plain": [
       "[126,\n",
       " 117,\n",
       " 116,\n",
       " 115,\n",
       " 114,\n",
       " 112,\n",
       " 111,\n",
       " 111,\n",
       " 110,\n",
       " 109,\n",
       " 107,\n",
       " 107,\n",
       " 106,\n",
       " 106,\n",
       " 105,\n",
       " 105,\n",
       " 102,\n",
       " 102,\n",
       " 102,\n",
       " 101]"
      ]
     },
     "execution_count": 166,
     "metadata": {
      "tags": []
     },
     "output_type": "execute_result"
    }
   ],
   "source": [
    "list(labels['breed'].value_counts().head(20))"
   ]
  },
  {
   "cell_type": "code",
   "execution_count": 0,
   "metadata": {
    "colab": {
     "base_uri": "https://localhost:8080/",
     "height": 221
    },
    "colab_type": "code",
    "id": "aTyUCTLzM_fc",
    "outputId": "e2db67ca-52ee-474e-eff9-10e41d95dad8"
   },
   "outputs": [
    {
     "data": {
      "text/plain": [
       "0        False\n",
       "1        False\n",
       "2        False\n",
       "3        False\n",
       "4        False\n",
       "         ...  \n",
       "10217    False\n",
       "10218    False\n",
       "10219     True\n",
       "10220     True\n",
       "10221    False\n",
       "Name: breed, Length: 10222, dtype: bool"
      ]
     },
     "execution_count": 167,
     "metadata": {
      "tags": []
     },
     "output_type": "execute_result"
    }
   ],
   "source": [
    "top_20_breeds = list(labels['breed'].value_counts().head(20).index)\n",
    "labels.breed.isin(top_20_breeds)"
   ]
  },
  {
   "cell_type": "code",
   "execution_count": 0,
   "metadata": {
    "colab": {},
    "colab_type": "code",
    "id": "ZV7jG1tWNUA3"
   },
   "outputs": [],
   "source": [
    "labels_20_breed=labels[labels.breed.isin(top_20_breeds)]"
   ]
  },
  {
   "cell_type": "code",
   "execution_count": 0,
   "metadata": {
    "colab": {
     "base_uri": "https://localhost:8080/",
     "height": 34
    },
    "colab_type": "code",
    "id": "v9iWhBC4NkLm",
    "outputId": "6de52fa0-cd6d-44e9-de7f-66fc9d808bd1"
   },
   "outputs": [
    {
     "data": {
      "text/plain": [
       "2184"
      ]
     },
     "execution_count": 169,
     "metadata": {
      "tags": []
     },
     "output_type": "execute_result"
    }
   ],
   "source": [
    "len(labels_20_breed)"
   ]
  },
  {
   "cell_type": "code",
   "execution_count": 0,
   "metadata": {
    "colab": {
     "base_uri": "https://localhost:8080/",
     "height": 389
    },
    "colab_type": "code",
    "id": "QfAnR3hDOCO1",
    "outputId": "2e2a5519-65f6-40ea-dd7f-e63bfa781335"
   },
   "outputs": [
    {
     "data": {
      "text/plain": [
       "<matplotlib.axes._subplots.AxesSubplot at 0x7f9c86da4c88>"
      ]
     },
     "execution_count": 170,
     "metadata": {
      "tags": []
     },
     "output_type": "execute_result"
    },
    {
     "data": {
      "image/png": "[encoded data removed]",
      "text/plain": [
       "<Figure size 432x288 with 1 Axes>"
      ]
     },
     "metadata": {
      "tags": []
     },
     "output_type": "display_data"
    }
   ],
   "source": [
    "plot_for_20_breed=labels_20_breed['breed'].value_counts()\n",
    "plot_for_20_breed.plot(kind= 'bar')"
   ]
  },
  {
   "cell_type": "code",
   "execution_count": 0,
   "metadata": {
    "colab": {},
    "colab_type": "code",
    "id": "L3W3eHtONlOJ"
   },
   "outputs": [],
   "source": [
    "# import matplotlib.pyplot\n",
    "# matplotlib.pyplot.bar(labels_20_breed['breed'],height = 100,orientation = 'horizontal')"
   ]
  },
  {
   "cell_type": "code",
   "execution_count": 0,
   "metadata": {
    "colab": {},
    "colab_type": "code",
    "id": "9gGxFcxDdVKN"
   },
   "outputs": [],
   "source": []
  },
  {
   "cell_type": "markdown",
   "metadata": {
    "colab_type": "text",
    "id": "TKYfwtNmdYV_"
   },
   "source": [
    "Get one hot Encoded for labels"
   ]
  },
  {
   "cell_type": "code",
   "execution_count": 0,
   "metadata": {
    "colab": {},
    "colab_type": "code",
    "id": "SMER22WaNz4j"
   },
   "outputs": [],
   "source": [
    "# y(label) value should be one hot enocoded for fit \n",
    "\n",
    "dog_type = (labels['breed'])\n",
    "\n",
    "dog_type_hot_coded = pd.get_dummies(dog_type)\n",
    "#type(dog_type_hot_coded)\n",
    "dog_type_hot_coded_array = np.asarray(dog_type_hot_coded)"
   ]
  },
  {
   "cell_type": "markdown",
   "metadata": {
    "colab_type": "text",
    "id": "VWaJ9naXfoiU"
   },
   "source": [
    "## Preparing training dataset\n",
    "1. Write a code which reads each and every id from labels.csv file and loads the corresponding image (in RGB - 128, 128, 3) from the train folder. <br>\n",
    "2. Create 2 variables <br> \n",
    "     a.  x_train - Should have all the images of the dogs from train folder <br>\n",
    "     b.  y_train - Corresponding label of the dog <br>\n",
    "<u>Note:</u> The id of the dog images and its corresponding labels are available in labels.csv file   \n",
    "<u>Hint:</u> Watch the video shared on \"Preparing the training dataset\" if you face issue on creating the training dataset"
   ]
  },
  {
   "cell_type": "code",
   "execution_count": 0,
   "metadata": {
    "colab": {
     "base_uri": "https://localhost:8080/",
     "height": 153
    },
    "colab_type": "code",
    "id": "w3UT_nsTeW57",
    "outputId": "552c107c-459d-4e8a-b172-7788c10deafd"
   },
   "outputs": [
    {
     "data": {
      "text/plain": [
       "array([['000bec180eb18c7604dcecc8fe0dba07', 'boston_bull'],\n",
       "       ['001513dfcb2ffafc82cccf4d8bbaba97', 'dingo'],\n",
       "       ['001cdf01b096e06d78e9e5112d419397', 'pekinese'],\n",
       "       ...,\n",
       "       ['ffe2ca6c940cddfee68fa3cc6c63213f', 'airedale'],\n",
       "       ['ffe5f6d8e2bff356e9482a80a6e29aac', 'miniature_pinscher'],\n",
       "       ['fff43b07992508bc822f33d8ffd902ae', 'chesapeake_bay_retriever']],\n",
       "      dtype=object)"
      ]
     },
     "execution_count": 173,
     "metadata": {
      "tags": []
     },
     "output_type": "execute_result"
    }
   ],
   "source": [
    "labels.values"
   ]
  },
  {
   "cell_type": "code",
   "execution_count": 0,
   "metadata": {
    "colab": {
     "base_uri": "https://localhost:8080/",
     "height": 34
    },
    "colab_type": "code",
    "id": "neP2XRHTd4Cd",
    "outputId": "cc2e4137-5e58-4de2-d8bf-196310a68ac3"
   },
   "outputs": [
    {
     "name": "stderr",
     "output_type": "stream",
     "text": [
      "100%|██████████| 10222/10222 [00:28<00:00, 354.11it/s]\n"
     ]
    }
   ],
   "source": [
    "y_train_data = []\n",
    "X_train_data = []\n",
    "i=0\n",
    "for image,breed in tqdm(labels.values):\n",
    "  \n",
    "  img = cv2.imread('./train/{}.jpg'.format(image))\n",
    "  label = dog_type_hot_coded_array[i]\n",
    "  X_train_data.append(cv2.resize(img,(128,128)))\n",
    "  y_train_data.append(label)\n",
    "  i+=1\n"
   ]
  },
  {
   "cell_type": "code",
   "execution_count": 0,
   "metadata": {
    "colab": {},
    "colab_type": "code",
    "id": "by7vc-pChpY0"
   },
   "outputs": [],
   "source": [
    "import pickle\n",
    "pickle_out = open('/content/drive/My Drive/computervision_assignment2/train.zip (Unzipped Files)/train/x_train_data.pickle','wb')\n",
    "pickle.dump(X_train_data,pickle_out)\n",
    "pickle_out.close()\n",
    "\n",
    "pickle_out = open('/content/drive/My Drive/computervision_assignment2/test.zip (Unzipped Files)/test/y_test_data.pickle','wb')\n",
    "pickle.dump(y_train_data,pickle_out)\n",
    "pickle_out.close()\n",
    "\n",
    "\n",
    "\n",
    "# Pickle module implements  binary protocal for deserialization and serialization  of Python Objects\n",
    "# Serialization(Pickling) : Converting the python object into byte stream\n",
    "# Deserialization(Unpickling) : Inverse of the above"
   ]
  },
  {
   "cell_type": "markdown",
   "metadata": {
    "colab_type": "text",
    "id": "KmWO_GbJmhjx"
   },
   "source": [
    "##Normalize the training data and convert into 4 dimensions so that it can be used as an input to conv layers in the model"
   ]
  },
  {
   "cell_type": "code",
   "execution_count": 0,
   "metadata": {
    "colab": {},
    "colab_type": "code",
    "id": "gTfHq5PvlTmg"
   },
   "outputs": [],
   "source": [
    "# Normalizing the training data requires the X_train_data\n",
    "#X_train_data    # Their values ranges from 0 to 255\n",
    "# X_train_data = X_train_data.astype(int)/255\n",
    "  \n",
    "y_train_data = np.array(y_train_data)                             # Already one hot encoded, hence normalization is not needed\n",
    "X_train_data = np.array(X_train_data)\n",
    "X_train_data = X_train_data/255\n",
    "\n",
    "# print(X_train_data)                                             # Their values are between 0 to 1 \n",
    "# print(X_train_data.shape)                                       # The shape is found to be (10222, 128, 128, 3)"
   ]
  },
  {
   "cell_type": "markdown",
   "metadata": {
    "colab_type": "text",
    "id": "cNxEjJMpqWZo"
   },
   "source": [
    "### Split the training and validation data from `x_train_data` and `y_train_data` obtained from above step"
   ]
  },
  {
   "cell_type": "code",
   "execution_count": 0,
   "metadata": {
    "colab": {},
    "colab_type": "code",
    "id": "WcC4KkR7o54X"
   },
   "outputs": [],
   "source": [
    "from sklearn.model_selection import train_test_split\n",
    "X_train, X_test, y_train,y_test = train_test_split(X_train_data,y_train_data,test_size=0.30, random_state =5) "
   ]
  },
  {
   "cell_type": "code",
   "execution_count": 0,
   "metadata": {
    "colab": {
     "base_uri": "https://localhost:8080/",
     "height": 34
    },
    "colab_type": "code",
    "id": "4nLz01bNq33E",
    "outputId": "81bee101-82df-4d0c-b390-d1092ecc5009"
   },
   "outputs": [
    {
     "data": {
      "text/plain": [
       "(7155, 128, 128, 3)"
      ]
     },
     "execution_count": 178,
     "metadata": {
      "tags": []
     },
     "output_type": "execute_result"
    }
   ],
   "source": [
    "X_train.shape"
   ]
  },
  {
   "cell_type": "code",
   "execution_count": 0,
   "metadata": {
    "colab": {
     "base_uri": "https://localhost:8080/",
     "height": 34
    },
    "colab_type": "code",
    "id": "wlEFW0mDq5A3",
    "outputId": "95cc78dc-143d-48a5-8d28-96305534e226"
   },
   "outputs": [
    {
     "data": {
      "text/plain": [
       "(3067, 128, 128, 3)"
      ]
     },
     "execution_count": 179,
     "metadata": {
      "tags": []
     },
     "output_type": "execute_result"
    }
   ],
   "source": [
    "X_test.shape"
   ]
  },
  {
   "cell_type": "code",
   "execution_count": 0,
   "metadata": {
    "colab": {
     "base_uri": "https://localhost:8080/",
     "height": 34
    },
    "colab_type": "code",
    "id": "xHTIhUFdq9Z4",
    "outputId": "9477a681-e149-4138-fda0-0d28ce5c8814"
   },
   "outputs": [
    {
     "data": {
      "text/plain": [
       "(7155, 120)"
      ]
     },
     "execution_count": 180,
     "metadata": {
      "tags": []
     },
     "output_type": "execute_result"
    }
   ],
   "source": [
    "y_train.shape\n"
   ]
  },
  {
   "cell_type": "code",
   "execution_count": 0,
   "metadata": {
    "colab": {
     "base_uri": "https://localhost:8080/",
     "height": 34
    },
    "colab_type": "code",
    "id": "Ls7ExiCirEqc",
    "outputId": "b58dc2fa-5aaa-47f9-863e-7474861ccfd8"
   },
   "outputs": [
    {
     "data": {
      "text/plain": [
       "(7155, 120)"
      ]
     },
     "execution_count": 181,
     "metadata": {
      "tags": []
     },
     "output_type": "execute_result"
    }
   ],
   "source": [
    "y_train.shape"
   ]
  },
  {
   "cell_type": "markdown",
   "metadata": {
    "colab_type": "text",
    "id": "DjlAOQJ-w2Qe"
   },
   "source": [
    "### Loading the test data\n",
    "Read the id column from the samples_submission.csv and store it in test_img"
   ]
  },
  {
   "cell_type": "code",
   "execution_count": 0,
   "metadata": {
    "colab": {
     "base_uri": "https://localhost:8080/",
     "height": 204
    },
    "colab_type": "code",
    "id": "S80-JWAcwfav",
    "outputId": "a14df967-a39c-4467-84da-c696c58d1b4f"
   },
   "outputs": [
    {
     "data": {
      "text/plain": [
       "0    000621fb3cbb32d8935728e48679680e\n",
       "1    00102ee9d8eb90812350685311fe5890\n",
       "2    0012a730dfa437f5f3613fb75efcd4ce\n",
       "3    001510bc8570bbeee98c8d80c8a95ec1\n",
       "4    001a5f3114548acdefa3d4da05474c2e\n",
       "5    00225dcd3e4d2410dd53239f95c0352f\n",
       "6    002c2a3117c2193b4d26400ce431eebd\n",
       "7    002c58d413a521ae8d1a5daeb35fc803\n",
       "8    002f80396f1e3db687c5932d7978b196\n",
       "9    0036c6bcec6031be9e62a257b1c3c442\n",
       "Name: id, dtype: object"
      ]
     },
     "execution_count": 182,
     "metadata": {
      "tags": []
     },
     "output_type": "execute_result"
    }
   ],
   "source": [
    "test_data = pd.read_csv('sample_submission.csv')\n",
    "# test_data\n",
    "\n",
    "test_img = test_data['id']\n",
    "test_img.head(10)"
   ]
  },
  {
   "cell_type": "code",
   "execution_count": 0,
   "metadata": {
    "colab": {
     "base_uri": "https://localhost:8080/",
     "height": 34
    },
    "colab_type": "code",
    "id": "qsFikaPfy3Ga",
    "outputId": "43b748bb-44a2-4426-87f2-73956e6c233f"
   },
   "outputs": [
    {
     "name": "stderr",
     "output_type": "stream",
     "text": [
      "100%|██████████| 10357/10357 [00:29<00:00, 345.58it/s]\n"
     ]
    }
   ],
   "source": [
    "#y_train_data = []\n",
    "X_test_data = []\n",
    "i=0\n",
    "for image in tqdm(test_img.values):\n",
    "  \n",
    "  img = cv2.imread('./test/{}.jpg'.format(image))\n",
    "  # label = dog_type_hot_coded_array[i]\n",
    "  X_test_data.append(cv2.resize(img,(128,128)))\n",
    "  # y_train_data.append(label)\n",
    "  # i+=1\n"
   ]
  },
  {
   "cell_type": "markdown",
   "metadata": {
    "colab_type": "text",
    "id": "q89NcBtz0d7i"
   },
   "source": [
    "#Normalize the test data and convert it into 4 dimensions"
   ]
  },
  {
   "cell_type": "code",
   "execution_count": 0,
   "metadata": {
    "colab": {},
    "colab_type": "code",
    "id": "BFcOK5p90Nq_"
   },
   "outputs": [],
   "source": [
    "X_test_data = np.array(X_test)\n",
    "X_test_data = X_test_data/255"
   ]
  },
  {
   "cell_type": "markdown",
   "metadata": {
    "colab_type": "text",
    "id": "e7FcWGYT0l0R"
   },
   "source": [
    "### Build a basic conv neural network with 2 conv layers (kernel sizes - 5 and 3) add layers as mentioned below for classification.\n",
    "\n",
    "1. Add a Dense layer with 256 neurons with `relu` activation\n",
    "\n",
    "2. Add a Dense layer with 120 neurons as final layer (as there are 120 classes in the given dataset) with `softmax` activation for classifiaction. "
   ]
  },
  {
   "cell_type": "code",
   "execution_count": 0,
   "metadata": {
    "colab": {
     "base_uri": "https://localhost:8080/",
     "height": 391
    },
    "colab_type": "code",
    "id": "ZBSnvsGF0cEw",
    "outputId": "15b9f329-74f2-4178-d306-c3a166583a4a"
   },
   "outputs": [
    {
     "name": "stdout",
     "output_type": "stream",
     "text": [
      "Model: \"sequential_7\"\n",
      "_________________________________________________________________\n",
      "Layer (type)                 Output Shape              Param #   \n",
      "=================================================================\n",
      "conv2d_7 (Conv2D)            (None, 124, 124, 32)      2432      \n",
      "_________________________________________________________________\n",
      "batch_normalization_3 (Batch (None, 124, 124, 32)      128       \n",
      "_________________________________________________________________\n",
      "conv2d_8 (Conv2D)            (None, 122, 122, 64)      18496     \n",
      "_________________________________________________________________\n",
      "max_pooling2d_3 (MaxPooling2 (None, 61, 61, 64)        0         \n",
      "_________________________________________________________________\n",
      "flatten_3 (Flatten)          (None, 238144)            0         \n",
      "_________________________________________________________________\n",
      "dense_13 (Dense)             (None, 256)               60965120  \n",
      "_________________________________________________________________\n",
      "dense_14 (Dense)             (None, 120)               30840     \n",
      "=================================================================\n",
      "Total params: 61,017,016\n",
      "Trainable params: 61,016,952\n",
      "Non-trainable params: 64\n",
      "_________________________________________________________________\n"
     ]
    }
   ],
   "source": [
    "#from tf.keras.models import Sequential\n",
    "input_shape = (128,128,3)                                                          # Height, width and channel\n",
    "model = tf.keras.models.Sequential()\n",
    "model.add(tf.keras.layers.Conv2D(32,kernel_size=5,input_shape = input_shape,activation = 'relu'))\n",
    "model.add(tf.keras.layers.BatchNormalization())\n",
    "model.add(tf.keras.layers.Conv2D(64,kernel_size=3,activation = 'relu'))\n",
    "model.add(tf.keras.layers.MaxPooling2D(pool_size = (2,2)))\n",
    "model.add(tf.keras.layers.Flatten())                                                 # Flattening for applying the input to the Dense layers\n",
    "model.add(tf.keras.layers.Dense(256,activation = 'relu'))\n",
    "model.add(tf.keras.layers.Dense(120,activation = 'softmax'))\n",
    "model.summary()"
   ]
  },
  {
   "cell_type": "markdown",
   "metadata": {
    "colab_type": "text",
    "id": "9WMzol4V3QMv"
   },
   "source": [
    "### Use batch_size = 128 and epochs = 10 and execute the model"
   ]
  },
  {
   "cell_type": "code",
   "execution_count": 0,
   "metadata": {
    "colab": {
     "base_uri": "https://localhost:8080/",
     "height": 391
    },
    "colab_type": "code",
    "id": "NcP1Cdgx3RSO",
    "outputId": "25112a8a-22cf-4bd6-cadc-f92bc0dd7c5b"
   },
   "outputs": [
    {
     "name": "stdout",
     "output_type": "stream",
     "text": [
      "Train on 7155 samples, validate on 3067 samples\n",
      "Epoch 1/10\n",
      "7155/7155 [==============================] - 7s 975us/sample - loss: 4.8229 - accuracy: 0.0119 - val_loss: 4.7875 - val_accuracy: 0.0078\n",
      "Epoch 2/10\n",
      "7155/7155 [==============================] - 6s 891us/sample - loss: 4.7276 - accuracy: 0.0224 - val_loss: 4.7881 - val_accuracy: 0.0091\n",
      "Epoch 3/10\n",
      "7155/7155 [==============================] - 6s 896us/sample - loss: 4.6664 - accuracy: 0.0296 - val_loss: 4.7919 - val_accuracy: 0.0101\n",
      "Epoch 4/10\n",
      "7155/7155 [==============================] - 6s 890us/sample - loss: 4.6025 - accuracy: 0.0396 - val_loss: 4.8026 - val_accuracy: 0.0101\n",
      "Epoch 5/10\n",
      "7155/7155 [==============================] - 6s 891us/sample - loss: 4.5330 - accuracy: 0.0509 - val_loss: 4.8213 - val_accuracy: 0.0108\n",
      "Epoch 6/10\n",
      "7155/7155 [==============================] - 6s 889us/sample - loss: 4.4624 - accuracy: 0.0604 - val_loss: 4.8515 - val_accuracy: 0.0121\n",
      "Epoch 7/10\n",
      "7155/7155 [==============================] - 6s 890us/sample - loss: 4.3881 - accuracy: 0.0794 - val_loss: 4.8976 - val_accuracy: 0.0098\n",
      "Epoch 8/10\n",
      "7155/7155 [==============================] - 6s 893us/sample - loss: 4.3122 - accuracy: 0.0955 - val_loss: 4.9448 - val_accuracy: 0.0098\n",
      "Epoch 9/10\n",
      "7155/7155 [==============================] - 6s 889us/sample - loss: 4.2346 - accuracy: 0.1133 - val_loss: 5.0013 - val_accuracy: 0.0108\n",
      "Epoch 10/10\n",
      "7155/7155 [==============================] - 6s 894us/sample - loss: 4.1568 - accuracy: 0.1263 - val_loss: 5.0458 - val_accuracy: 0.0101\n"
     ]
    },
    {
     "data": {
      "text/plain": [
       "<tensorflow.python.keras.callbacks.History at 0x7f9c846ed668>"
      ]
     },
     "execution_count": 186,
     "metadata": {
      "tags": []
     },
     "output_type": "execute_result"
    }
   ],
   "source": [
    "batch_size = 128\n",
    "epochs = 10\n",
    "model.compile(optimizer= tf.keras.optimizers.Adam(learning_rate=1e-6),loss = 'categorical_crossentropy',metrics=['accuracy'])\n",
    "model.fit(X_train,y_train, validation_data= [X_test_data,y_test], batch_size= batch_size , epochs= epochs)"
   ]
  },
  {
   "cell_type": "markdown",
   "metadata": {
    "colab_type": "text",
    "id": "nc6h9GhO6ZiN"
   },
   "source": [
    "#The model accuracy is very poor !!!!\n",
    "### Use Data Augmentation in the above model to see if the accuracy improves"
   ]
  },
  {
   "cell_type": "code",
   "execution_count": 0,
   "metadata": {
    "colab": {},
    "colab_type": "code",
    "id": "GeX6BWOm3oEQ"
   },
   "outputs": [],
   "source": [
    "from keras.preprocessing.image import ImageDataGenerator"
   ]
  },
  {
   "cell_type": "code",
   "execution_count": 0,
   "metadata": {
    "colab": {},
    "colab_type": "code",
    "id": "x2nT4RJy6hAl"
   },
   "outputs": [],
   "source": [
    "train_data_generator = ImageDataGenerator(rotation_range = 5,zoom_range =0.2,\n",
    "                                          horizontal_flip =False, fill_mode)"
   ]
  },
  {
   "cell_type": "code",
   "execution_count": 0,
   "metadata": {
    "colab": {},
    "colab_type": "code",
    "id": "JpzGb-hQ6g-J"
   },
   "outputs": [],
   "source": [
    "validation_data_generator = ImageDataGenerator(rotation_range = 5,zoom_range =0.2,\n",
    "                                          horizontal_flip =False, fill_mode = 'nearest')"
   ]
  },
  {
   "cell_type": "markdown",
   "metadata": {
    "colab_type": "text",
    "id": "3HWCgDCE7enn"
   },
   "source": [
    "### Using the above objects, create the image generators with variable names `train_generator` and `val_generator`\n",
    "\n",
    "You need to use train_datagen.flow() and val_datagen.flow()"
   ]
  },
  {
   "cell_type": "code",
   "execution_count": 0,
   "metadata": {
    "colab": {},
    "colab_type": "code",
    "id": "H2ovf7Js7SU-"
   },
   "outputs": [],
   "source": [
    "train_generator = train_data_generator.flow(X_train,y_train)\n",
    "val_generator        = validation_data_generator.flow(X_test_data,y_test)"
   ]
  },
  {
   "cell_type": "markdown",
   "metadata": {
    "colab_type": "text",
    "id": "31Dw7jXN8EOZ"
   },
   "source": [
    "### Fit the model using fit_generator() using `train_generator` and `val_generator` from the above step with 10 epochs"
   ]
  },
  {
   "cell_type": "code",
   "execution_count": 0,
   "metadata": {
    "colab": {
     "base_uri": "https://localhost:8080/",
     "height": 527
    },
    "colab_type": "code",
    "id": "nakFVtGi79sO",
    "outputId": "7035f666-b3fd-4cf1-9bfc-db84bc8e26c6"
   },
   "outputs": [
    {
     "name": "stdout",
     "output_type": "stream",
     "text": [
      "WARNING:tensorflow:sample_weight modes were coerced from\n",
      "  ...\n",
      "    to  \n",
      "  ['...']\n",
      "WARNING:tensorflow:sample_weight modes were coerced from\n",
      "  ...\n",
      "    to  \n",
      "  ['...']\n",
      "Train for 224 steps, validate for 96 steps\n",
      "Epoch 1/10\n",
      "224/224 [==============================] - 33s 146ms/step - loss: 4.4223 - accuracy: 0.0591 - val_loss: 5.2211 - val_accuracy: 0.0108\n",
      "Epoch 2/10\n",
      "224/224 [==============================] - 31s 140ms/step - loss: 4.3199 - accuracy: 0.0783 - val_loss: 5.2713 - val_accuracy: 0.0101\n",
      "Epoch 3/10\n",
      "224/224 [==============================] - 32s 144ms/step - loss: 4.2484 - accuracy: 0.0900 - val_loss: 5.3130 - val_accuracy: 0.0101\n",
      "Epoch 4/10\n",
      "224/224 [==============================] - 32s 144ms/step - loss: 4.1834 - accuracy: 0.0980 - val_loss: 5.4202 - val_accuracy: 0.0101\n",
      "Epoch 5/10\n",
      "224/224 [==============================] - 32s 142ms/step - loss: 4.1270 - accuracy: 0.1041 - val_loss: 5.4788 - val_accuracy: 0.0101\n",
      "Epoch 6/10\n",
      "224/224 [==============================] - 31s 139ms/step - loss: 4.0649 - accuracy: 0.1185 - val_loss: 5.5127 - val_accuracy: 0.0108\n",
      "Epoch 7/10\n",
      "224/224 [==============================] - 32s 142ms/step - loss: 4.0331 - accuracy: 0.1229 - val_loss: 5.5550 - val_accuracy: 0.0108\n",
      "Epoch 8/10\n",
      "224/224 [==============================] - 33s 146ms/step - loss: 3.9847 - accuracy: 0.1315 - val_loss: 5.5772 - val_accuracy: 0.0108\n",
      "Epoch 9/10\n",
      "224/224 [==============================] - 32s 142ms/step - loss: 3.9342 - accuracy: 0.1466 - val_loss: 5.6136 - val_accuracy: 0.0108\n",
      "Epoch 10/10\n",
      "224/224 [==============================] - 31s 140ms/step - loss: 3.8798 - accuracy: 0.1514 - val_loss: 5.7412 - val_accuracy: 0.0108\n"
     ]
    },
    {
     "data": {
      "text/plain": [
       "<tensorflow.python.keras.callbacks.History at 0x7f9c84649748>"
      ]
     },
     "execution_count": 191,
     "metadata": {
      "tags": []
     },
     "output_type": "execute_result"
    }
   ],
   "source": [
    "model.fit_generator(train_generator,validation_data = val_generator ,verbose = 1, epochs=10 )"
   ]
  },
  {
   "cell_type": "markdown",
   "metadata": {
    "colab_type": "text",
    "id": "r9E5RTn8AsLN"
   },
   "source": [
    "# Model accuracy is still poor!!!"
   ]
  },
  {
   "cell_type": "markdown",
   "metadata": {
    "colab_type": "text",
    "id": "BrmV7i5oAsPW"
   },
   "source": [
    "### Lets use Transfer Learning\n",
    "\n",
    "Download the vgg wieght file from here : https://github.com/MinerKasch/applied_deep_learning/blob/master/vgg16_weights_tf_dim_ordering_tf_kernels_notop.h5"
   ]
  },
  {
   "cell_type": "markdown",
   "metadata": {
    "colab_type": "text",
    "id": "ldHppSSzA3oj"
   },
   "source": [
    "Use the below code to load VGG16 weights trained on ImageNet"
   ]
  },
  {
   "cell_type": "code",
   "execution_count": 0,
   "metadata": {
    "colab": {},
    "colab_type": "code",
    "id": "_izhUVN19EWj"
   },
   "outputs": [],
   "source": [
    "from keras.applications.vgg16 import VGG16, preprocess_input\n",
    "\n",
    "\n",
    "project_path  = '/content/drive/My Drive/computervision_assignment2/'\n",
    "\n",
    "# Instantiate the model with the pre-trained weights (no top)\n",
    "base_model= tf.keras.applications.VGG16(weights=(project_path+'vgg16_weights_tf_dim_ordering_tf_kernels_notop.h5'),\n",
    "                 include_top=False, pooling='avg')"
   ]
  },
  {
   "cell_type": "markdown",
   "metadata": {
    "colab_type": "text",
    "id": "Iemp0rNrCLNZ"
   },
   "source": [
    "Print the summary of the base_model"
   ]
  },
  {
   "cell_type": "code",
   "execution_count": 0,
   "metadata": {
    "colab": {
     "base_uri": "https://localhost:8080/",
     "height": 833
    },
    "colab_type": "code",
    "id": "kOPAQiVEA53J",
    "outputId": "8dc2c773-41b2-47fd-a50a-54547f4672d5"
   },
   "outputs": [
    {
     "name": "stdout",
     "output_type": "stream",
     "text": [
      "Model: \"vgg16\"\n",
      "_________________________________________________________________\n",
      "Layer (type)                 Output Shape              Param #   \n",
      "=================================================================\n",
      "input_3 (InputLayer)         [(None, None, None, 3)]   0         \n",
      "_________________________________________________________________\n",
      "block1_conv1 (Conv2D)        (None, None, None, 64)    1792      \n",
      "_________________________________________________________________\n",
      "block1_conv2 (Conv2D)        (None, None, None, 64)    36928     \n",
      "_________________________________________________________________\n",
      "block1_pool (MaxPooling2D)   (None, None, None, 64)    0         \n",
      "_________________________________________________________________\n",
      "block2_conv1 (Conv2D)        (None, None, None, 128)   73856     \n",
      "_________________________________________________________________\n",
      "block2_conv2 (Conv2D)        (None, None, None, 128)   147584    \n",
      "_________________________________________________________________\n",
      "block2_pool (MaxPooling2D)   (None, None, None, 128)   0         \n",
      "_________________________________________________________________\n",
      "block3_conv1 (Conv2D)        (None, None, None, 256)   295168    \n",
      "_________________________________________________________________\n",
      "block3_conv2 (Conv2D)        (None, None, None, 256)   590080    \n",
      "_________________________________________________________________\n",
      "block3_conv3 (Conv2D)        (None, None, None, 256)   590080    \n",
      "_________________________________________________________________\n",
      "block3_pool (MaxPooling2D)   (None, None, None, 256)   0         \n",
      "_________________________________________________________________\n",
      "block4_conv1 (Conv2D)        (None, None, None, 512)   1180160   \n",
      "_________________________________________________________________\n",
      "block4_conv2 (Conv2D)        (None, None, None, 512)   2359808   \n",
      "_________________________________________________________________\n",
      "block4_conv3 (Conv2D)        (None, None, None, 512)   2359808   \n",
      "_________________________________________________________________\n",
      "block4_pool (MaxPooling2D)   (None, None, None, 512)   0         \n",
      "_________________________________________________________________\n",
      "block5_conv1 (Conv2D)        (None, None, None, 512)   2359808   \n",
      "_________________________________________________________________\n",
      "block5_conv2 (Conv2D)        (None, None, None, 512)   2359808   \n",
      "_________________________________________________________________\n",
      "block5_conv3 (Conv2D)        (None, None, None, 512)   2359808   \n",
      "_________________________________________________________________\n",
      "block5_pool (MaxPooling2D)   (None, None, None, 512)   0         \n",
      "_________________________________________________________________\n",
      "global_average_pooling2d_2 ( (None, 512)               0         \n",
      "=================================================================\n",
      "Total params: 14,714,688\n",
      "Trainable params: 14,714,688\n",
      "Non-trainable params: 0\n",
      "_________________________________________________________________\n"
     ]
    }
   ],
   "source": [
    "base_model.summary()"
   ]
  },
  {
   "cell_type": "markdown",
   "metadata": {
    "colab_type": "text",
    "id": "zkzVAsH_CTex"
   },
   "source": [
    "### Add the following classification layers to the imported VGG Model <br>\n",
    "1. Flatten Layer\n",
    "2. Dense layer with 1024 neurons with activation as Relu\n",
    "3. Dense layer with 256 neurons with activation as Relu\n",
    "4. Dense layer with 120 neurons with activation as Softmax"
   ]
  },
  {
   "cell_type": "code",
   "execution_count": 0,
   "metadata": {
    "colab": {},
    "colab_type": "code",
    "id": "REVAaA6kCO-i"
   },
   "outputs": [],
   "source": [
    "# base_model.add(tf.keras.layers.Flatten()) \n",
    "# base_model.add(tf.keras.layers.Dense(1024,activation = 'relu'))\n",
    "# base_model.add(tf.keras.layers.Dense(256,activation = 'relu'))\n",
    "# base_model.add(tf.keras.layers.Dense(120,activation = 'softmax'))\n",
    "# model.summary()"
   ]
  },
  {
   "cell_type": "markdown",
   "metadata": {
    "colab_type": "text",
    "id": "aglgGpq8C2sl"
   },
   "source": [
    "### Make all the layers in the base_model (VGG16) to be non-trainable"
   ]
  },
  {
   "cell_type": "code",
   "execution_count": 0,
   "metadata": {
    "colab": {
     "base_uri": "https://localhost:8080/",
     "height": 289
    },
    "colab_type": "code",
    "id": "ft4UKRlECjo4",
    "outputId": "ab758b0f-7747-499d-b203-ea06eeaff452"
   },
   "outputs": [
    {
     "name": "stdout",
     "output_type": "stream",
     "text": [
      "Model: \"sequential_8\"\n",
      "_________________________________________________________________\n",
      "Layer (type)                 Output Shape              Param #   \n",
      "=================================================================\n",
      "vgg16 (Model)                (None, 512)               14714688  \n",
      "_________________________________________________________________\n",
      "dense_15 (Dense)             (None, 1024)              525312    \n",
      "_________________________________________________________________\n",
      "dense_16 (Dense)             (None, 256)               262400    \n",
      "_________________________________________________________________\n",
      "dense_17 (Dense)             (None, 120)               30840     \n",
      "=================================================================\n",
      "Total params: 15,533,240\n",
      "Trainable params: 818,552\n",
      "Non-trainable params: 14,714,688\n",
      "_________________________________________________________________\n"
     ]
    }
   ],
   "source": [
    "base_model.trainable = False\n",
    "# \n",
    "model1 = tf.keras.models.Sequential()\n",
    "model1.add(base_model)\n",
    "model1.add(tf.keras.layers.Dense(1024,activation = 'relu'))\n",
    "model1.add(tf.keras.layers.Dense(256,activation = 'relu'))\n",
    "model1.add(tf.keras.layers.Dense(120,activation = 'softmax'))\n",
    "model1.summary()"
   ]
  },
  {
   "cell_type": "code",
   "execution_count": 0,
   "metadata": {
    "colab": {
     "base_uri": "https://localhost:8080/",
     "height": 391
    },
    "colab_type": "code",
    "id": "AyOwNKhaEUBh",
    "outputId": "f7736628-79b3-498e-8c86-2d66f5c86ede"
   },
   "outputs": [
    {
     "name": "stdout",
     "output_type": "stream",
     "text": [
      "Train on 7155 samples, validate on 3067 samples\n",
      "Epoch 1/10\n",
      "7155/7155 [==============================] - 9s 1ms/sample - loss: 4.8402 - accuracy: 0.0075 - val_loss: 4.8312 - val_accuracy: 0.0065\n",
      "Epoch 2/10\n",
      "7155/7155 [==============================] - 8s 1ms/sample - loss: 4.8371 - accuracy: 0.0075 - val_loss: 4.8296 - val_accuracy: 0.0065\n",
      "Epoch 3/10\n",
      "7155/7155 [==============================] - 8s 1ms/sample - loss: 4.8342 - accuracy: 0.0078 - val_loss: 4.8281 - val_accuracy: 0.0065\n",
      "Epoch 4/10\n",
      "7155/7155 [==============================] - 8s 1ms/sample - loss: 4.8315 - accuracy: 0.0075 - val_loss: 4.8266 - val_accuracy: 0.0065\n",
      "Epoch 5/10\n",
      "7155/7155 [==============================] - 8s 1ms/sample - loss: 4.8289 - accuracy: 0.0075 - val_loss: 4.8252 - val_accuracy: 0.0065\n",
      "Epoch 6/10\n",
      "7155/7155 [==============================] - 8s 1ms/sample - loss: 4.8264 - accuracy: 0.0074 - val_loss: 4.8239 - val_accuracy: 0.0065\n",
      "Epoch 7/10\n",
      "7155/7155 [==============================] - 8s 1ms/sample - loss: 4.8241 - accuracy: 0.0074 - val_loss: 4.8227 - val_accuracy: 0.0065\n",
      "Epoch 8/10\n",
      "7155/7155 [==============================] - 8s 1ms/sample - loss: 4.8218 - accuracy: 0.0077 - val_loss: 4.8215 - val_accuracy: 0.0065\n",
      "Epoch 9/10\n",
      "7155/7155 [==============================] - 8s 1ms/sample - loss: 4.8196 - accuracy: 0.0074 - val_loss: 4.8204 - val_accuracy: 0.0065\n",
      "Epoch 10/10\n",
      "7155/7155 [==============================] - 8s 1ms/sample - loss: 4.8176 - accuracy: 0.0074 - val_loss: 4.8193 - val_accuracy: 0.0065\n"
     ]
    },
    {
     "data": {
      "text/plain": [
       "<tensorflow.python.keras.callbacks.History at 0x7f9c86952d30>"
      ]
     },
     "execution_count": 196,
     "metadata": {
      "tags": []
     },
     "output_type": "execute_result"
    }
   ],
   "source": [
    "batch_size = 128\n",
    "epochs = 10\n",
    "model1.compile(optimizer= tf.keras.optimizers.Adam(learning_rate=1e-6),loss = 'categorical_crossentropy',metrics=['accuracy'])\n",
    "model1.fit(X_train,y_train, validation_data= [X_test_data,y_test], batch_size= batch_size , epochs= epochs)"
   ]
  },
  {
   "cell_type": "code",
   "execution_count": 0,
   "metadata": {
    "colab": {},
    "colab_type": "code",
    "id": "sNiCTv88GgvS"
   },
   "outputs": [],
   "source": [
    "#Changing the optimizers"
   ]
  },
  {
   "cell_type": "code",
   "execution_count": 0,
   "metadata": {
    "colab": {
     "base_uri": "https://localhost:8080/",
     "height": 391
    },
    "colab_type": "code",
    "id": "vuzxP4XWHCWf",
    "outputId": "8a8d399b-65e6-47d6-c395-78b0f11d4a3f"
   },
   "outputs": [
    {
     "name": "stdout",
     "output_type": "stream",
     "text": [
      "Train on 7155 samples, validate on 3067 samples\n",
      "Epoch 1/10\n",
      "7155/7155 [==============================] - 9s 1ms/sample - loss: 4.7127 - accuracy: 0.0246 - val_loss: 4.8487 - val_accuracy: 0.0098\n",
      "Epoch 2/10\n",
      "7155/7155 [==============================] - 8s 1ms/sample - loss: 4.2680 - accuracy: 0.0700 - val_loss: 4.9633 - val_accuracy: 0.0059\n",
      "Epoch 3/10\n",
      "7155/7155 [==============================] - 8s 1ms/sample - loss: 3.8585 - accuracy: 0.1242 - val_loss: 5.1534 - val_accuracy: 0.0075\n",
      "Epoch 4/10\n",
      "7155/7155 [==============================] - 8s 1ms/sample - loss: 3.5774 - accuracy: 0.1645 - val_loss: 5.3385 - val_accuracy: 0.0085\n",
      "Epoch 5/10\n",
      "7155/7155 [==============================] - 8s 1ms/sample - loss: 3.3605 - accuracy: 0.1980 - val_loss: 5.3911 - val_accuracy: 0.0052\n",
      "Epoch 6/10\n",
      "7155/7155 [==============================] - 8s 1ms/sample - loss: 3.1924 - accuracy: 0.2288 - val_loss: 5.3307 - val_accuracy: 0.0108\n",
      "Epoch 7/10\n",
      "7155/7155 [==============================] - 8s 1ms/sample - loss: 3.0379 - accuracy: 0.2562 - val_loss: 5.5241 - val_accuracy: 0.0088\n",
      "Epoch 8/10\n",
      "7155/7155 [==============================] - 8s 1ms/sample - loss: 2.9194 - accuracy: 0.2798 - val_loss: 5.8261 - val_accuracy: 0.0068\n",
      "Epoch 9/10\n",
      "7155/7155 [==============================] - 8s 1ms/sample - loss: 2.8116 - accuracy: 0.2922 - val_loss: 5.8879 - val_accuracy: 0.0088\n",
      "Epoch 10/10\n",
      "7155/7155 [==============================] - 8s 1ms/sample - loss: 2.7145 - accuracy: 0.3268 - val_loss: 5.5649 - val_accuracy: 0.0104\n"
     ]
    },
    {
     "data": {
      "text/plain": [
       "<tensorflow.python.keras.callbacks.History at 0x7f9c842a7160>"
      ]
     },
     "execution_count": 198,
     "metadata": {
      "tags": []
     },
     "output_type": "execute_result"
    }
   ],
   "source": [
    "batch_size = 128\n",
    "epochs = 10\n",
    "model1.compile(optimizer= 'rmsprop',loss = 'categorical_crossentropy',metrics=['accuracy'])\n",
    "model1.fit(X_train,y_train, validation_data= [X_test_data,y_test], batch_size= batch_size , epochs= epochs)"
   ]
  },
  {
   "cell_type": "code",
   "execution_count": 0,
   "metadata": {
    "colab": {
     "base_uri": "https://localhost:8080/",
     "height": 289
    },
    "colab_type": "code",
    "id": "-bQPWRZWHJL-",
    "outputId": "df852652-6d3a-48ac-f2aa-1b8efa5fe361"
   },
   "outputs": [
    {
     "name": "stdout",
     "output_type": "stream",
     "text": [
      "Model: \"sequential_9\"\n",
      "_________________________________________________________________\n",
      "Layer (type)                 Output Shape              Param #   \n",
      "=================================================================\n",
      "vgg16 (Model)                (None, 512)               14714688  \n",
      "_________________________________________________________________\n",
      "dense_18 (Dense)             (None, 1024)              525312    \n",
      "_________________________________________________________________\n",
      "dense_19 (Dense)             (None, 256)               262400    \n",
      "_________________________________________________________________\n",
      "dense_20 (Dense)             (None, 120)               30840     \n",
      "=================================================================\n",
      "Total params: 15,533,240\n",
      "Trainable params: 818,552\n",
      "Non-trainable params: 14,714,688\n",
      "_________________________________________________________________\n"
     ]
    }
   ],
   "source": [
    "base_model.trainable = False\n",
    "# \n",
    "model2 = tf.keras.models.Sequential()\n",
    "model2.add(base_model)\n",
    "model2.add(tf.keras.layers.Dense(1024,activation = 'relu'))\n",
    "model2.add(tf.keras.layers.Dense(256,activation = 'relu'))\n",
    "model2.add(tf.keras.layers.Dense(120,activation = 'sigmoid'))\n",
    "model2.summary()"
   ]
  },
  {
   "cell_type": "code",
   "execution_count": 0,
   "metadata": {
    "colab": {
     "base_uri": "https://localhost:8080/",
     "height": 391
    },
    "colab_type": "code",
    "id": "KotQsvM4p3jA",
    "outputId": "86fd38a2-3c1a-4a39-96e6-6bc1cd3ed7c9"
   },
   "outputs": [
    {
     "name": "stdout",
     "output_type": "stream",
     "text": [
      "Train on 7155 samples, validate on 3067 samples\n",
      "Epoch 1/10\n",
      "7155/7155 [==============================] - 9s 1ms/sample - loss: 4.7433 - accuracy: 0.0182 - val_loss: 4.8345 - val_accuracy: 0.0108\n",
      "Epoch 2/10\n",
      "7155/7155 [==============================] - 8s 1ms/sample - loss: 4.3560 - accuracy: 0.0584 - val_loss: 4.9687 - val_accuracy: 0.0095\n",
      "Epoch 3/10\n",
      "7155/7155 [==============================] - 8s 1ms/sample - loss: 3.9203 - accuracy: 0.1054 - val_loss: 5.1019 - val_accuracy: 0.0075\n",
      "Epoch 4/10\n",
      "7155/7155 [==============================] - 8s 1ms/sample - loss: 3.6189 - accuracy: 0.1469 - val_loss: 5.2620 - val_accuracy: 0.0075\n",
      "Epoch 5/10\n",
      "7155/7155 [==============================] - 8s 1ms/sample - loss: 3.3909 - accuracy: 0.1905 - val_loss: 5.3162 - val_accuracy: 0.0075\n",
      "Epoch 6/10\n",
      "7155/7155 [==============================] - 8s 1ms/sample - loss: 3.2244 - accuracy: 0.2173 - val_loss: 5.2948 - val_accuracy: 0.0108\n",
      "Epoch 7/10\n",
      "7155/7155 [==============================] - 8s 1ms/sample - loss: 3.1032 - accuracy: 0.2363 - val_loss: 5.5252 - val_accuracy: 0.0108\n",
      "Epoch 8/10\n",
      "7155/7155 [==============================] - 8s 1ms/sample - loss: 2.9843 - accuracy: 0.2576 - val_loss: 5.4270 - val_accuracy: 0.0085\n",
      "Epoch 9/10\n",
      "7155/7155 [==============================] - 8s 1ms/sample - loss: 2.8639 - accuracy: 0.2783 - val_loss: 5.5048 - val_accuracy: 0.0075\n",
      "Epoch 10/10\n",
      "7155/7155 [==============================] - 8s 1ms/sample - loss: 2.7650 - accuracy: 0.2949 - val_loss: 5.7507 - val_accuracy: 0.0095\n"
     ]
    },
    {
     "data": {
      "text/plain": [
       "<tensorflow.python.keras.callbacks.History at 0x7f9c84133048>"
      ]
     },
     "execution_count": 200,
     "metadata": {
      "tags": []
     },
     "output_type": "execute_result"
    }
   ],
   "source": [
    "batch_size = 128\n",
    "epochs = 10\n",
    "model2.compile(optimizer= 'rmsprop',loss = 'categorical_crossentropy',metrics=['accuracy'])\n",
    "model2.fit(X_train,y_train, validation_data= [X_test_data,y_test], batch_size= batch_size , epochs= epochs)"
   ]
  },
  {
   "cell_type": "code",
   "execution_count": 0,
   "metadata": {
    "colab": {},
    "colab_type": "code",
    "id": "6JvJwKqhp8Jj"
   },
   "outputs": [],
   "source": []
  }
 ],
 "metadata": {
  "accelerator": "GPU",
  "colab": {
   "collapsed_sections": [],
   "machine_shape": "hm",
   "name": "DogBreedClassification.ipynb",
   "provenance": []
  },
  "kernelspec": {
   "display_name": "Python 3",
   "language": "python",
   "name": "python3"
  },
  "language_info": {
   "codemirror_mode": {
    "name": "ipython",
    "version": 3
   },
   "file_extension": ".py",
   "mimetype": "text/x-python",
   "name": "python",
   "nbconvert_exporter": "python",
   "pygments_lexer": "ipython3",
   "version": "3.7.4"
  }
 },
 "nbformat": 4,
 "nbformat_minor": 1
}
