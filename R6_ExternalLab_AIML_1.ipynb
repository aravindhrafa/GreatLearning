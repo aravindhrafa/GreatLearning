{
  "nbformat": 4,
  "nbformat_minor": 0,
  "metadata": {
    "colab": {
      "name": "R6_ExternalLab_AIML-1.ipynb",
      "provenance": [],
      "collapsed_sections": []
    },
    "kernelspec": {
      "display_name": "Python 3",
      "language": "python",
      "name": "python3"
    },
    "language_info": {
      "codemirror_mode": {
        "name": "ipython",
        "version": 3
      },
      "file_extension": ".py",
      "mimetype": "text/x-python",
      "name": "python",
      "nbconvert_exporter": "python",
      "pygments_lexer": "ipython3",
      "version": "3.7.3"
    }
  },
  "cells": [
    {
      "cell_type": "markdown",
      "metadata": {
        "colab_type": "text",
        "id": "YYk8NG3yOIT9"
      },
      "source": [
        "### A MNIST-like fashion product database\n",
        "\n",
        "In this, we classify the images into respective classes given in the dataset. We use a Neural Net and a Deep Neural Net in Keras to solve this and check the accuracy scores."
      ]
    },
    {
      "cell_type": "markdown",
      "metadata": {
        "colab_type": "text",
        "id": "tFO6PuxzOIT_"
      },
      "source": [
        "### Load tensorflow"
      ]
    },
    {
      "cell_type": "code",
      "metadata": {
        "colab_type": "code",
        "id": "efNjNImfOIUC",
        "outputId": "4b25859a-9203-478d-a689-ee73928528ef",
        "colab": {
          "base_uri": "https://localhost:8080/",
          "height": 65
        }
      },
      "source": [
        "import tensorflow as tf\n",
        "tf.set_random_seed(42)"
      ],
      "execution_count": 0,
      "outputs": [
        {
          "output_type": "display_data",
          "data": {
            "text/html": [
              "<p style=\"color: red;\">\n",
              "The default version of TensorFlow in Colab will soon switch to TensorFlow 2.x.<br>\n",
              "We recommend you <a href=\"https://www.tensorflow.org/guide/migrate\" target=\"_blank\">upgrade</a> now \n",
              "or ensure your notebook will continue to use TensorFlow 1.x via the <code>%tensorflow_version 1.x</code> magic:\n",
              "<a href=\"https://colab.research.google.com/notebooks/tensorflow_version.ipynb\" target=\"_blank\">more info</a>.</p>\n"
            ],
            "text/plain": [
              "<IPython.core.display.HTML object>"
            ]
          },
          "metadata": {
            "tags": []
          }
        }
      ]
    },
    {
      "cell_type": "code",
      "metadata": {
        "colab_type": "code",
        "id": "l9C4aAIGOIUH",
        "outputId": "2a760f58-e767-4ded-85e4-44844787a6fd",
        "colab": {
          "base_uri": "https://localhost:8080/",
          "height": 35
        }
      },
      "source": [
        "tf.__version__"
      ],
      "execution_count": 0,
      "outputs": [
        {
          "output_type": "execute_result",
          "data": {
            "text/plain": [
              "'1.15.0'"
            ]
          },
          "metadata": {
            "tags": []
          },
          "execution_count": 3
        }
      ]
    },
    {
      "cell_type": "markdown",
      "metadata": {
        "colab_type": "text",
        "id": "HcoZBStrOIUQ"
      },
      "source": [
        "### Collect Data"
      ]
    },
    {
      "cell_type": "code",
      "metadata": {
        "colab_type": "code",
        "id": "XA1WsFSeOIUS",
        "outputId": "68c7ab16-3613-44e8-def7-e2ffc64b8ce0",
        "colab": {
          "base_uri": "https://localhost:8080/",
          "height": 35
        }
      },
      "source": [
        "import keras"
      ],
      "execution_count": 0,
      "outputs": [
        {
          "output_type": "stream",
          "text": [
            "Using TensorFlow backend.\n"
          ],
          "name": "stderr"
        }
      ]
    },
    {
      "cell_type": "code",
      "metadata": {
        "colab_type": "code",
        "id": "qnbx7TyQOIUY",
        "outputId": "ff68d709-0479-4303-eaff-d555818d9ff9",
        "colab": {
          "base_uri": "https://localhost:8080/",
          "height": 163
        }
      },
      "source": [
        "(trainX, trainY), (testX, testY) = keras.datasets.fashion_mnist.load_data()"
      ],
      "execution_count": 0,
      "outputs": [
        {
          "output_type": "stream",
          "text": [
            "Downloading data from http://fashion-mnist.s3-website.eu-central-1.amazonaws.com/train-labels-idx1-ubyte.gz\n",
            "32768/29515 [=================================] - 0s 3us/step\n",
            "Downloading data from http://fashion-mnist.s3-website.eu-central-1.amazonaws.com/train-images-idx3-ubyte.gz\n",
            "26427392/26421880 [==============================] - 2s 0us/step\n",
            "Downloading data from http://fashion-mnist.s3-website.eu-central-1.amazonaws.com/t10k-labels-idx1-ubyte.gz\n",
            "8192/5148 [===============================================] - 0s 0us/step\n",
            "Downloading data from http://fashion-mnist.s3-website.eu-central-1.amazonaws.com/t10k-images-idx3-ubyte.gz\n",
            "4423680/4422102 [==============================] - 1s 0us/step\n"
          ],
          "name": "stdout"
        }
      ]
    },
    {
      "cell_type": "code",
      "metadata": {
        "colab_type": "code",
        "id": "UbiHj5YPOIUc",
        "outputId": "184ee375-9472-418f-9bbf-6d365e4548cd",
        "colab": {
          "base_uri": "https://localhost:8080/",
          "height": 35
        }
      },
      "source": [
        "print(testY[0:5])"
      ],
      "execution_count": 0,
      "outputs": [
        {
          "output_type": "stream",
          "text": [
            "[9 2 1 1 6]\n"
          ],
          "name": "stdout"
        }
      ]
    },
    {
      "cell_type": "markdown",
      "metadata": {
        "colab_type": "text",
        "id": "lDAYzkwyOIUj"
      },
      "source": [
        "### Convert both training and testing labels into one-hot vectors.\n",
        "\n",
        "**Hint:** check **tf.keras.utils.to_categorical()**"
      ]
    },
    {
      "cell_type": "code",
      "metadata": {
        "colab_type": "code",
        "id": "vBlfYlANOIUk",
        "colab": {}
      },
      "source": [
        "from keras.utils import to_categorical\n",
        "\n",
        "train_labels = to_categorical(trainY)\n",
        "test_labels = to_categorical(testY)"
      ],
      "execution_count": 0,
      "outputs": []
    },
    {
      "cell_type": "code",
      "metadata": {
        "colab_type": "code",
        "id": "RHV3b9mzOIUq",
        "outputId": "ab7c973b-a64f-4fb3-b47a-fd70225af123",
        "scrolled": true,
        "colab": {
          "base_uri": "https://localhost:8080/",
          "height": 54
        }
      },
      "source": [
        "print(trainY.shape)\n",
        "print('First 5 examples now are: ', trainY[0:5])"
      ],
      "execution_count": 0,
      "outputs": [
        {
          "output_type": "stream",
          "text": [
            "(60000,)\n",
            "First 5 examples now are:  [9 0 0 3 0]\n"
          ],
          "name": "stdout"
        }
      ]
    },
    {
      "cell_type": "code",
      "metadata": {
        "id": "w-RmRz0VAZ0P",
        "colab_type": "code",
        "outputId": "9136134a-8bfa-411b-e59b-7c5f02bd3b63",
        "colab": {
          "base_uri": "https://localhost:8080/",
          "height": 126
        }
      },
      "source": [
        "print(train_labels.shape)\n",
        "print('First 5 examples now are: ', train_labels[0:5])"
      ],
      "execution_count": 0,
      "outputs": [
        {
          "output_type": "stream",
          "text": [
            "(60000, 10)\n",
            "First 5 examples now are:  [[0. 0. 0. 0. 0. 0. 0. 0. 0. 1.]\n",
            " [1. 0. 0. 0. 0. 0. 0. 0. 0. 0.]\n",
            " [1. 0. 0. 0. 0. 0. 0. 0. 0. 0.]\n",
            " [0. 0. 0. 1. 0. 0. 0. 0. 0. 0.]\n",
            " [1. 0. 0. 0. 0. 0. 0. 0. 0. 0.]]\n"
          ],
          "name": "stdout"
        }
      ]
    },
    {
      "cell_type": "markdown",
      "metadata": {
        "colab_type": "text",
        "id": "FwhQ8e7VOIUw"
      },
      "source": [
        "### Visualize the data\n",
        "\n",
        "Plot first 10 images in the triaining set and their labels."
      ]
    },
    {
      "cell_type": "code",
      "metadata": {
        "colab_type": "code",
        "id": "AvDML2OoOIUx",
        "outputId": "80c00949-0e8c-4d34-a4f0-8f67c64a58b5",
        "colab": {
          "base_uri": "https://localhost:8080/",
          "height": 908
        }
      },
      "source": [
        "images_to_display = trainX[0:10]\n",
        "images_to_display"
      ],
      "execution_count": 0,
      "outputs": [
        {
          "output_type": "execute_result",
          "data": {
            "text/plain": [
              "array([[[  0,   0,   0, ...,   0,   0,   0],\n",
              "        [  0,   0,   0, ...,   0,   0,   0],\n",
              "        [  0,   0,   0, ...,   0,   0,   0],\n",
              "        ...,\n",
              "        [  0,   0,   0, ...,   0,   0,   0],\n",
              "        [  0,   0,   0, ...,   0,   0,   0],\n",
              "        [  0,   0,   0, ...,   0,   0,   0]],\n",
              "\n",
              "       [[  0,   0,   0, ...,   0,   0,   0],\n",
              "        [  0,   0,   0, ...,   0,   0,   0],\n",
              "        [  0,   0,   0, ...,   0,   0,   0],\n",
              "        ...,\n",
              "        [  0,   0,   0, ...,   0,   0,   0],\n",
              "        [  0,   0,   0, ...,   0,   0,   0],\n",
              "        [  0,   0,   0, ...,   0,   0,   0]],\n",
              "\n",
              "       [[  0,   0,   0, ...,   0,   0,   0],\n",
              "        [  0,   0,   0, ...,   0,   0,   0],\n",
              "        [  0,   0,   0, ...,   0,   0,   0],\n",
              "        ...,\n",
              "        [  0,   0,   0, ...,   0,   0,   0],\n",
              "        [  0,   0,   0, ...,   0,   0,   0],\n",
              "        [  0,   0,   0, ...,   0,   0,   0]],\n",
              "\n",
              "       ...,\n",
              "\n",
              "       [[  0,   0,   0, ...,   0,   0,   0],\n",
              "        [  0,   0,   0, ...,   0,   0,   0],\n",
              "        [  0,   0,   0, ...,   0,   0,   0],\n",
              "        ...,\n",
              "        [  0,   0,   0, ..., 180,   0,   0],\n",
              "        [  0,   0,   0, ...,  72,   0,   0],\n",
              "        [  0,   0,   0, ...,  70,   0,   0]],\n",
              "\n",
              "       [[  0,   0,   0, ...,   0,   0,   0],\n",
              "        [  0,   0,   0, ...,   0,   0,   0],\n",
              "        [  0,   0,   0, ...,  39,   1,   0],\n",
              "        ...,\n",
              "        [  0,   0,   0, ..., 238,   0,   0],\n",
              "        [  0,   0,   0, ..., 131,   0,   0],\n",
              "        [  0,   0,   0, ...,   0,   0,   0]],\n",
              "\n",
              "       [[  0,   0,   0, ...,   0,   0,   0],\n",
              "        [  0,   0,   0, ...,   0,   0,   0],\n",
              "        [  0,   0,   0, ...,   7,   0,   0],\n",
              "        ...,\n",
              "        [  0,   0,   0, ...,   0,   9,   0],\n",
              "        [  0,   0,   0, ...,   0,   3,   0],\n",
              "        [  0,   0,   0, ...,   0,   0,   0]]], dtype=uint8)"
            ]
          },
          "metadata": {
            "tags": []
          },
          "execution_count": 10
        }
      ]
    },
    {
      "cell_type": "code",
      "metadata": {
        "id": "Gd-75TZSD9kF",
        "colab_type": "code",
        "outputId": "4ae165c3-6e40-415f-e16c-a7855d36d819",
        "colab": {
          "base_uri": "https://localhost:8080/",
          "height": 35
        }
      },
      "source": [
        "len(images_to_display)"
      ],
      "execution_count": 0,
      "outputs": [
        {
          "output_type": "execute_result",
          "data": {
            "text/plain": [
              "10"
            ]
          },
          "metadata": {
            "tags": []
          },
          "execution_count": 11
        }
      ]
    },
    {
      "cell_type": "code",
      "metadata": {
        "id": "5wNUAbJbGG16",
        "colab_type": "code",
        "outputId": "0430a0f5-d785-4c0a-ffbe-18cae2c58358",
        "colab": {
          "base_uri": "https://localhost:8080/",
          "height": 35
        }
      },
      "source": [
        "images_to_display.dtype"
      ],
      "execution_count": 0,
      "outputs": [
        {
          "output_type": "execute_result",
          "data": {
            "text/plain": [
              "dtype('uint8')"
            ]
          },
          "metadata": {
            "tags": []
          },
          "execution_count": 12
        }
      ]
    },
    {
      "cell_type": "code",
      "metadata": {
        "id": "Ruv9XmAJJbXZ",
        "colab_type": "code",
        "colab": {}
      },
      "source": [
        "images_to_display1 = images_to_display/255"
      ],
      "execution_count": 0,
      "outputs": []
    },
    {
      "cell_type": "code",
      "metadata": {
        "id": "x3PlMxvcJxzj",
        "colab_type": "code",
        "outputId": "7251eeda-1a74-4b46-da6d-8f9e0d8913c2",
        "colab": {
          "base_uri": "https://localhost:8080/",
          "height": 35
        }
      },
      "source": [
        "images_to_display1.shape"
      ],
      "execution_count": 0,
      "outputs": [
        {
          "output_type": "execute_result",
          "data": {
            "text/plain": [
              "(10, 28, 28)"
            ]
          },
          "metadata": {
            "tags": []
          },
          "execution_count": 14
        }
      ]
    },
    {
      "cell_type": "code",
      "metadata": {
        "id": "IkLriA9uBIJU",
        "colab_type": "code",
        "outputId": "07a781b0-9144-4930-db77-9c3ae6554503",
        "colab": {
          "base_uri": "https://localhost:8080/",
          "height": 1000
        }
      },
      "source": [
        "import matplotlib.pyplot as plt \n",
        "import numpy as np\n",
        "#fig, axes = plt.subplots(3,3,figsize=(5,5))\n",
        "#for x in [len(images_to_display)]:\n",
        "for x in range(10):\n",
        "  #ax=axes\n",
        "  #images_to_display1 = (np.reshape(images_to_display[x],(28,28))*255).astype(np.uint8)\n",
        "  plt.imshow(images_to_display1[x], cmap = plt.cm.binary)\n",
        "  plt.show()"
      ],
      "execution_count": 0,
      "outputs": [
        {
          "output_type": "display_data",
          "data": {
            "image/png": "[encoded data removed]",
            "text/plain": [
              "<Figure size 432x288 with 1 Axes>"
            ]
          },
          "metadata": {
            "tags": []
          }
        },
        {
          "output_type": "display_data",
          "data": {
            "image/png": "[encoded data removed]",
            "text/plain": [
              "<Figure size 432x288 with 1 Axes>"
            ]
          },
          "metadata": {
            "tags": []
          }
        },
        {
          "output_type": "display_data",
          "data": {
            "image/png": "[encoded data removed]",
            "text/plain": [
              "<Figure size 432x288 with 1 Axes>"
            ]
          },
          "metadata": {
            "tags": []
          }
        },
        {
          "output_type": "display_data",
          "data": {
            "image/png": "[encoded data removed]",
            "text/plain": [
              "<Figure size 432x288 with 1 Axes>"
            ]
          },
          "metadata": {
            "tags": []
          }
        },
        {
          "output_type": "display_data",
          "data": {
            "image/png": "[encoded data removed]",
            "text/plain": [
              "<Figure size 432x288 with 1 Axes>"
            ]
          },
          "metadata": {
            "tags": []
          }
        },
        {
          "output_type": "display_data",
          "data": {
            "image/png": "[encoded data removed]",
            "text/plain": [
              "<Figure size 432x288 with 1 Axes>"
            ]
          },
          "metadata": {
            "tags": []
          }
        },
        {
          "output_type": "display_data",
          "data": {
            "image/png": "[encoded data removed]",
            "text/plain": [
              "<Figure size 432x288 with 1 Axes>"
            ]
          },
          "metadata": {
            "tags": []
          }
        },
        {
          "output_type": "display_data",
          "data": {
            "image/png": "[encoded data removed]",
            "text/plain": [
              "<Figure size 432x288 with 1 Axes>"
            ]
          },
          "metadata": {
            "tags": []
          }
        },
        {
          "output_type": "display_data",
          "data": {
            "image/png": "[encoded data removed]",
            "text/plain": [
              "<Figure size 432x288 with 1 Axes>"
            ]
          },
          "metadata": {
            "tags": []
          }
        },
        {
          "output_type": "display_data",
          "data": {
            "image/png": "[encoded data removed]",
            "text/plain": [
              "<Figure size 432x288 with 1 Axes>"
            ]
          },
          "metadata": {
            "tags": []
          }
        }
      ]
    },
    {
      "cell_type": "markdown",
      "metadata": {
        "colab_type": "text",
        "id": "l4TbJGeSOIU4"
      },
      "source": [
        "### Build a neural Network with a cross entropy loss function and sgd optimizer in Keras. The output layer with 10 neurons as we have 10 classes."
      ]
    },
    {
      "cell_type": "code",
      "metadata": {
        "colab_type": "code",
        "id": "Ac06XZZTOIU6",
        "outputId": "f8695166-3040-45e9-d1a8-b54f7a4d73e3",
        "colab": {
          "base_uri": "https://localhost:8080/",
          "height": 92
        }
      },
      "source": [
        "model1 = tf.keras.models.Sequential()  # For the first layer, to receive the information \n",
        "model1.add(tf.keras.layers.Reshape((784,),input_shape = (28,28,)))  # Reshaping for providing the input \n",
        "\n",
        "model1.add(tf.keras.layers.Dense(10,activation='softmax'))\n",
        "model1.compile(optimizer='sgd', loss= 'categorical_crossentropy',metrics = ['accuracy'])"
      ],
      "execution_count": 0,
      "outputs": [
        {
          "output_type": "stream",
          "text": [
            "WARNING:tensorflow:From /usr/local/lib/python3.6/dist-packages/tensorflow_core/python/ops/resource_variable_ops.py:1630: calling BaseResourceVariable.__init__ (from tensorflow.python.ops.resource_variable_ops) with constraint is deprecated and will be removed in a future version.\n",
            "Instructions for updating:\n",
            "If using Keras pass *_constraint arguments to layers.\n"
          ],
          "name": "stdout"
        }
      ]
    },
    {
      "cell_type": "markdown",
      "metadata": {
        "colab_type": "text",
        "id": "3hQpLv3aOIU_"
      },
      "source": [
        "### Execute the model using model.fit()"
      ]
    },
    {
      "cell_type": "code",
      "metadata": {
        "colab_type": "code",
        "id": "O59C_-IgOIVB",
        "outputId": "9f3a1ae9-cf3f-4ca0-df59-ce5e6b49d595",
        "colab": {
          "base_uri": "https://localhost:8080/",
          "height": 1000
        }
      },
      "source": [
        "model1.fit(trainX,train_labels,validation_data = (testX,test_labels), epochs = 50, batch_size= trainX.shape[0])"
      ],
      "execution_count": 0,
      "outputs": [
        {
          "output_type": "stream",
          "text": [
            "Train on 60000 samples, validate on 10000 samples\n",
            "Epoch 1/50\n",
            "60000/60000 [==============================] - 1s 9us/sample - loss: 243.8430 - acc: 0.0538 - val_loss: 4236.4482 - val_acc: 0.2033\n",
            "Epoch 2/50\n",
            "60000/60000 [==============================] - 0s 4us/sample - loss: 4227.7217 - acc: 0.2084 - val_loss: 9876.5684 - val_acc: 0.1811\n",
            "Epoch 3/50\n",
            "60000/60000 [==============================] - 0s 4us/sample - loss: 9811.1318 - acc: 0.1815 - val_loss: 14353.8301 - val_acc: 0.2391\n",
            "Epoch 4/50\n",
            "60000/60000 [==============================] - 0s 4us/sample - loss: 14240.5566 - acc: 0.2439 - val_loss: 18444.3574 - val_acc: 0.2859\n",
            "Epoch 5/50\n",
            "60000/60000 [==============================] - 0s 4us/sample - loss: 18374.1191 - acc: 0.2892 - val_loss: 14153.8594 - val_acc: 0.2687\n",
            "Epoch 6/50\n",
            "60000/60000 [==============================] - 0s 4us/sample - loss: 14100.5762 - acc: 0.2694 - val_loss: 13631.3184 - val_acc: 0.2873\n",
            "Epoch 7/50\n",
            "60000/60000 [==============================] - 0s 4us/sample - loss: 13565.2227 - acc: 0.2880 - val_loss: 5275.3633 - val_acc: 0.2585\n",
            "Epoch 8/50\n",
            "60000/60000 [==============================] - 0s 4us/sample - loss: 5243.5703 - acc: 0.2603 - val_loss: 7847.7104 - val_acc: 0.3744\n",
            "Epoch 9/50\n",
            "60000/60000 [==============================] - 0s 4us/sample - loss: 7768.3774 - acc: 0.3777 - val_loss: 7252.7607 - val_acc: 0.4554\n",
            "Epoch 10/50\n",
            "60000/60000 [==============================] - 0s 4us/sample - loss: 7207.4082 - acc: 0.4588 - val_loss: 7094.2798 - val_acc: 0.5175\n",
            "Epoch 11/50\n",
            "60000/60000 [==============================] - 0s 4us/sample - loss: 7035.8818 - acc: 0.5181 - val_loss: 6716.6367 - val_acc: 0.4444\n",
            "Epoch 12/50\n",
            "60000/60000 [==============================] - 0s 4us/sample - loss: 6659.2095 - acc: 0.4480 - val_loss: 5656.8862 - val_acc: 0.5078\n",
            "Epoch 13/50\n",
            "60000/60000 [==============================] - 0s 4us/sample - loss: 5582.3774 - acc: 0.5127 - val_loss: 3658.6040 - val_acc: 0.4874\n",
            "Epoch 14/50\n",
            "60000/60000 [==============================] - 0s 4us/sample - loss: 3607.0134 - acc: 0.4918 - val_loss: 4995.0972 - val_acc: 0.4257\n",
            "Epoch 15/50\n",
            "60000/60000 [==============================] - 0s 4us/sample - loss: 4933.7769 - acc: 0.4355 - val_loss: 5879.7910 - val_acc: 0.5813\n",
            "Epoch 16/50\n",
            "60000/60000 [==============================] - 0s 4us/sample - loss: 5851.6030 - acc: 0.5829 - val_loss: 4056.0872 - val_acc: 0.5826\n",
            "Epoch 17/50\n",
            "60000/60000 [==============================] - 0s 4us/sample - loss: 3996.5349 - acc: 0.5882 - val_loss: 3961.4448 - val_acc: 0.5815\n",
            "Epoch 18/50\n",
            "60000/60000 [==============================] - 0s 4us/sample - loss: 3942.7610 - acc: 0.5849 - val_loss: 1959.3976 - val_acc: 0.6172\n",
            "Epoch 19/50\n",
            "60000/60000 [==============================] - 0s 4us/sample - loss: 1901.1304 - acc: 0.6238 - val_loss: 2923.5979 - val_acc: 0.5232\n",
            "Epoch 20/50\n",
            "60000/60000 [==============================] - 0s 4us/sample - loss: 2852.2275 - acc: 0.5328 - val_loss: 5194.7402 - val_acc: 0.5691\n",
            "Epoch 21/50\n",
            "60000/60000 [==============================] - 0s 4us/sample - loss: 5143.7280 - acc: 0.5753 - val_loss: 4700.3140 - val_acc: 0.6406\n",
            "Epoch 22/50\n",
            "60000/60000 [==============================] - 0s 4us/sample - loss: 4622.7749 - acc: 0.6491 - val_loss: 2534.6626 - val_acc: 0.6318\n",
            "Epoch 23/50\n",
            "60000/60000 [==============================] - 0s 4us/sample - loss: 2489.9658 - acc: 0.6355 - val_loss: 1013.5742 - val_acc: 0.5944\n",
            "Epoch 24/50\n",
            "60000/60000 [==============================] - 0s 4us/sample - loss: 963.3075 - acc: 0.6134 - val_loss: 1567.6564 - val_acc: 0.6077\n",
            "Epoch 25/50\n",
            "60000/60000 [==============================] - 0s 5us/sample - loss: 1523.2933 - acc: 0.6138 - val_loss: 2648.0413 - val_acc: 0.5955\n",
            "Epoch 26/50\n",
            "60000/60000 [==============================] - 0s 4us/sample - loss: 2537.6562 - acc: 0.6091 - val_loss: 3369.6904 - val_acc: 0.6483\n",
            "Epoch 27/50\n",
            "60000/60000 [==============================] - 0s 4us/sample - loss: 3304.1902 - acc: 0.6536 - val_loss: 4436.9385 - val_acc: 0.5473\n",
            "Epoch 28/50\n",
            "60000/60000 [==============================] - 0s 4us/sample - loss: 4360.7148 - acc: 0.5545 - val_loss: 3140.9331 - val_acc: 0.6611\n",
            "Epoch 29/50\n",
            "60000/60000 [==============================] - 0s 4us/sample - loss: 3070.2148 - acc: 0.6632 - val_loss: 3415.3633 - val_acc: 0.5663\n",
            "Epoch 30/50\n",
            "60000/60000 [==============================] - 0s 4us/sample - loss: 3308.2561 - acc: 0.5749 - val_loss: 3180.4600 - val_acc: 0.6733\n",
            "Epoch 31/50\n",
            "60000/60000 [==============================] - 0s 4us/sample - loss: 3141.8762 - acc: 0.6798 - val_loss: 2227.0945 - val_acc: 0.6986\n",
            "Epoch 32/50\n",
            "60000/60000 [==============================] - 0s 4us/sample - loss: 2188.9048 - acc: 0.7010 - val_loss: 2291.8408 - val_acc: 0.6582\n",
            "Epoch 33/50\n",
            "60000/60000 [==============================] - 0s 4us/sample - loss: 2228.2061 - acc: 0.6613 - val_loss: 2217.0234 - val_acc: 0.6846\n",
            "Epoch 34/50\n",
            "60000/60000 [==============================] - 0s 4us/sample - loss: 2174.0720 - acc: 0.6957 - val_loss: 1460.6792 - val_acc: 0.6955\n",
            "Epoch 35/50\n",
            "60000/60000 [==============================] - 0s 4us/sample - loss: 1424.9763 - acc: 0.6975 - val_loss: 1679.1816 - val_acc: 0.6629\n",
            "Epoch 36/50\n",
            "60000/60000 [==============================] - 0s 4us/sample - loss: 1606.4808 - acc: 0.6703 - val_loss: 1565.5605 - val_acc: 0.6581\n",
            "Epoch 37/50\n",
            "60000/60000 [==============================] - 0s 4us/sample - loss: 1533.8416 - acc: 0.6589 - val_loss: 2430.2349 - val_acc: 0.6413\n",
            "Epoch 38/50\n",
            "60000/60000 [==============================] - 0s 4us/sample - loss: 2332.6155 - acc: 0.6529 - val_loss: 1880.3712 - val_acc: 0.6895\n",
            "Epoch 39/50\n",
            "60000/60000 [==============================] - 0s 4us/sample - loss: 1839.7687 - acc: 0.6963 - val_loss: 1163.2205 - val_acc: 0.6659\n",
            "Epoch 40/50\n",
            "60000/60000 [==============================] - 0s 4us/sample - loss: 1112.1316 - acc: 0.6731 - val_loss: 2024.9364 - val_acc: 0.6078\n",
            "Epoch 41/50\n",
            "60000/60000 [==============================] - 0s 4us/sample - loss: 1928.2388 - acc: 0.6177 - val_loss: 2453.9060 - val_acc: 0.6601\n",
            "Epoch 42/50\n",
            "60000/60000 [==============================] - 0s 4us/sample - loss: 2390.7998 - acc: 0.6745 - val_loss: 2419.8833 - val_acc: 0.6471\n",
            "Epoch 43/50\n",
            "60000/60000 [==============================] - 0s 4us/sample - loss: 2374.1077 - acc: 0.6529 - val_loss: 2227.6934 - val_acc: 0.6906\n",
            "Epoch 44/50\n",
            "60000/60000 [==============================] - 0s 4us/sample - loss: 2141.7554 - acc: 0.7042 - val_loss: 1998.7465 - val_acc: 0.6848\n",
            "Epoch 45/50\n",
            "60000/60000 [==============================] - 0s 4us/sample - loss: 1938.5583 - acc: 0.6914 - val_loss: 2644.6504 - val_acc: 0.6500\n",
            "Epoch 46/50\n",
            "60000/60000 [==============================] - 0s 4us/sample - loss: 2599.3374 - acc: 0.6585 - val_loss: 3689.2495 - val_acc: 0.5857\n",
            "Epoch 47/50\n",
            "60000/60000 [==============================] - 0s 4us/sample - loss: 3566.9338 - acc: 0.5954 - val_loss: 4219.0254 - val_acc: 0.6523\n",
            "Epoch 48/50\n",
            "60000/60000 [==============================] - 0s 4us/sample - loss: 4146.3936 - acc: 0.6589 - val_loss: 3455.4172 - val_acc: 0.6572\n",
            "Epoch 49/50\n",
            "60000/60000 [==============================] - 0s 4us/sample - loss: 3409.0571 - acc: 0.6621 - val_loss: 1891.7570 - val_acc: 0.6789\n",
            "Epoch 50/50\n",
            "60000/60000 [==============================] - 0s 4us/sample - loss: 1830.1721 - acc: 0.6798 - val_loss: 1733.7244 - val_acc: 0.6875\n"
          ],
          "name": "stdout"
        },
        {
          "output_type": "execute_result",
          "data": {
            "text/plain": [
              "<tensorflow.python.keras.callbacks.History at 0x7f189a1fd6a0>"
            ]
          },
          "metadata": {
            "tags": []
          },
          "execution_count": 17
        }
      ]
    },
    {
      "cell_type": "markdown",
      "metadata": {
        "colab_type": "text",
        "id": "JdzDtGwDOIVF"
      },
      "source": [
        "### In the above Neural Network model add Batch Normalization layer after the input layer and repeat the steps."
      ]
    },
    {
      "cell_type": "code",
      "metadata": {
        "colab_type": "code",
        "id": "kndfpdidOIVI",
        "colab": {}
      },
      "source": [
        "model1 = tf.keras.models.Sequential()  # For the first layer, to receive the information \n",
        "model1.add(tf.keras.layers.Reshape((784,),input_shape = (28,28,)))  # Reshaping for providing the input \n",
        "\n",
        "model1.add(tf.keras.layers.BatchNormalization())     \n",
        "model1.add(tf.keras.layers.Dense(10,activation='softmax'))\n",
        "model1.compile(optimizer='sgd', loss= 'categorical_crossentropy',metrics = ['accuracy'])"
      ],
      "execution_count": 0,
      "outputs": []
    },
    {
      "cell_type": "markdown",
      "metadata": {
        "colab_type": "text",
        "id": "mwk3T5LJOIVN"
      },
      "source": [
        "### Execute the model"
      ]
    },
    {
      "cell_type": "code",
      "metadata": {
        "colab_type": "code",
        "id": "JNLR8tcBOIVP",
        "outputId": "cc7ab863-c4a7-40f7-ed92-0ea537bebac5",
        "colab": {
          "base_uri": "https://localhost:8080/",
          "height": 1000
        }
      },
      "source": [
        "model1.fit(trainX,train_labels,validation_data = (testX,test_labels), epochs = 50, batch_size= trainX.shape[0])"
      ],
      "execution_count": 0,
      "outputs": [
        {
          "output_type": "stream",
          "text": [
            "Train on 60000 samples, validate on 10000 samples\n",
            "Epoch 1/50\n",
            "60000/60000 [==============================] - 1s 18us/sample - loss: 2.9831 - acc: 0.0994 - val_loss: 17.2292 - val_acc: 0.1426\n",
            "Epoch 2/50\n",
            "60000/60000 [==============================] - 1s 12us/sample - loss: 2.6825 - acc: 0.1443 - val_loss: 10.7635 - val_acc: 0.1867\n",
            "Epoch 3/50\n",
            "60000/60000 [==============================] - 1s 12us/sample - loss: 2.4329 - acc: 0.1967 - val_loss: 7.9323 - val_acc: 0.2231\n",
            "Epoch 4/50\n",
            "60000/60000 [==============================] - 1s 12us/sample - loss: 2.2267 - acc: 0.2489 - val_loss: 6.3243 - val_acc: 0.2503\n",
            "Epoch 5/50\n",
            "60000/60000 [==============================] - 1s 13us/sample - loss: 2.0569 - acc: 0.2994 - val_loss: 5.3026 - val_acc: 0.2814\n",
            "Epoch 6/50\n",
            "60000/60000 [==============================] - 1s 12us/sample - loss: 1.9170 - acc: 0.3473 - val_loss: 4.6149 - val_acc: 0.3060\n",
            "Epoch 7/50\n",
            "60000/60000 [==============================] - 1s 12us/sample - loss: 1.8012 - acc: 0.3913 - val_loss: 4.1315 - val_acc: 0.3310\n",
            "Epoch 8/50\n",
            "60000/60000 [==============================] - 1s 12us/sample - loss: 1.7048 - acc: 0.4313 - val_loss: 3.7774 - val_acc: 0.3526\n",
            "Epoch 9/50\n",
            "60000/60000 [==============================] - 1s 12us/sample - loss: 1.6241 - acc: 0.4630 - val_loss: 3.5069 - val_acc: 0.3726\n",
            "Epoch 10/50\n",
            "60000/60000 [==============================] - 1s 12us/sample - loss: 1.5558 - acc: 0.4877 - val_loss: 3.2912 - val_acc: 0.3891\n",
            "Epoch 11/50\n",
            "60000/60000 [==============================] - 1s 12us/sample - loss: 1.4976 - acc: 0.5078 - val_loss: 3.1122 - val_acc: 0.4049\n",
            "Epoch 12/50\n",
            "60000/60000 [==============================] - 1s 12us/sample - loss: 1.4473 - acc: 0.5248 - val_loss: 2.9589 - val_acc: 0.4148\n",
            "Epoch 13/50\n",
            "60000/60000 [==============================] - 1s 12us/sample - loss: 1.4035 - acc: 0.5393 - val_loss: 2.8240 - val_acc: 0.4275\n",
            "Epoch 14/50\n",
            "60000/60000 [==============================] - 1s 12us/sample - loss: 1.3650 - acc: 0.5518 - val_loss: 2.7032 - val_acc: 0.4403\n",
            "Epoch 15/50\n",
            "60000/60000 [==============================] - 1s 13us/sample - loss: 1.3309 - acc: 0.5629 - val_loss: 2.5934 - val_acc: 0.4523\n",
            "Epoch 16/50\n",
            "60000/60000 [==============================] - 1s 12us/sample - loss: 1.3003 - acc: 0.5722 - val_loss: 2.4928 - val_acc: 0.4613\n",
            "Epoch 17/50\n",
            "60000/60000 [==============================] - 1s 12us/sample - loss: 1.2728 - acc: 0.5801 - val_loss: 2.4000 - val_acc: 0.4732\n",
            "Epoch 18/50\n",
            "60000/60000 [==============================] - 1s 12us/sample - loss: 1.2477 - acc: 0.5884 - val_loss: 2.3141 - val_acc: 0.4832\n",
            "Epoch 19/50\n",
            "60000/60000 [==============================] - 1s 12us/sample - loss: 1.2249 - acc: 0.5950 - val_loss: 2.2344 - val_acc: 0.4926\n",
            "Epoch 20/50\n",
            "60000/60000 [==============================] - 1s 12us/sample - loss: 1.2039 - acc: 0.6012 - val_loss: 2.1602 - val_acc: 0.5005\n",
            "Epoch 21/50\n",
            "60000/60000 [==============================] - 1s 12us/sample - loss: 1.1845 - acc: 0.6079 - val_loss: 2.0912 - val_acc: 0.5102\n",
            "Epoch 22/50\n",
            "60000/60000 [==============================] - 1s 12us/sample - loss: 1.1665 - acc: 0.6134 - val_loss: 2.0267 - val_acc: 0.5198\n",
            "Epoch 23/50\n",
            "60000/60000 [==============================] - 1s 13us/sample - loss: 1.1498 - acc: 0.6187 - val_loss: 1.9666 - val_acc: 0.5288\n",
            "Epoch 24/50\n",
            "60000/60000 [==============================] - 1s 12us/sample - loss: 1.1342 - acc: 0.6237 - val_loss: 1.9104 - val_acc: 0.5374\n",
            "Epoch 25/50\n",
            "60000/60000 [==============================] - 1s 12us/sample - loss: 1.1195 - acc: 0.6288 - val_loss: 1.8578 - val_acc: 0.5446\n",
            "Epoch 26/50\n",
            "60000/60000 [==============================] - 1s 12us/sample - loss: 1.1057 - acc: 0.6334 - val_loss: 1.8086 - val_acc: 0.5515\n",
            "Epoch 27/50\n",
            "60000/60000 [==============================] - 1s 12us/sample - loss: 1.0927 - acc: 0.6376 - val_loss: 1.7625 - val_acc: 0.5595\n",
            "Epoch 28/50\n",
            "60000/60000 [==============================] - 1s 12us/sample - loss: 1.0805 - acc: 0.6410 - val_loss: 1.7192 - val_acc: 0.5653\n",
            "Epoch 29/50\n",
            "60000/60000 [==============================] - 1s 12us/sample - loss: 1.0688 - acc: 0.6449 - val_loss: 1.6785 - val_acc: 0.5716\n",
            "Epoch 30/50\n",
            "60000/60000 [==============================] - 1s 12us/sample - loss: 1.0578 - acc: 0.6488 - val_loss: 1.6403 - val_acc: 0.5780\n",
            "Epoch 31/50\n",
            "60000/60000 [==============================] - 1s 12us/sample - loss: 1.0473 - acc: 0.6522 - val_loss: 1.6042 - val_acc: 0.5824\n",
            "Epoch 32/50\n",
            "60000/60000 [==============================] - 1s 12us/sample - loss: 1.0373 - acc: 0.6553 - val_loss: 1.5703 - val_acc: 0.5869\n",
            "Epoch 33/50\n",
            "60000/60000 [==============================] - 1s 12us/sample - loss: 1.0278 - acc: 0.6579 - val_loss: 1.5382 - val_acc: 0.5921\n",
            "Epoch 34/50\n",
            "60000/60000 [==============================] - 1s 13us/sample - loss: 1.0187 - acc: 0.6608 - val_loss: 1.5079 - val_acc: 0.5957\n",
            "Epoch 35/50\n",
            "60000/60000 [==============================] - 1s 12us/sample - loss: 1.0100 - acc: 0.6636 - val_loss: 1.4792 - val_acc: 0.5997\n",
            "Epoch 36/50\n",
            "60000/60000 [==============================] - 1s 12us/sample - loss: 1.0016 - acc: 0.6658 - val_loss: 1.4520 - val_acc: 0.6044\n",
            "Epoch 37/50\n",
            "60000/60000 [==============================] - 1s 12us/sample - loss: 0.9936 - acc: 0.6685 - val_loss: 1.4262 - val_acc: 0.6084\n",
            "Epoch 38/50\n",
            "60000/60000 [==============================] - 1s 12us/sample - loss: 0.9859 - acc: 0.6707 - val_loss: 1.4017 - val_acc: 0.6127\n",
            "Epoch 39/50\n",
            "60000/60000 [==============================] - 1s 12us/sample - loss: 0.9785 - acc: 0.6730 - val_loss: 1.3784 - val_acc: 0.6161\n",
            "Epoch 40/50\n",
            "60000/60000 [==============================] - 1s 12us/sample - loss: 0.9714 - acc: 0.6751 - val_loss: 1.3562 - val_acc: 0.6191\n",
            "Epoch 41/50\n",
            "60000/60000 [==============================] - 1s 12us/sample - loss: 0.9645 - acc: 0.6769 - val_loss: 1.3351 - val_acc: 0.6236\n",
            "Epoch 42/50\n",
            "60000/60000 [==============================] - 1s 12us/sample - loss: 0.9579 - acc: 0.6789 - val_loss: 1.3150 - val_acc: 0.6271\n",
            "Epoch 43/50\n",
            "60000/60000 [==============================] - 1s 12us/sample - loss: 0.9515 - acc: 0.6808 - val_loss: 1.2958 - val_acc: 0.6307\n",
            "Epoch 44/50\n",
            "60000/60000 [==============================] - 1s 12us/sample - loss: 0.9453 - acc: 0.6824 - val_loss: 1.2774 - val_acc: 0.6326\n",
            "Epoch 45/50\n",
            "60000/60000 [==============================] - 1s 12us/sample - loss: 0.9394 - acc: 0.6842 - val_loss: 1.2598 - val_acc: 0.6353\n",
            "Epoch 46/50\n",
            "60000/60000 [==============================] - 1s 12us/sample - loss: 0.9336 - acc: 0.6858 - val_loss: 1.2430 - val_acc: 0.6378\n",
            "Epoch 47/50\n",
            "60000/60000 [==============================] - 1s 12us/sample - loss: 0.9280 - acc: 0.6874 - val_loss: 1.2269 - val_acc: 0.6403\n",
            "Epoch 48/50\n",
            "60000/60000 [==============================] - 1s 12us/sample - loss: 0.9226 - acc: 0.6892 - val_loss: 1.2115 - val_acc: 0.6438\n",
            "Epoch 49/50\n",
            "60000/60000 [==============================] - 1s 12us/sample - loss: 0.9173 - acc: 0.6910 - val_loss: 1.1966 - val_acc: 0.6461\n",
            "Epoch 50/50\n",
            "60000/60000 [==============================] - 1s 12us/sample - loss: 0.9122 - acc: 0.6924 - val_loss: 1.1824 - val_acc: 0.6485\n"
          ],
          "name": "stdout"
        },
        {
          "output_type": "execute_result",
          "data": {
            "text/plain": [
              "<tensorflow.python.keras.callbacks.History at 0x7f1836171588>"
            ]
          },
          "metadata": {
            "tags": []
          },
          "execution_count": 19
        }
      ]
    },
    {
      "cell_type": "markdown",
      "metadata": {
        "colab_type": "text",
        "id": "Py-KwkmjOIVU"
      },
      "source": [
        "### Customize the learning rate to 0.001 in sgd optimizer and run the model"
      ]
    },
    {
      "cell_type": "code",
      "metadata": {
        "colab_type": "code",
        "id": "yLXUE9jWOIVV",
        "colab": {}
      },
      "source": [
        "# SGD need to be imported \n",
        "from keras.optimizers import SGD\n",
        "\n",
        "\n",
        "model1 = tf.keras.models.Sequential()  # For the first layer, to receive the information \n",
        "model1.add(tf.keras.layers.Reshape((784,),input_shape = (28,28,)))  # Reshaping for providing the input \n",
        "\n",
        "model1.add(tf.keras.layers.BatchNormalization())     \n",
        "model1.add(tf.keras.layers.Dense(10,activation='softmax'))\n",
        "gd = SGD(lr=0.001)\n",
        "model1.compile(optimizer='sgd',loss= 'categorical_crossentropy',metrics = ['accuracy'])\n"
      ],
      "execution_count": 0,
      "outputs": []
    },
    {
      "cell_type": "code",
      "metadata": {
        "colab_type": "code",
        "id": "pJUqA5T4OIVc",
        "outputId": "831ccabc-838c-4bba-e7e1-45ceed75ef4f",
        "colab": {
          "base_uri": "https://localhost:8080/",
          "height": 1000
        }
      },
      "source": [
        "model1.fit(trainX,train_labels,validation_data = (testX,test_labels), epochs = 50, batch_size= trainX.shape[0])"
      ],
      "execution_count": 0,
      "outputs": [
        {
          "output_type": "stream",
          "text": [
            "Train on 60000 samples, validate on 10000 samples\n",
            "Epoch 1/50\n",
            "60000/60000 [==============================] - 1s 14us/sample - loss: 3.1459 - acc: 0.0630 - val_loss: 22.8045 - val_acc: 0.1247\n",
            "Epoch 2/50\n",
            "60000/60000 [==============================] - 1s 12us/sample - loss: 2.8077 - acc: 0.0925 - val_loss: 14.3165 - val_acc: 0.1432\n",
            "Epoch 3/50\n",
            "60000/60000 [==============================] - 1s 12us/sample - loss: 2.5336 - acc: 0.1336 - val_loss: 10.5918 - val_acc: 0.1619\n",
            "Epoch 4/50\n",
            "60000/60000 [==============================] - 1s 12us/sample - loss: 2.3141 - acc: 0.1858 - val_loss: 8.4792 - val_acc: 0.1830\n",
            "Epoch 5/50\n",
            "60000/60000 [==============================] - 1s 12us/sample - loss: 2.1381 - acc: 0.2379 - val_loss: 7.1106 - val_acc: 0.2047\n",
            "Epoch 6/50\n",
            "60000/60000 [==============================] - 1s 12us/sample - loss: 1.9957 - acc: 0.2843 - val_loss: 6.1408 - val_acc: 0.2232\n",
            "Epoch 7/50\n",
            "60000/60000 [==============================] - 1s 13us/sample - loss: 1.8787 - acc: 0.3223 - val_loss: 5.4119 - val_acc: 0.2442\n",
            "Epoch 8/50\n",
            "60000/60000 [==============================] - 1s 13us/sample - loss: 1.7811 - acc: 0.3565 - val_loss: 4.8417 - val_acc: 0.2620\n",
            "Epoch 9/50\n",
            "60000/60000 [==============================] - 1s 13us/sample - loss: 1.6984 - acc: 0.3850 - val_loss: 4.3831 - val_acc: 0.2818\n",
            "Epoch 10/50\n",
            "60000/60000 [==============================] - 1s 13us/sample - loss: 1.6275 - acc: 0.4121 - val_loss: 4.0070 - val_acc: 0.3008\n",
            "Epoch 11/50\n",
            "60000/60000 [==============================] - 1s 13us/sample - loss: 1.5661 - acc: 0.4361 - val_loss: 3.6940 - val_acc: 0.3206\n",
            "Epoch 12/50\n",
            "60000/60000 [==============================] - 1s 13us/sample - loss: 1.5124 - acc: 0.4585 - val_loss: 3.4304 - val_acc: 0.3412\n",
            "Epoch 13/50\n",
            "60000/60000 [==============================] - 1s 13us/sample - loss: 1.4650 - acc: 0.4794 - val_loss: 3.2060 - val_acc: 0.3577\n",
            "Epoch 14/50\n",
            "60000/60000 [==============================] - 1s 14us/sample - loss: 1.4229 - acc: 0.4964 - val_loss: 3.0132 - val_acc: 0.3752\n",
            "Epoch 15/50\n",
            "60000/60000 [==============================] - 1s 13us/sample - loss: 1.3852 - acc: 0.5129 - val_loss: 2.8458 - val_acc: 0.3906\n",
            "Epoch 16/50\n",
            "60000/60000 [==============================] - 1s 13us/sample - loss: 1.3514 - acc: 0.5273 - val_loss: 2.6995 - val_acc: 0.4082\n",
            "Epoch 17/50\n",
            "60000/60000 [==============================] - 1s 13us/sample - loss: 1.3208 - acc: 0.5406 - val_loss: 2.5704 - val_acc: 0.4237\n",
            "Epoch 18/50\n",
            "60000/60000 [==============================] - 1s 12us/sample - loss: 1.2929 - acc: 0.5526 - val_loss: 2.4558 - val_acc: 0.4383\n",
            "Epoch 19/50\n",
            "60000/60000 [==============================] - 1s 12us/sample - loss: 1.2674 - acc: 0.5626 - val_loss: 2.3534 - val_acc: 0.4522\n",
            "Epoch 20/50\n",
            "60000/60000 [==============================] - 1s 12us/sample - loss: 1.2441 - acc: 0.5719 - val_loss: 2.2612 - val_acc: 0.4667\n",
            "Epoch 21/50\n",
            "60000/60000 [==============================] - 1s 12us/sample - loss: 1.2225 - acc: 0.5796 - val_loss: 2.1778 - val_acc: 0.4776\n",
            "Epoch 22/50\n",
            "60000/60000 [==============================] - 1s 12us/sample - loss: 1.2026 - acc: 0.5872 - val_loss: 2.1019 - val_acc: 0.4914\n",
            "Epoch 23/50\n",
            "60000/60000 [==============================] - 1s 12us/sample - loss: 1.1840 - acc: 0.5947 - val_loss: 2.0325 - val_acc: 0.5036\n",
            "Epoch 24/50\n",
            "60000/60000 [==============================] - 1s 12us/sample - loss: 1.1667 - acc: 0.6011 - val_loss: 1.9689 - val_acc: 0.5165\n",
            "Epoch 25/50\n",
            "60000/60000 [==============================] - 1s 13us/sample - loss: 1.1506 - acc: 0.6076 - val_loss: 1.9102 - val_acc: 0.5261\n",
            "Epoch 26/50\n",
            "60000/60000 [==============================] - 1s 12us/sample - loss: 1.1354 - acc: 0.6131 - val_loss: 1.8559 - val_acc: 0.5350\n",
            "Epoch 27/50\n",
            "60000/60000 [==============================] - 1s 13us/sample - loss: 1.1211 - acc: 0.6185 - val_loss: 1.8056 - val_acc: 0.5418\n",
            "Epoch 28/50\n",
            "60000/60000 [==============================] - 1s 12us/sample - loss: 1.1077 - acc: 0.6231 - val_loss: 1.7587 - val_acc: 0.5484\n",
            "Epoch 29/50\n",
            "60000/60000 [==============================] - 1s 12us/sample - loss: 1.0949 - acc: 0.6277 - val_loss: 1.7150 - val_acc: 0.5539\n",
            "Epoch 30/50\n",
            "60000/60000 [==============================] - 1s 12us/sample - loss: 1.0829 - acc: 0.6317 - val_loss: 1.6741 - val_acc: 0.5600\n",
            "Epoch 31/50\n",
            "60000/60000 [==============================] - 1s 12us/sample - loss: 1.0714 - acc: 0.6355 - val_loss: 1.6357 - val_acc: 0.5651\n",
            "Epoch 32/50\n",
            "60000/60000 [==============================] - 1s 12us/sample - loss: 1.0606 - acc: 0.6395 - val_loss: 1.5997 - val_acc: 0.5714\n",
            "Epoch 33/50\n",
            "60000/60000 [==============================] - 1s 12us/sample - loss: 1.0502 - acc: 0.6429 - val_loss: 1.5658 - val_acc: 0.5755\n",
            "Epoch 34/50\n",
            "60000/60000 [==============================] - 1s 12us/sample - loss: 1.0403 - acc: 0.6458 - val_loss: 1.5339 - val_acc: 0.5810\n",
            "Epoch 35/50\n",
            "60000/60000 [==============================] - 1s 13us/sample - loss: 1.0308 - acc: 0.6488 - val_loss: 1.5037 - val_acc: 0.5843\n",
            "Epoch 36/50\n",
            "60000/60000 [==============================] - 1s 12us/sample - loss: 1.0218 - acc: 0.6518 - val_loss: 1.4751 - val_acc: 0.5894\n",
            "Epoch 37/50\n",
            "60000/60000 [==============================] - 1s 12us/sample - loss: 1.0131 - acc: 0.6550 - val_loss: 1.4481 - val_acc: 0.5940\n",
            "Epoch 38/50\n",
            "60000/60000 [==============================] - 1s 12us/sample - loss: 1.0048 - acc: 0.6575 - val_loss: 1.4224 - val_acc: 0.5981\n",
            "Epoch 39/50\n",
            "60000/60000 [==============================] - 1s 12us/sample - loss: 0.9968 - acc: 0.6604 - val_loss: 1.3980 - val_acc: 0.6020\n",
            "Epoch 40/50\n",
            "60000/60000 [==============================] - 1s 12us/sample - loss: 0.9891 - acc: 0.6632 - val_loss: 1.3748 - val_acc: 0.6058\n",
            "Epoch 41/50\n",
            "60000/60000 [==============================] - 1s 12us/sample - loss: 0.9817 - acc: 0.6657 - val_loss: 1.3528 - val_acc: 0.6089\n",
            "Epoch 42/50\n",
            "60000/60000 [==============================] - 1s 12us/sample - loss: 0.9745 - acc: 0.6679 - val_loss: 1.3317 - val_acc: 0.6131\n",
            "Epoch 43/50\n",
            "60000/60000 [==============================] - 1s 12us/sample - loss: 0.9677 - acc: 0.6700 - val_loss: 1.3116 - val_acc: 0.6169\n",
            "Epoch 44/50\n",
            "60000/60000 [==============================] - 1s 12us/sample - loss: 0.9610 - acc: 0.6725 - val_loss: 1.2924 - val_acc: 0.6201\n",
            "Epoch 45/50\n",
            "60000/60000 [==============================] - 1s 12us/sample - loss: 0.9546 - acc: 0.6745 - val_loss: 1.2741 - val_acc: 0.6239\n",
            "Epoch 46/50\n",
            "60000/60000 [==============================] - 1s 12us/sample - loss: 0.9483 - acc: 0.6769 - val_loss: 1.2566 - val_acc: 0.6270\n",
            "Epoch 47/50\n",
            "60000/60000 [==============================] - 1s 12us/sample - loss: 0.9423 - acc: 0.6788 - val_loss: 1.2397 - val_acc: 0.6299\n",
            "Epoch 48/50\n",
            "60000/60000 [==============================] - 1s 12us/sample - loss: 0.9365 - acc: 0.6806 - val_loss: 1.2236 - val_acc: 0.6326\n",
            "Epoch 49/50\n",
            "60000/60000 [==============================] - 1s 13us/sample - loss: 0.9308 - acc: 0.6823 - val_loss: 1.2081 - val_acc: 0.6345\n",
            "Epoch 50/50\n",
            "60000/60000 [==============================] - 1s 12us/sample - loss: 0.9253 - acc: 0.6841 - val_loss: 1.1933 - val_acc: 0.6376\n"
          ],
          "name": "stdout"
        },
        {
          "output_type": "execute_result",
          "data": {
            "text/plain": [
              "<tensorflow.python.keras.callbacks.History at 0x7f18360bae10>"
            ]
          },
          "metadata": {
            "tags": []
          },
          "execution_count": 21
        }
      ]
    },
    {
      "cell_type": "markdown",
      "metadata": {
        "colab_type": "text",
        "id": "j9CSqKvpOIVk"
      },
      "source": [
        "### Build the Neural Network model with 3 Dense layers with 100,100,10 neurons respectively in each layer. Use cross entropy loss function and singmoid as activation in the hidden layers and softmax as activation function in the output layer. Use sgd optimizer with learning rate 0.03."
      ]
    },
    {
      "cell_type": "code",
      "metadata": {
        "colab_type": "code",
        "id": "GGAad54JOIVm",
        "colab": {}
      },
      "source": [
        "model2 = tf.keras.models.Sequential()  # For the first layer, to receive the information \n",
        "model2.add(tf.keras.layers.Reshape((784,),input_shape = (28,28,)))  # Reshaping for providing the input \n",
        "\n",
        "model2.add(tf.keras.layers.BatchNormalization())  "
      ],
      "execution_count": 0,
      "outputs": []
    },
    {
      "cell_type": "code",
      "metadata": {
        "colab_type": "code",
        "id": "MQ7oIymROIVp",
        "colab": {}
      },
      "source": [
        "model2.add(tf.keras.layers.Dense(100,activation = 'sigmoid'))"
      ],
      "execution_count": 0,
      "outputs": []
    },
    {
      "cell_type": "code",
      "metadata": {
        "colab_type": "code",
        "id": "X-O-fFxnOIVt",
        "colab": {}
      },
      "source": [
        "model2.add(tf.keras.layers.Dense(100,activation = 'sigmoid'))"
      ],
      "execution_count": 0,
      "outputs": []
    },
    {
      "cell_type": "code",
      "metadata": {
        "id": "dk_fMBlOa4ws",
        "colab_type": "code",
        "colab": {}
      },
      "source": [
        "model2.add(tf.keras.layers.Dense(10,activation = 'sigmoid'))"
      ],
      "execution_count": 0,
      "outputs": []
    },
    {
      "cell_type": "code",
      "metadata": {
        "colab_type": "code",
        "id": "BiP7IL52OIVw",
        "colab": {}
      },
      "source": [
        "model2.add(tf.keras.layers.Dense(10,activation='softmax'))"
      ],
      "execution_count": 0,
      "outputs": []
    },
    {
      "cell_type": "markdown",
      "metadata": {
        "colab_type": "text",
        "id": "Nr2YsZV0OIV0"
      },
      "source": [
        "## Review model"
      ]
    },
    {
      "cell_type": "code",
      "metadata": {
        "colab_type": "code",
        "id": "h4ojW6-oOIV2",
        "colab": {}
      },
      "source": [
        "gd = SGD(lr=0.001)\n",
        "model2.compile(optimizer='sgd',loss= 'categorical_crossentropy',metrics = ['accuracy'])"
      ],
      "execution_count": 0,
      "outputs": []
    },
    {
      "cell_type": "markdown",
      "metadata": {
        "colab_type": "text",
        "id": "gfFGmbZLOIV5"
      },
      "source": [
        "### Run the model"
      ]
    },
    {
      "cell_type": "code",
      "metadata": {
        "colab_type": "code",
        "id": "bIkbMEN5OIV7",
        "outputId": "b796bb6d-ab09-46b0-981f-2de48b88ffa4",
        "colab": {
          "base_uri": "https://localhost:8080/",
          "height": 1000
        }
      },
      "source": [
        "model1.fit(trainX,train_labels,validation_data = (testX,test_labels), epochs = 50, batch_size= trainX.shape[0])"
      ],
      "execution_count": 0,
      "outputs": [
        {
          "output_type": "stream",
          "text": [
            "Train on 60000 samples, validate on 10000 samples\n",
            "Epoch 1/50\n",
            "60000/60000 [==============================] - 1s 12us/sample - loss: 0.9200 - acc: 0.6857 - val_loss: 1.1790 - val_acc: 0.6407\n",
            "Epoch 2/50\n",
            "60000/60000 [==============================] - 1s 12us/sample - loss: 0.9148 - acc: 0.6874 - val_loss: 1.1653 - val_acc: 0.6430\n",
            "Epoch 3/50\n",
            "60000/60000 [==============================] - 1s 12us/sample - loss: 0.9098 - acc: 0.6892 - val_loss: 1.1521 - val_acc: 0.6459\n",
            "Epoch 4/50\n",
            "60000/60000 [==============================] - 1s 12us/sample - loss: 0.9049 - acc: 0.6911 - val_loss: 1.1393 - val_acc: 0.6483\n",
            "Epoch 5/50\n",
            "60000/60000 [==============================] - 1s 12us/sample - loss: 0.9002 - acc: 0.6929 - val_loss: 1.1271 - val_acc: 0.6509\n",
            "Epoch 6/50\n",
            "60000/60000 [==============================] - 1s 12us/sample - loss: 0.8955 - acc: 0.6946 - val_loss: 1.1153 - val_acc: 0.6527\n",
            "Epoch 7/50\n",
            "60000/60000 [==============================] - 1s 12us/sample - loss: 0.8910 - acc: 0.6964 - val_loss: 1.1039 - val_acc: 0.6550\n",
            "Epoch 8/50\n",
            "60000/60000 [==============================] - 1s 12us/sample - loss: 0.8866 - acc: 0.6981 - val_loss: 1.0929 - val_acc: 0.6575\n",
            "Epoch 9/50\n",
            "60000/60000 [==============================] - 1s 12us/sample - loss: 0.8823 - acc: 0.6996 - val_loss: 1.0822 - val_acc: 0.6599\n",
            "Epoch 10/50\n",
            "60000/60000 [==============================] - 1s 12us/sample - loss: 0.8781 - acc: 0.7012 - val_loss: 1.0720 - val_acc: 0.6606\n",
            "Epoch 11/50\n",
            "60000/60000 [==============================] - 1s 12us/sample - loss: 0.8741 - acc: 0.7028 - val_loss: 1.0620 - val_acc: 0.6632\n",
            "Epoch 12/50\n",
            "60000/60000 [==============================] - 1s 12us/sample - loss: 0.8701 - acc: 0.7038 - val_loss: 1.0524 - val_acc: 0.6648\n",
            "Epoch 13/50\n",
            "60000/60000 [==============================] - 1s 13us/sample - loss: 0.8662 - acc: 0.7051 - val_loss: 1.0431 - val_acc: 0.6664\n",
            "Epoch 14/50\n",
            "60000/60000 [==============================] - 1s 12us/sample - loss: 0.8624 - acc: 0.7064 - val_loss: 1.0341 - val_acc: 0.6672\n",
            "Epoch 15/50\n",
            "60000/60000 [==============================] - 1s 12us/sample - loss: 0.8587 - acc: 0.7075 - val_loss: 1.0254 - val_acc: 0.6687\n",
            "Epoch 16/50\n",
            "60000/60000 [==============================] - 1s 12us/sample - loss: 0.8550 - acc: 0.7088 - val_loss: 1.0169 - val_acc: 0.6705\n",
            "Epoch 17/50\n",
            "60000/60000 [==============================] - 1s 12us/sample - loss: 0.8515 - acc: 0.7099 - val_loss: 1.0087 - val_acc: 0.6725\n",
            "Epoch 18/50\n",
            "60000/60000 [==============================] - 1s 12us/sample - loss: 0.8480 - acc: 0.7108 - val_loss: 1.0008 - val_acc: 0.6746\n",
            "Epoch 19/50\n",
            "60000/60000 [==============================] - 1s 12us/sample - loss: 0.8446 - acc: 0.7119 - val_loss: 0.9931 - val_acc: 0.6769\n",
            "Epoch 20/50\n",
            "60000/60000 [==============================] - 1s 12us/sample - loss: 0.8412 - acc: 0.7130 - val_loss: 0.9856 - val_acc: 0.6787\n",
            "Epoch 21/50\n",
            "60000/60000 [==============================] - 1s 12us/sample - loss: 0.8380 - acc: 0.7142 - val_loss: 0.9784 - val_acc: 0.6802\n",
            "Epoch 22/50\n",
            "60000/60000 [==============================] - 1s 12us/sample - loss: 0.8348 - acc: 0.7149 - val_loss: 0.9713 - val_acc: 0.6820\n",
            "Epoch 23/50\n",
            "60000/60000 [==============================] - 1s 12us/sample - loss: 0.8317 - acc: 0.7162 - val_loss: 0.9644 - val_acc: 0.6838\n",
            "Epoch 24/50\n",
            "60000/60000 [==============================] - 1s 12us/sample - loss: 0.8286 - acc: 0.7174 - val_loss: 0.9578 - val_acc: 0.6853\n",
            "Epoch 25/50\n",
            "60000/60000 [==============================] - 1s 12us/sample - loss: 0.8256 - acc: 0.7182 - val_loss: 0.9513 - val_acc: 0.6871\n",
            "Epoch 26/50\n",
            "60000/60000 [==============================] - 1s 12us/sample - loss: 0.8226 - acc: 0.7190 - val_loss: 0.9450 - val_acc: 0.6887\n",
            "Epoch 27/50\n",
            "60000/60000 [==============================] - 1s 12us/sample - loss: 0.8197 - acc: 0.7200 - val_loss: 0.9389 - val_acc: 0.6904\n",
            "Epoch 28/50\n",
            "60000/60000 [==============================] - 1s 12us/sample - loss: 0.8169 - acc: 0.7210 - val_loss: 0.9329 - val_acc: 0.6921\n",
            "Epoch 29/50\n",
            "60000/60000 [==============================] - 1s 12us/sample - loss: 0.8141 - acc: 0.7219 - val_loss: 0.9271 - val_acc: 0.6933\n",
            "Epoch 30/50\n",
            "60000/60000 [==============================] - 1s 12us/sample - loss: 0.8113 - acc: 0.7229 - val_loss: 0.9215 - val_acc: 0.6949\n",
            "Epoch 31/50\n",
            "60000/60000 [==============================] - 1s 12us/sample - loss: 0.8087 - acc: 0.7240 - val_loss: 0.9160 - val_acc: 0.6963\n",
            "Epoch 32/50\n",
            "60000/60000 [==============================] - 1s 12us/sample - loss: 0.8060 - acc: 0.7251 - val_loss: 0.9106 - val_acc: 0.6981\n",
            "Epoch 33/50\n",
            "60000/60000 [==============================] - 1s 12us/sample - loss: 0.8034 - acc: 0.7260 - val_loss: 0.9054 - val_acc: 0.6998\n",
            "Epoch 34/50\n",
            "60000/60000 [==============================] - 1s 12us/sample - loss: 0.8009 - acc: 0.7268 - val_loss: 0.9003 - val_acc: 0.7011\n",
            "Epoch 35/50\n",
            "60000/60000 [==============================] - 1s 12us/sample - loss: 0.7984 - acc: 0.7276 - val_loss: 0.8953 - val_acc: 0.7017\n",
            "Epoch 36/50\n",
            "60000/60000 [==============================] - 1s 12us/sample - loss: 0.7959 - acc: 0.7281 - val_loss: 0.8905 - val_acc: 0.7032\n",
            "Epoch 37/50\n",
            "60000/60000 [==============================] - 1s 12us/sample - loss: 0.7935 - acc: 0.7290 - val_loss: 0.8858 - val_acc: 0.7042\n",
            "Epoch 38/50\n",
            "60000/60000 [==============================] - 1s 12us/sample - loss: 0.7911 - acc: 0.7297 - val_loss: 0.8812 - val_acc: 0.7051\n",
            "Epoch 39/50\n",
            "60000/60000 [==============================] - 1s 12us/sample - loss: 0.7887 - acc: 0.7305 - val_loss: 0.8767 - val_acc: 0.7063\n",
            "Epoch 40/50\n",
            "60000/60000 [==============================] - 1s 12us/sample - loss: 0.7864 - acc: 0.7315 - val_loss: 0.8723 - val_acc: 0.7077\n",
            "Epoch 41/50\n",
            "60000/60000 [==============================] - 1s 12us/sample - loss: 0.7842 - acc: 0.7323 - val_loss: 0.8680 - val_acc: 0.7090\n",
            "Epoch 42/50\n",
            "60000/60000 [==============================] - 1s 12us/sample - loss: 0.7819 - acc: 0.7329 - val_loss: 0.8639 - val_acc: 0.7105\n",
            "Epoch 43/50\n",
            "60000/60000 [==============================] - 1s 12us/sample - loss: 0.7797 - acc: 0.7335 - val_loss: 0.8598 - val_acc: 0.7116\n",
            "Epoch 44/50\n",
            "60000/60000 [==============================] - 1s 12us/sample - loss: 0.7776 - acc: 0.7343 - val_loss: 0.8558 - val_acc: 0.7124\n",
            "Epoch 45/50\n",
            "60000/60000 [==============================] - 1s 12us/sample - loss: 0.7754 - acc: 0.7349 - val_loss: 0.8519 - val_acc: 0.7139\n",
            "Epoch 46/50\n",
            "60000/60000 [==============================] - 1s 12us/sample - loss: 0.7733 - acc: 0.7357 - val_loss: 0.8481 - val_acc: 0.7149\n",
            "Epoch 47/50\n",
            "60000/60000 [==============================] - 1s 12us/sample - loss: 0.7713 - acc: 0.7363 - val_loss: 0.8444 - val_acc: 0.7162\n",
            "Epoch 48/50\n",
            "60000/60000 [==============================] - 1s 12us/sample - loss: 0.7692 - acc: 0.7369 - val_loss: 0.8407 - val_acc: 0.7176\n",
            "Epoch 49/50\n",
            "60000/60000 [==============================] - 1s 12us/sample - loss: 0.7672 - acc: 0.7375 - val_loss: 0.8372 - val_acc: 0.7190\n",
            "Epoch 50/50\n",
            "60000/60000 [==============================] - 1s 12us/sample - loss: 0.7653 - acc: 0.7382 - val_loss: 0.8337 - val_acc: 0.7201\n"
          ],
          "name": "stdout"
        },
        {
          "output_type": "execute_result",
          "data": {
            "text/plain": [
              "<tensorflow.python.keras.callbacks.History at 0x7f182661a9e8>"
            ]
          },
          "metadata": {
            "tags": []
          },
          "execution_count": 29
        }
      ]
    },
    {
      "cell_type": "code",
      "metadata": {
        "id": "XC_s-p66bMLt",
        "colab_type": "code",
        "colab": {}
      },
      "source": [
        ""
      ],
      "execution_count": 0,
      "outputs": []
    }
  ]
}