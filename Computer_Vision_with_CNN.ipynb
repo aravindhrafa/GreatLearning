{
 "cells": [
  {
   "cell_type": "code",
   "execution_count": 1,
   "metadata": {
    "colab": {
     "base_uri": "https://localhost:8080/",
     "height": 33
    },
    "colab_type": "code",
    "id": "WtjPuiusDF8i",
    "outputId": "0f9b6952-7a3e-4375-d9e0-893c0018c274"
   },
   "outputs": [
    {
     "name": "stdout",
     "output_type": "stream",
     "text": [
      "TensorFlow 2.x selected.\n"
     ]
    }
   ],
   "source": [
    "%tensorflow_version 2.x\n",
    "\n",
    "import numpy as np\n",
    "import pandas as pd\n",
    "import matplotlib.pyplot as plt\n",
    "import seaborn as sns\n",
    "import os\n",
    "from pathlib import Path\n",
    "from os import listdir, makedirs, getcwd, remove\n",
    "from os.path import isfile, join, abspath, exists, isdir, expanduser\n",
    "import numpy as np\n",
    "import pandas as pd\n",
    "import cv2\n",
    "from glob import glob\n",
    "\n",
    "\n",
    "\n",
    "from tensorflow.python.keras.utils import np_utils\n",
    "from tensorflow.python.keras.preprocessing.image import ImageDataGenerator\n",
    "from tensorflow.python.keras.models import Sequential\n",
    "from tensorflow.python.keras.layers import Dense\n",
    "from tensorflow.python.keras.layers import Dropout\n",
    "from tensorflow.python.keras.layers import Flatten\n",
    "from tensorflow.python.keras.layers.convolutional import Conv2D\n",
    "from tensorflow.python.keras.layers.convolutional import MaxPooling2D\n",
    "from tensorflow.python.keras.layers import BatchNormalization\n",
    "from tensorflow.python.keras.callbacks import ModelCheckpoint,ReduceLROnPlateau,CSVLogger\n",
    "\n",
    "from sklearn.model_selection import GridSearchCV\n",
    "from tensorflow.python.keras.wrappers.scikit_learn import KerasClassifier"
   ]
  },
  {
   "cell_type": "code",
   "execution_count": 2,
   "metadata": {
    "colab": {
     "base_uri": "https://localhost:8080/",
     "height": 310
    },
    "colab_type": "code",
    "id": "Xbtq_EjlDHRK",
    "outputId": "f33a64c3-aed7-4606-f980-775e2dfdc52f"
   },
   "outputs": [
    {
     "name": "stdout",
     "output_type": "stream",
     "text": [
      "Found existing installation: kaggle 1.5.6\n",
      "Uninstalling kaggle-1.5.6:\n",
      "  Successfully uninstalled kaggle-1.5.6\n",
      "Requirement already up-to-date: pip in /usr/local/lib/python3.6/dist-packages (20.0.2)\n",
      "Processing /root/.cache/pip/wheels/01/3e/ff/77407ebac3ef71a79b9166a8382aecf88415a0bcbe3c095a01/kaggle-1.5.6-py3-none-any.whl\n",
      "Requirement already satisfied: certifi in /tensorflow-2.1.0/python3.6 (from kaggle==1.5.6) (2019.11.28)\n",
      "Requirement already satisfied: tqdm in /usr/local/lib/python3.6/dist-packages (from kaggle==1.5.6) (4.28.1)\n",
      "Requirement already satisfied: requests in /tensorflow-2.1.0/python3.6 (from kaggle==1.5.6) (2.22.0)\n",
      "Requirement already satisfied: six>=1.10 in /tensorflow-2.1.0/python3.6 (from kaggle==1.5.6) (1.13.0)\n",
      "Requirement already satisfied: python-dateutil in /usr/local/lib/python3.6/dist-packages (from kaggle==1.5.6) (2.6.1)\n",
      "Requirement already satisfied: python-slugify in /usr/local/lib/python3.6/dist-packages (from kaggle==1.5.6) (4.0.0)\n",
      "Requirement already satisfied: urllib3<1.25,>=1.21.1 in /usr/local/lib/python3.6/dist-packages (from kaggle==1.5.6) (1.24.3)\n",
      "Requirement already satisfied: idna<2.9,>=2.5 in /tensorflow-2.1.0/python3.6 (from requests->kaggle==1.5.6) (2.8)\n",
      "Requirement already satisfied: chardet<3.1.0,>=3.0.2 in /tensorflow-2.1.0/python3.6 (from requests->kaggle==1.5.6) (3.0.4)\n",
      "Requirement already satisfied: text-unidecode>=1.3 in /usr/local/lib/python3.6/dist-packages (from python-slugify->kaggle==1.5.6) (1.3)\n",
      "Installing collected packages: kaggle\n",
      "Successfully installed kaggle-1.5.6\n",
      "Kaggle API 1.5.6\n"
     ]
    }
   ],
   "source": [
    "!pip uninstall -y kaggle\n",
    "!pip install --upgrade pip\n",
    "!pip install kaggle==1.5.6\n",
    "!kaggle -v"
   ]
  },
  {
   "cell_type": "code",
   "execution_count": 3,
   "metadata": {
    "colab": {
     "base_uri": "https://localhost:8080/",
     "height": 33
    },
    "colab_type": "code",
    "id": "ZfCth9JrDKGD",
    "outputId": "01c5fa15-a332-486f-b00d-c74c3535f433"
   },
   "outputs": [
    {
     "name": "stdout",
     "output_type": "stream",
     "text": [
      "mkdir: cannot create directory ‘/root/.kaggle’: File exists\n"
     ]
    }
   ],
   "source": [
    "!mkdir ~/.kaggle"
   ]
  },
  {
   "cell_type": "code",
   "execution_count": 0,
   "metadata": {
    "colab": {},
    "colab_type": "code",
    "id": "x67RRCPWDXk2"
   },
   "outputs": [],
   "source": [
    "import json\n",
    "token = {'username':'aravindhrafa','key':'5cbba43517c60dfe9635cdd7bc2e5284'}\n",
    "with open('/root/.kaggle/kaggle.json', 'w') as file:\n",
    "    json.dump(token, file)"
   ]
  },
  {
   "cell_type": "code",
   "execution_count": 5,
   "metadata": {
    "colab": {
     "base_uri": "https://localhost:8080/",
     "height": 33
    },
    "colab_type": "code",
    "id": "vZOvTqQVDuvX",
    "outputId": "bd1a18fd-2350-4f93-c95a-8c2aa3ceddc7"
   },
   "outputs": [
    {
     "name": "stdout",
     "output_type": "stream",
     "text": [
      "- path is now set to: {/content}\n"
     ]
    }
   ],
   "source": [
    "!kaggle config set -n path -v{/content}"
   ]
  },
  {
   "cell_type": "code",
   "execution_count": 0,
   "metadata": {
    "colab": {},
    "colab_type": "code",
    "id": "im-u5w73D9uI"
   },
   "outputs": [],
   "source": [
    "!chmod 600 /root/.kaggle/kaggle.json"
   ]
  },
  {
   "cell_type": "code",
   "execution_count": 7,
   "metadata": {
    "colab": {
     "base_uri": "https://localhost:8080/",
     "height": 33
    },
    "colab_type": "code",
    "id": "nHBXvR-TEDuY",
    "outputId": "a127c87a-8647-4f2e-b03b-b8df5dae6198"
   },
   "outputs": [
    {
     "name": "stdout",
     "output_type": "stream",
     "text": [
      "401 - Unauthorized\n"
     ]
    }
   ],
   "source": [
    "!kaggle competitions download -c plant-seedlings-classification"
   ]
  },
  {
   "cell_type": "code",
   "execution_count": 8,
   "metadata": {
    "colab": {
     "base_uri": "https://localhost:8080/",
     "height": 33
    },
    "colab_type": "code",
    "id": "zrSMZQB_EKwn",
    "outputId": "cb0875f0-04cd-4618-8ca2-817682e57ba2"
   },
   "outputs": [
    {
     "name": "stdout",
     "output_type": "stream",
     "text": [
      "Drive already mounted at /content/drive; to attempt to forcibly remount, call drive.mount(\"/content/drive\", force_remount=True).\n"
     ]
    }
   ],
   "source": [
    "from google.colab import drive\n",
    "drive.mount('/content/drive')\n"
   ]
  },
  {
   "cell_type": "code",
   "execution_count": 9,
   "metadata": {
    "colab": {
     "base_uri": "https://localhost:8080/",
     "height": 33
    },
    "colab_type": "code",
    "id": "EQ5mgzWTFmYn",
    "outputId": "089d6ff0-9cd0-4d15-b661-b8940aec0768"
   },
   "outputs": [
    {
     "name": "stdout",
     "output_type": "stream",
     "text": [
      "['Sugar beet', 'Shepherds Purse', 'Common wheat', 'Maize', 'Loose Silky-bent', 'Scentless Mayweed', 'Common Chickweed', 'Fat Hen', 'Cleavers', 'Black-grass', 'Charlock', 'Small-flowered Cranesbill']\n"
     ]
    }
   ],
   "source": [
    "import os\n",
    "print(os.listdir('/content/drive/My Drive/image folder /train'))\n",
    "\n",
    "# for accessing the files inside the google drive folder\n",
    "# In the above line, image folder is saved with one space on the right side "
   ]
  },
  {
   "cell_type": "code",
   "execution_count": 0,
   "metadata": {
    "colab": {},
    "colab_type": "code",
    "id": "g7LEjtoTG0QJ"
   },
   "outputs": [],
   "source": [
    "types = ['Black-grass','Charlock','Cleavers','Common Chickweed','Common wheat','Fat Hen','Loose Silky-bent','Maize','Scentless Mayweed','Shepherds Purse','Small-flowered Cranesbill','Sugar beet']\n",
    "\n",
    "total_data_path = '/content/drive/My Drive/image folder /'\n",
    "train_path = os.path.join(total_data_path, 'train')\n",
    "test_path = os.path.join(total_data_path, 'test')\n",
    "sample_submission = pd.read_csv(os.path.join(total_data_path, 'sample_submission.csv'))"
   ]
  },
  {
   "cell_type": "code",
   "execution_count": 11,
   "metadata": {
    "colab": {
     "base_uri": "https://localhost:8080/",
     "height": 33
    },
    "colab_type": "code",
    "id": "cNFA3FOATGs7",
    "outputId": "8f460fc8-2257-4bc8-8f44-be39a202ab6c"
   },
   "outputs": [
    {
     "data": {
      "text/plain": [
       "'/content/drive/My Drive/image folder /'"
      ]
     },
     "execution_count": 11,
     "metadata": {
      "tags": []
     },
     "output_type": "execute_result"
    }
   ],
   "source": [
    "total_data_path"
   ]
  },
  {
   "cell_type": "code",
   "execution_count": 12,
   "metadata": {
    "colab": {
     "base_uri": "https://localhost:8080/",
     "height": 33
    },
    "colab_type": "code",
    "id": "8Qcqjx-ZTREL",
    "outputId": "a0b8a438-2910-41c6-a6c7-50dedd60fa53"
   },
   "outputs": [
    {
     "data": {
      "text/plain": [
       "'/content/drive/My Drive/image folder /train'"
      ]
     },
     "execution_count": 12,
     "metadata": {
      "tags": []
     },
     "output_type": "execute_result"
    }
   ],
   "source": [
    "train_path"
   ]
  },
  {
   "cell_type": "code",
   "execution_count": 13,
   "metadata": {
    "colab": {
     "base_uri": "https://localhost:8080/",
     "height": 33
    },
    "colab_type": "code",
    "id": "QI1azGR5TUSI",
    "outputId": "a08bf2d5-0c01-41de-c819-954a93055ff8"
   },
   "outputs": [
    {
     "data": {
      "text/plain": [
       "'/content/drive/My Drive/image folder /test'"
      ]
     },
     "execution_count": 13,
     "metadata": {
      "tags": []
     },
     "output_type": "execute_result"
    }
   ],
   "source": [
    "test_path"
   ]
  },
  {
   "cell_type": "code",
   "execution_count": 14,
   "metadata": {
    "colab": {
     "base_uri": "https://localhost:8080/",
     "height": 212
    },
    "colab_type": "code",
    "id": "0YLtAj5pTWxq",
    "outputId": "e5b7ce9e-6f5f-4557-ca00-f2c9922a7370"
   },
   "outputs": [
    {
     "name": "stdout",
     "output_type": "stream",
     "text": [
      "Black-grass              contains ----> 263 images\n",
      "Charlock              contains ----> 390 images\n",
      "Cleavers              contains ----> 287 images\n",
      "Common Chickweed              contains ----> 611 images\n",
      "Common wheat              contains ----> 221 images\n",
      "Fat Hen              contains ----> 475 images\n",
      "Loose Silky-bent              contains ----> 654 images\n",
      "Maize              contains ----> 221 images\n",
      "Scentless Mayweed              contains ----> 516 images\n",
      "Shepherds Purse              contains ----> 231 images\n",
      "Small-flowered Cranesbill              contains ----> 506 images\n",
      "Sugar beet              contains ----> 385 images\n"
     ]
    }
   ],
   "source": [
    "#Checking the segreation of each group of images like images.unique\n",
    "# Since there are 12 folders containing the bulk of images\n",
    "\n",
    "for i in types:\n",
    "\n",
    "  p=len(os.listdir(os.path.join(train_path,i)))\n",
    "\n",
    "  # Using the format method to collect the number of each types \n",
    "\n",
    "  # os.path is for finding the correct path \n",
    "  # Already train_path is correctly pointing the train path in gdrive\n",
    "  # join () will help to point train_path ----> various types \n",
    "\n",
    "  print(\"{}              contains ----> {} images\".format(i,p))\n",
    "\n",
    "\n",
    "# File is accessed and datas are accessed "
   ]
  },
  {
   "cell_type": "code",
   "execution_count": 0,
   "metadata": {
    "colab": {},
    "colab_type": "code",
    "id": "wANATZlDUeat"
   },
   "outputs": [],
   "source": [
    "# To study about images of the train and their parameters, dataframe need to be created \n",
    "\n",
    "\n",
    "#dataframe with information on train dataset (made for convenient looping)\n",
    "train = []\n",
    "for p,q in enumerate(types):\n",
    "  s = os.listdir(os.path.join(train_path,q))\n",
    "  for x in s:\n",
    "    train.append(['train/{}/{}'.format(q,x),q,p])\n"
   ]
  },
  {
   "cell_type": "code",
   "execution_count": 16,
   "metadata": {
    "colab": {
     "base_uri": "https://localhost:8080/",
     "height": 391
    },
    "colab_type": "code",
    "id": "wJd8jaT_Vea-",
    "outputId": "11596f37-4c2b-4acf-b128-7b6c61c7b993"
   },
   "outputs": [
    {
     "data": {
      "text/html": [
       "<div>\n",
       "<style scoped>\n",
       "    .dataframe tbody tr th:only-of-type {\n",
       "        vertical-align: middle;\n",
       "    }\n",
       "\n",
       "    .dataframe tbody tr th {\n",
       "        vertical-align: top;\n",
       "    }\n",
       "\n",
       "    .dataframe thead th {\n",
       "        text-align: right;\n",
       "    }\n",
       "</style>\n",
       "<table border=\"1\" class=\"dataframe\">\n",
       "  <thead>\n",
       "    <tr style=\"text-align: right;\">\n",
       "      <th></th>\n",
       "      <th>train_file_path</th>\n",
       "      <th>plant_type</th>\n",
       "      <th>type_in_number</th>\n",
       "    </tr>\n",
       "  </thead>\n",
       "  <tbody>\n",
       "    <tr>\n",
       "      <th>0</th>\n",
       "      <td>train/Black-grass/0260cffa8.png</td>\n",
       "      <td>Black-grass</td>\n",
       "      <td>0</td>\n",
       "    </tr>\n",
       "    <tr>\n",
       "      <th>1</th>\n",
       "      <td>train/Black-grass/078eae073.png</td>\n",
       "      <td>Black-grass</td>\n",
       "      <td>0</td>\n",
       "    </tr>\n",
       "    <tr>\n",
       "      <th>2</th>\n",
       "      <td>train/Black-grass/0ace21089.png</td>\n",
       "      <td>Black-grass</td>\n",
       "      <td>0</td>\n",
       "    </tr>\n",
       "    <tr>\n",
       "      <th>3</th>\n",
       "      <td>train/Black-grass/0bb75ded8.png</td>\n",
       "      <td>Black-grass</td>\n",
       "      <td>0</td>\n",
       "    </tr>\n",
       "    <tr>\n",
       "      <th>4</th>\n",
       "      <td>train/Black-grass/0c67c3fc3.png</td>\n",
       "      <td>Black-grass</td>\n",
       "      <td>0</td>\n",
       "    </tr>\n",
       "    <tr>\n",
       "      <th>...</th>\n",
       "      <td>...</td>\n",
       "      <td>...</td>\n",
       "      <td>...</td>\n",
       "    </tr>\n",
       "    <tr>\n",
       "      <th>4755</th>\n",
       "      <td>train/Sugar beet/f474da0ca.png</td>\n",
       "      <td>Sugar beet</td>\n",
       "      <td>11</td>\n",
       "    </tr>\n",
       "    <tr>\n",
       "      <th>4756</th>\n",
       "      <td>train/Sugar beet/f9a842f5f.png</td>\n",
       "      <td>Sugar beet</td>\n",
       "      <td>11</td>\n",
       "    </tr>\n",
       "    <tr>\n",
       "      <th>4757</th>\n",
       "      <td>train/Sugar beet/faaac2544.png</td>\n",
       "      <td>Sugar beet</td>\n",
       "      <td>11</td>\n",
       "    </tr>\n",
       "    <tr>\n",
       "      <th>4758</th>\n",
       "      <td>train/Sugar beet/fb57ce659.png</td>\n",
       "      <td>Sugar beet</td>\n",
       "      <td>11</td>\n",
       "    </tr>\n",
       "    <tr>\n",
       "      <th>4759</th>\n",
       "      <td>train/Sugar beet/fef5e7066.png</td>\n",
       "      <td>Sugar beet</td>\n",
       "      <td>11</td>\n",
       "    </tr>\n",
       "  </tbody>\n",
       "</table>\n",
       "<p>4760 rows × 3 columns</p>\n",
       "</div>"
      ],
      "text/plain": [
       "                      train_file_path   plant_type  type_in_number\n",
       "0     train/Black-grass/0260cffa8.png  Black-grass               0\n",
       "1     train/Black-grass/078eae073.png  Black-grass               0\n",
       "2     train/Black-grass/0ace21089.png  Black-grass               0\n",
       "3     train/Black-grass/0bb75ded8.png  Black-grass               0\n",
       "4     train/Black-grass/0c67c3fc3.png  Black-grass               0\n",
       "...                               ...          ...             ...\n",
       "4755   train/Sugar beet/f474da0ca.png   Sugar beet              11\n",
       "4756   train/Sugar beet/f9a842f5f.png   Sugar beet              11\n",
       "4757   train/Sugar beet/faaac2544.png   Sugar beet              11\n",
       "4758   train/Sugar beet/fb57ce659.png   Sugar beet              11\n",
       "4759   train/Sugar beet/fef5e7066.png   Sugar beet              11\n",
       "\n",
       "[4760 rows x 3 columns]"
      ]
     },
     "execution_count": 16,
     "metadata": {
      "tags": []
     },
     "output_type": "execute_result"
    }
   ],
   "source": [
    "\n",
    "train_dataframe = pd.DataFrame(train,columns = ['train_file_path','plant_type','type_in_number'])\n",
    "train_dataframe"
   ]
  },
  {
   "cell_type": "code",
   "execution_count": 17,
   "metadata": {
    "colab": {
     "base_uri": "https://localhost:8080/",
     "height": 33
    },
    "colab_type": "code",
    "id": "g1KZCRAxXgWc",
    "outputId": "69796439-8230-480d-f0e6-79706ecb629e"
   },
   "outputs": [
    {
     "name": "stdout",
     "output_type": "stream",
     "text": [
      "(4760, 3)\n"
     ]
    }
   ],
   "source": [
    "print(train_dataframe.shape)"
   ]
  },
  {
   "cell_type": "code",
   "execution_count": 18,
   "metadata": {
    "colab": {
     "base_uri": "https://localhost:8080/",
     "height": 391
    },
    "colab_type": "code",
    "id": "sGfl2x0WYKrI",
    "outputId": "3e9b88cb-cd84-4ae6-e616-48962031b62e"
   },
   "outputs": [
    {
     "data": {
      "text/html": [
       "<div>\n",
       "<style scoped>\n",
       "    .dataframe tbody tr th:only-of-type {\n",
       "        vertical-align: middle;\n",
       "    }\n",
       "\n",
       "    .dataframe tbody tr th {\n",
       "        vertical-align: top;\n",
       "    }\n",
       "\n",
       "    .dataframe thead th {\n",
       "        text-align: right;\n",
       "    }\n",
       "</style>\n",
       "<table border=\"1\" class=\"dataframe\">\n",
       "  <thead>\n",
       "    <tr style=\"text-align: right;\">\n",
       "      <th></th>\n",
       "      <th>file_path</th>\n",
       "      <th>plant_type</th>\n",
       "    </tr>\n",
       "  </thead>\n",
       "  <tbody>\n",
       "    <tr>\n",
       "      <th>0</th>\n",
       "      <td>test/0021e90e4.png</td>\n",
       "      <td>0021e90e4.png</td>\n",
       "    </tr>\n",
       "    <tr>\n",
       "      <th>1</th>\n",
       "      <td>test/003d61042.png</td>\n",
       "      <td>003d61042.png</td>\n",
       "    </tr>\n",
       "    <tr>\n",
       "      <th>2</th>\n",
       "      <td>test/01291174f.png</td>\n",
       "      <td>01291174f.png</td>\n",
       "    </tr>\n",
       "    <tr>\n",
       "      <th>3</th>\n",
       "      <td>test/00d090cde.png</td>\n",
       "      <td>00d090cde.png</td>\n",
       "    </tr>\n",
       "    <tr>\n",
       "      <th>4</th>\n",
       "      <td>test/00ef713a8.png</td>\n",
       "      <td>00ef713a8.png</td>\n",
       "    </tr>\n",
       "    <tr>\n",
       "      <th>...</th>\n",
       "      <td>...</td>\n",
       "      <td>...</td>\n",
       "    </tr>\n",
       "    <tr>\n",
       "      <th>789</th>\n",
       "      <td>test/fd87b36ae.png</td>\n",
       "      <td>fd87b36ae.png</td>\n",
       "    </tr>\n",
       "    <tr>\n",
       "      <th>790</th>\n",
       "      <td>test/fea3da57c.png</td>\n",
       "      <td>fea3da57c.png</td>\n",
       "    </tr>\n",
       "    <tr>\n",
       "      <th>791</th>\n",
       "      <td>test/fef2ade8c.png</td>\n",
       "      <td>fef2ade8c.png</td>\n",
       "    </tr>\n",
       "    <tr>\n",
       "      <th>792</th>\n",
       "      <td>test/ffc6f8527.png</td>\n",
       "      <td>ffc6f8527.png</td>\n",
       "    </tr>\n",
       "    <tr>\n",
       "      <th>793</th>\n",
       "      <td>test/ff65bc002.png</td>\n",
       "      <td>ff65bc002.png</td>\n",
       "    </tr>\n",
       "  </tbody>\n",
       "</table>\n",
       "<p>794 rows × 2 columns</p>\n",
       "</div>"
      ],
      "text/plain": [
       "              file_path     plant_type\n",
       "0    test/0021e90e4.png  0021e90e4.png\n",
       "1    test/003d61042.png  003d61042.png\n",
       "2    test/01291174f.png  01291174f.png\n",
       "3    test/00d090cde.png  00d090cde.png\n",
       "4    test/00ef713a8.png  00ef713a8.png\n",
       "..                  ...            ...\n",
       "789  test/fd87b36ae.png  fd87b36ae.png\n",
       "790  test/fea3da57c.png  fea3da57c.png\n",
       "791  test/fef2ade8c.png  fef2ade8c.png\n",
       "792  test/ffc6f8527.png  ffc6f8527.png\n",
       "793  test/ff65bc002.png  ff65bc002.png\n",
       "\n",
       "[794 rows x 2 columns]"
      ]
     },
     "execution_count": 18,
     "metadata": {
      "tags": []
     },
     "output_type": "execute_result"
    }
   ],
   "source": [
    "test = []\n",
    "for x in os.listdir(test_path):\n",
    "  test.append(['test/{}'.format(x),x])\n",
    "\n",
    "test_dataframe = pd.DataFrame(test,columns = ['file_path','plant_type'])\n",
    "test_dataframe"
   ]
  },
  {
   "cell_type": "code",
   "execution_count": 19,
   "metadata": {
    "colab": {
     "base_uri": "https://localhost:8080/",
     "height": 736
    },
    "colab_type": "code",
    "id": "kSNKo_imZS_S",
    "outputId": "dc5ce2a6-8dce-45ed-c7c4-efafa34a7dc9"
   },
   "outputs": [
    {
     "name": "stderr",
     "output_type": "stream",
     "text": [
      "/usr/local/lib/python3.6/dist-packages/pandas/core/ops/__init__.py:1115: FutureWarning: elementwise comparison failed; returning scalar instead, but in the future will perform elementwise comparison\n",
      "  result = method(y)\n"
     ]
    },
    {
     "data": {
      "image/png": "[encoded data removed]",
      "text/plain": [
       "<Figure size 864x864 with 288 Axes>"
      ]
     },
     "metadata": {
      "tags": []
     },
     "output_type": "display_data"
    }
   ],
   "source": [
    "import matplotlib.pyplot as plt \n",
    "from mpl_toolkits.axes_grid1 import ImageGrid\n",
    "\n",
    "size = len(types)\n",
    "fig = plt.figure(1,figsize = (size,size))\n",
    "grid_image = ImageGrid(fig,111,nrows_ncols = (size,size),axes_pad = 0.05)\n",
    "i=0\n",
    "\n",
    "for image_name,image_type in enumerate(types):\n",
    "  for file_path in train_dataframe[train_dataframe['type_in_number'] == image_type]['train_file_path'].values[:size]:\n",
    "    ax = grid_image[i]\n",
    "    image  = Image.open(total_data_path+file_path)\n",
    "    image = image.resize((240,240))\n",
    "    ax.imshow(image)\n",
    "    ax.axis('off')\n",
    "    if i%size == size - 1:\n",
    "      ax.text(250,113,file_path.split('/')[1], verticalalignment = 'center')\n",
    "    i+1\n",
    "\n",
    "plt.show()"
   ]
  },
  {
   "cell_type": "code",
   "execution_count": 20,
   "metadata": {
    "colab": {
     "base_uri": "https://localhost:8080/",
     "height": 260
    },
    "colab_type": "code",
    "id": "7gbnEydkakqu",
    "outputId": "629b60d5-e650-4611-c26d-2d1d25e06e3c"
   },
   "outputs": [
    {
     "name": "stdout",
     "output_type": "stream",
     "text": [
      "1/4760/r2/4760/r3/4760/r4/4760/r5/4760/r6/4760/r7/4760/r8/4760/r9/4760/r10/4760/r11/4760/r12/4760/r13/4760/r14/4760/r15/4760/r16/4760/r17/4760/r18/4760/r19/4760/r20/4760/r21/4760/r22/4760/r23/4760/r24/4760/r25/4760/r26/4760/r27/4760/r28/4760/r29/4760/r30/4760/r31/4760/r32/4760/r33/4760/r34/4760/r35/4760/r36/4760/r37/4760/r38/4760/r39/4760/r40/4760/r41/4760/r42/4760/r43/4760/r44/4760/r45/4760/r46/4760/r47/4760/r48/4760/r49/4760/r50/4760/r51/4760/r52/4760/r53/4760/r54/4760/r55/4760/r56/4760/r57/4760/r58/4760/r59/4760/r60/4760/r61/4760/r62/4760/r63/4760/r64/4760/r65/4760/r66/4760/r67/4760/r68/4760/r69/4760/r70/4760/r71/4760/r72/4760/r73/4760/r74/4760/r75/4760/r76/4760/r77/4760/r78/4760/r79/4760/r80/4760/r81/4760/r82/4760/r83/4760/r84/4760/r85/4760/r86/4760/r87/4760/r88/4760/r89/4760/r90/4760/r91/4760/r92/4760/r93/4760/r94/4760/r95/4760/r96/4760/r97/4760/r98/4760/r99/4760/r100/4760/r101/4760/r102/4760/r103/4760/r104/4760/r105/4760/r106/4760/r107/4760/r108/4760/r109/4760/r110/4760/r111/4760/r112/4760/r113/4760/r114/4760/r115/4760/r116/4760/r117/4760/r118/4760/r119/4760/r120/4760/r121/4760/r122/4760/r123/4760/r124/4760/r125/4760/r126/4760/r127/4760/r128/4760/r129/4760/r130/4760/r131/4760/r132/4760/r133/4760/r134/4760/r135/4760/r136/4760/r137/4760/r138/4760/r139/4760/r140/4760/r141/4760/r142/4760/r143/4760/r144/4760/r145/4760/r146/4760/r147/4760/r148/4760/r149/4760/r150/4760/r151/4760/r152/4760/r153/4760/r154/4760/r155/4760/r156/4760/r157/4760/r158/4760/r159/4760/r160/4760/r161/4760/r162/4760/r163/4760/r164/4760/r165/4760/r166/4760/r167/4760/r168/4760/r169/4760/r170/4760/r171/4760/r172/4760/r173/4760/r174/4760/r175/4760/r176/4760/r177/4760/r178/4760/r179/4760/r180/4760/r181/4760/r182/4760/r183/4760/r184/4760/r185/4760/r186/4760/r187/4760/r188/4760/r189/4760/r190/4760/r191/4760/r192/4760/r193/4760/r194/4760/r195/4760/r196/4760/r197/4760/r198/4760/r199/4760/r200/4760/r201/4760/r202/4760/r203/4760/r204/4760/r205/4760/r206/4760/r207/4760/r208/4760/r209/4760/r210/4760/r211/4760/r212/4760/r213/4760/r214/4760/r215/4760/r216/4760/r217/4760/r218/4760/r219/4760/r220/4760/r221/4760/r222/4760/r223/4760/r224/4760/r225/4760/r226/4760/r227/4760/r228/4760/r229/4760/r230/4760/r231/4760/r232/4760/r233/4760/r234/4760/r235/4760/r236/4760/r237/4760/r238/4760/r239/4760/r240/4760/r241/4760/r242/4760/r243/4760/r244/4760/r245/4760/r246/4760/r247/4760/r248/4760/r249/4760/r250/4760/r251/4760/r252/4760/r253/4760/r254/4760/r255/4760/r256/4760/r257/4760/r258/4760/r259/4760/r260/4760/r261/4760/r262/4760/r263/4760/r264/4760/r265/4760/r266/4760/r267/4760/r268/4760/r269/4760/r270/4760/r271/4760/r272/4760/r273/4760/r274/4760/r275/4760/r276/4760/r277/4760/r278/4760/r279/4760/r280/4760/r281/4760/r282/4760/r283/4760/r284/4760/r285/4760/r286/4760/r287/4760/r288/4760/r289/4760/r290/4760/r291/4760/r292/4760/r293/4760/r294/4760/r295/4760/r296/4760/r297/4760/r298/4760/r299/4760/r300/4760/r301/4760/r302/4760/r303/4760/r304/4760/r305/4760/r306/4760/r307/4760/r308/4760/r309/4760/r310/4760/r311/4760/r312/4760/r313/4760/r314/4760/r315/4760/r316/4760/r317/4760/r318/4760/r319/4760/r320/4760/r321/4760/r322/4760/r323/4760/r324/4760/r325/4760/r326/4760/r327/4760/r328/4760/r329/4760/r330/4760/r331/4760/r332/4760/r333/4760/r334/4760/r335/4760/r336/4760/r337/4760/r338/4760/r339/4760/r340/4760/r341/4760/r342/4760/r343/4760/r344/4760/r345/4760/r346/4760/r347/4760/r348/4760/r349/4760/r350/4760/r351/4760/r352/4760/r353/4760/r354/4760/r355/4760/r356/4760/r357/4760/r358/4760/r359/4760/r360/4760/r361/4760/r362/4760/r363/4760/r364/4760/r365/4760/r366/4760/r367/4760/r368/4760/r369/4760/r370/4760/r371/4760/r372/4760/r373/4760/r374/4760/r375/4760/r376/4760/r377/4760/r378/4760/r379/4760/r380/4760/r381/4760/r382/4760/r383/4760/r384/4760/r385/4760/r386/4760/r387/4760/r388/4760/r389/4760/r390/4760/r391/4760/r392/4760/r393/4760/r394/4760/r395/4760/r396/4760/r397/4760/r398/4760/r399/4760/r400/4760/r401/4760/r402/4760/r403/4760/r404/4760/r405/4760/r406/4760/r407/4760/r408/4760/r409/4760/r410/4760/r411/4760/r412/4760/r413/4760/r414/4760/r415/4760/r416/4760/r417/4760/r418/4760/r419/4760/r420/4760/r421/4760/r422/4760/r423/4760/r424/4760/r425/4760/r426/4760/r427/4760/r428/4760/r429/4760/r430/4760/r431/4760/r432/4760/r433/4760/r434/4760/r435/4760/r436/4760/r437/4760/r438/4760/r439/4760/r440/4760/r441/4760/r442/4760/r443/4760/r444/4760/r445/4760/r446/4760/r447/4760/r448/4760/r449/4760/r450/4760/r451/4760/r452/4760/r453/4760/r454/4760/r455/4760/r456/4760/r457/4760/r458/4760/r459/4760/r460/4760/r461/4760/r462/4760/r463/4760/r464/4760/r465/4760/r466/4760/r467/4760/r468/4760/r469/4760/r470/4760/r471/4760/r472/4760/r473/4760/r474/4760/r475/4760/r476/4760/r477/4760/r478/4760/r479/4760/r480/4760/r481/4760/r482/4760/r483/4760/r484/4760/r485/4760/r486/4760/r487/4760/r488/4760/r489/4760/r490/4760/r491/4760/r492/4760/r493/4760/r494/4760/r495/4760/r496/4760/r497/4760/r498/4760/r499/4760/r500/4760/r501/4760/r502/4760/r503/4760/r504/4760/r505/4760/r506/4760/r507/4760/r508/4760/r509/4760/r510/4760/r511/4760/r512/4760/r513/4760/r514/4760/r515/4760/r516/4760/r517/4760/r518/4760/r519/4760/r520/4760/r521/4760/r522/4760/r523/4760/r524/4760/r525/4760/r526/4760/r527/4760/r528/4760/r529/4760/r530/4760/r531/4760/r532/4760/r533/4760/r534/4760/r535/4760/r536/4760/r537/4760/r538/4760/r539/4760/r540/4760/r541/4760/r542/4760/r543/4760/r544/4760/r545/4760/r546/4760/r547/4760/r548/4760/r549/4760/r550/4760/r551/4760/r552/4760/r553/4760/r554/4760/r555/4760/r556/4760/r557/4760/r558/4760/r559/4760/r560/4760/r561/4760/r562/4760/r563/4760/r564/4760/r565/4760/r566/4760/r567/4760/r568/4760/r569/4760/r570/4760/r571/4760/r572/4760/r573/4760/r574/4760/r575/4760/r576/4760/r577/4760/r578/4760/r579/4760/r580/4760/r581/4760/r582/4760/r583/4760/r584/4760/r585/4760/r586/4760/r587/4760/r588/4760/r589/4760/r590/4760/r591/4760/r592/4760/r593/4760/r594/4760/r595/4760/r596/4760/r597/4760/r598/4760/r599/4760/r600/4760/r601/4760/r602/4760/r603/4760/r604/4760/r605/4760/r606/4760/r607/4760/r608/4760/r609/4760/r610/4760/r611/4760/r612/4760/r613/4760/r614/4760/r615/4760/r616/4760/r617/4760/r618/4760/r619/4760/r620/4760/r621/4760/r622/4760/r623/4760/r624/4760/r625/4760/r626/4760/r627/4760/r628/4760/r629/4760/r630/4760/r631/4760/r632/4760/r633/4760/r634/4760/r635/4760/r636/4760/r637/4760/r638/4760/r639/4760/r640/4760/r641/4760/r642/4760/r643/4760/r644/4760/r645/4760/r646/4760/r647/4760/r648/4760/r649/4760/r650/4760/r651/4760/r652/4760/r653/4760/r654/4760/r655/4760/r656/4760/r657/4760/r658/4760/r659/4760/r660/4760/r661/4760/r662/4760/r663/4760/r664/4760/r665/4760/r666/4760/r667/4760/r668/4760/r669/4760/r670/4760/r671/4760/r672/4760/r673/4760/r674/4760/r675/4760/r676/4760/r677/4760/r678/4760/r679/4760/r680/4760/r681/4760/r682/4760/r683/4760/r684/4760/r685/4760/r686/4760/r687/4760/r688/4760/r689/4760/r690/4760/r691/4760/r692/4760/r693/4760/r694/4760/r695/4760/r696/4760/r697/4760/r698/4760/r699/4760/r700/4760/r701/4760/r702/4760/r703/4760/r704/4760/r705/4760/r706/4760/r707/4760/r708/4760/r709/4760/r710/4760/r711/4760/r712/4760/r713/4760/r714/4760/r715/4760/r716/4760/r717/4760/r718/4760/r719/4760/r720/4760/r721/4760/r722/4760/r723/4760/r724/4760/r725/4760/r726/4760/r727/4760/r728/4760/r729/4760/r730/4760/r731/4760/r732/4760/r733/4760/r734/4760/r735/4760/r736/4760/r737/4760/r738/4760/r739/4760/r740/4760/r741/4760/r742/4760/r743/4760/r744/4760/r745/4760/r746/4760/r747/4760/r748/4760/r749/4760/r750/4760/r751/4760/r752/4760/r753/4760/r754/4760/r755/4760/r756/4760/r757/4760/r758/4760/r759/4760/r760/4760/r761/4760/r762/4760/r763/4760/r764/4760/r765/4760/r766/4760/r767/4760/r768/4760/r769/4760/r770/4760/r771/4760/r772/4760/r773/4760/r774/4760/r775/4760/r776/4760/r777/4760/r778/4760/r779/4760/r780/4760/r781/4760/r782/4760/r783/4760/r784/4760/r785/4760/r786/4760/r787/4760/r788/4760/r789/4760/r790/4760/r791/4760/r792/4760/r793/4760/r794/4760/r795/4760/r796/4760/r797/4760/r798/4760/r799/4760/r800/4760/r801/4760/r802/4760/r803/4760/r804/4760/r805/4760/r806/4760/r807/4760/r808/4760/r809/4760/r810/4760/r811/4760/r812/4760/r813/4760/r814/4760/r815/4760/r816/4760/r817/4760/r818/4760/r819/4760/r820/4760/r821/4760/r822/4760/r823/4760/r824/4760/r825/4760/r826/4760/r827/4760/r828/4760/r829/4760/r830/4760/r831/4760/r832/4760/r833/4760/r834/4760/r835/4760/r836/4760/r837/4760/r838/4760/r839/4760/r840/4760/r841/4760/r842/4760/r843/4760/r844/4760/r845/4760/r846/4760/r847/4760/r848/4760/r849/4760/r850/4760/r851/4760/r852/4760/r853/4760/r854/4760/r855/4760/r856/4760/r857/4760/r858/4760/r859/4760/r860/4760/r861/4760/r862/4760/r863/4760/r864/4760/r865/4760/r866/4760/r867/4760/r868/4760/r869/4760/r870/4760/r871/4760/r872/4760/r873/4760/r874/4760/r875/4760/r876/4760/r877/4760/r878/4760/r879/4760/r880/4760/r881/4760/r882/4760/r883/4760/r884/4760/r885/4760/r886/4760/r887/4760/r888/4760/r889/4760/r890/4760/r891/4760/r892/4760/r893/4760/r894/4760/r895/4760/r896/4760/r897/4760/r898/4760/r899/4760/r900/4760/r901/4760/r902/4760/r903/4760/r904/4760/r905/4760/r906/4760/r907/4760/r908/4760/r909/4760/r910/4760/r911/4760/r912/4760/r913/4760/r914/4760/r915/4760/r916/4760/r917/4760/r918/4760/r919/4760/r920/4760/r921/4760/r922/4760/r923/4760/r924/4760/r925/4760/r926/4760/r927/4760/r928/4760/r929/4760/r930/4760/r931/4760/r932/4760/r933/4760/r934/4760/r935/4760/r936/4760/r937/4760/r938/4760/r939/4760/r940/4760/r941/4760/r942/4760/r943/4760/r944/4760/r945/4760/r946/4760/r947/4760/r948/4760/r949/4760/r950/4760/r951/4760/r952/4760/r953/4760/r954/4760/r955/4760/r956/4760/r957/4760/r958/4760/r959/4760/r960/4760/r961/4760/r962/4760/r963/4760/r964/4760/r965/4760/r966/4760/r967/4760/r968/4760/r969/4760/r970/4760/r971/4760/r972/4760/r973/4760/r974/4760/r975/4760/r976/4760/r977/4760/r978/4760/r979/4760/r980/4760/r981/4760/r982/4760/r983/4760/r984/4760/r985/4760/r986/4760/r987/4760/r988/4760/r989/4760/r990/4760/r991/4760/r992/4760/r993/4760/r994/4760/r995/4760/r996/4760/r997/4760/r998/4760/r999/4760/r1000/4760/r1001/4760/r1002/4760/r1003/4760/r1004/4760/r1005/4760/r1006/4760/r1007/4760/r1008/4760/r1009/4760/r1010/4760/r1011/4760/r1012/4760/r1013/4760/r1014/4760/r1015/4760/r1016/4760/r1017/4760/r1018/4760/r1019/4760/r1020/4760/r1021/4760/r1022/4760/r1023/4760/r1024/4760/r1025/4760/r1026/4760/r1027/4760/r1028/4760/r1029/4760/r1030/4760/r1031/4760/r1032/4760/r1033/4760/r1034/4760/r1035/4760/r1036/4760/r1037/4760/r1038/4760/r1039/4760/r1040/4760/r1041/4760/r1042/4760/r1043/4760/r1044/4760/r1045/4760/r1046/4760/r1047/4760/r1048/4760/r1049/4760/r1050/4760/r1051/4760/r1052/4760/r1053/4760/r1054/4760/r1055/4760/r1056/4760/r1057/4760/r1058/4760/r1059/4760/r1060/4760/r1061/4760/r1062/4760/r1063/4760/r1064/4760/r1065/4760/r1066/4760/r1067/4760/r1068/4760/r1069/4760/r1070/4760/r1071/4760/r1072/4760/r1073/4760/r1074/4760/r1075/4760/r1076/4760/r1077/4760/r1078/4760/r1079/4760/r1080/4760/r1081/4760/r1082/4760/r1083/4760/r1084/4760/r1085/4760/r1086/4760/r1087/4760/r1088/4760/r1089/4760/r1090/4760/r1091/4760/r1092/4760/r1093/4760/r1094/4760/r1095/4760/r1096/4760/r1097/4760/r1098/4760/r1099/4760/r1100/4760/r1101/4760/r1102/4760/r1103/4760/r1104/4760/r1105/4760/r1106/4760/r1107/4760/r1108/4760/r1109/4760/r1110/4760/r1111/4760/r1112/4760/r1113/4760/r1114/4760/r1115/4760/r1116/4760/r1117/4760/r1118/4760/r1119/4760/r1120/4760/r1121/4760/r1122/4760/r1123/4760/r1124/4760/r1125/4760/r1126/4760/r1127/4760/r1128/4760/r1129/4760/r1130/4760/r1131/4760/r1132/4760/r1133/4760/r1134/4760/r1135/4760/r1136/4760/r1137/4760/r1138/4760/r1139/4760/r1140/4760/r1141/4760/r1142/4760/r1143/4760/r1144/4760/r1145/4760/r1146/4760/r1147/4760/r1148/4760/r1149/4760/r1150/4760/r1151/4760/r1152/4760/r1153/4760/r1154/4760/r1155/4760/r1156/4760/r1157/4760/r1158/4760/r1159/4760/r1160/4760/r1161/4760/r1162/4760/r1163/4760/r1164/4760/r1165/4760/r1166/4760/r1167/4760/r1168/4760/r1169/4760/r1170/4760/r1171/4760/r1172/4760/r1173/4760/r1174/4760/r1175/4760/r1176/4760/r1177/4760/r1178/4760/r1179/4760/r1180/4760/r1181/4760/r1182/4760/r1183/4760/r1184/4760/r1185/4760/r1186/4760/r1187/4760/r1188/4760/r1189/4760/r1190/4760/r1191/4760/r1192/4760/r1193/4760/r1194/4760/r1195/4760/r1196/4760/r1197/4760/r1198/4760/r1199/4760/r1200/4760/r1201/4760/r1202/4760/r1203/4760/r1204/4760/r1205/4760/r1206/4760/r1207/4760/r1208/4760/r1209/4760/r1210/4760/r1211/4760/r1212/4760/r1213/4760/r1214/4760/r1215/4760/r1216/4760/r1217/4760/r1218/4760/r1219/4760/r1220/4760/r1221/4760/r1222/4760/r1223/4760/r1224/4760/r1225/4760/r1226/4760/r1227/4760/r1228/4760/r1229/4760/r1230/4760/r1231/4760/r1232/4760/r1233/4760/r1234/4760/r1235/4760/r1236/4760/r1237/4760/r1238/4760/r1239/4760/r1240/4760/r1241/4760/r1242/4760/r1243/4760/r1244/4760/r1245/4760/r1246/4760/r1247/4760/r1248/4760/r1249/4760/r1250/4760/r1251/4760/r1252/4760/r1253/4760/r1254/4760/r1255/4760/r1256/4760/r1257/4760/r1258/4760/r1259/4760/r1260/4760/r1261/4760/r1262/4760/r1263/4760/r1264/4760/r1265/4760/r1266/4760/r1267/4760/r1268/4760/r1269/4760/r1270/4760/r1271/4760/r1272/4760/r1273/4760/r1274/4760/r1275/4760/r1276/4760/r1277/4760/r1278/4760/r1279/4760/r1280/4760/r1281/4760/r1282/4760/r1283/4760/r1284/4760/r1285/4760/r1286/4760/r1287/4760/r1288/4760/r1289/4760/r1290/4760/r1291/4760/r1292/4760/r1293/4760/r1294/4760/r1295/4760/r1296/4760/r1297/4760/r1298/4760/r1299/4760/r1300/4760/r1301/4760/r1302/4760/r1303/4760/r1304/4760/r1305/4760/r1306/4760/r1307/4760/r1308/4760/r1309/4760/r1310/4760/r1311/4760/r1312/4760/r1313/4760/r1314/4760/r1315/4760/r1316/4760/r1317/4760/r1318/4760/r1319/4760/r1320/4760/r1321/4760/r1322/4760/r1323/4760/r1324/4760/r1325/4760/r1326/4760/r1327/4760/r1328/4760/r1329/4760/r1330/4760/r1331/4760/r1332/4760/r1333/4760/r1334/4760/r1335/4760/r1336/4760/r1337/4760/r1338/4760/r1339/4760/r1340/4760/r1341/4760/r1342/4760/r1343/4760/r1344/4760/r1345/4760/r1346/4760/r1347/4760/r1348/4760/r1349/4760/r1350/4760/r1351/4760/r1352/4760/r1353/4760/r1354/4760/r1355/4760/r1356/4760/r1357/4760/r1358/4760/r1359/4760/r1360/4760/r1361/4760/r1362/4760/r1363/4760/r1364/4760/r1365/4760/r1366/4760/r1367/4760/r1368/4760/r1369/4760/r1370/4760/r1371/4760/r1372/4760/r1373/4760/r1374/4760/r1375/4760/r1376/4760/r1377/4760/r1378/4760/r1379/4760/r1380/4760/r1381/4760/r1382/4760/r1383/4760/r1384/4760/r1385/4760/r1386/4760/r1387/4760/r1388/4760/r1389/4760/r1390/4760/r1391/4760/r1392/4760/r1393/4760/r1394/4760/r1395/4760/r1396/4760/r1397/4760/r1398/4760/r1399/4760/r1400/4760/r1401/4760/r1402/4760/r1403/4760/r1404/4760/r1405/4760/r1406/4760/r1407/4760/r1408/4760/r1409/4760/r1410/4760/r1411/4760/r1412/4760/r1413/4760/r1414/4760/r1415/4760/r1416/4760/r1417/4760/r1418/4760/r1419/4760/r1420/4760/r1421/4760/r1422/4760/r1423/4760/r1424/4760/r1425/4760/r1426/4760/r1427/4760/r1428/4760/r1429/4760/r1430/4760/r1431/4760/r1432/4760/r1433/4760/r1434/4760/r1435/4760/r1436/4760/r1437/4760/r1438/4760/r1439/4760/r1440/4760/r1441/4760/r1442/4760/r1443/4760/r1444/4760/r1445/4760/r1446/4760/r1447/4760/r1448/4760/r1449/4760/r1450/4760/r1451/4760/r1452/4760/r1453/4760/r1454/4760/r1455/4760/r1456/4760/r1457/4760/r1458/4760/r1459/4760/r1460/4760/r1461/4760/r1462/4760/r1463/4760/r1464/4760/r1465/4760/r1466/4760/r1467/4760/r1468/4760/r1469/4760/r1470/4760/r1471/4760/r1472/4760/r1473/4760/r1474/4760/r1475/4760/r1476/4760/r1477/4760/r1478/4760/r1479/4760/r1480/4760/r1481/4760/r1482/4760/r1483/4760/r1484/4760/r1485/4760/r1486/4760/r1487/4760/r1488/4760/r1489/4760/r1490/4760/r1491/4760/r1492/4760/r1493/4760/r1494/4760/r1495/4760/r1496/4760/r1497/4760/r1498/4760/r1499/4760/r1500/4760/r1501/4760/r1502/4760/r1503/4760/r1504/4760/r1505/4760/r1506/4760/r1507/4760/r1508/4760/r1509/4760/r1510/4760/r1511/4760/r1512/4760/r1513/4760/r1514/4760/r1515/4760/r1516/4760/r1517/4760/r1518/4760/r1519/4760/r1520/4760/r1521/4760/r1522/4760/r1523/4760/r1524/4760/r1525/4760/r1526/4760/r1527/4760/r1528/4760/r1529/4760/r1530/4760/r1531/4760/r1532/4760/r1533/4760/r1534/4760/r1535/4760/r1536/4760/r1537/4760/r1538/4760/r1539/4760/r1540/4760/r1541/4760/r1542/4760/r1543/4760/r1544/4760/r1545/4760/r1546/4760/r1547/4760/r1548/4760/r1549/4760/r1550/4760/r1551/4760/r1552/4760/r1553/4760/r1554/4760/r1555/4760/r1556/4760/r1557/4760/r1558/4760/r1559/4760/r1560/4760/r1561/4760/r1562/4760/r1563/4760/r1564/4760/r1565/4760/r1566/4760/r1567/4760/r1568/4760/r1569/4760/r1570/4760/r1571/4760/r1572/4760/r1573/4760/r1574/4760/r1575/4760/r1576/4760/r1577/4760/r1578/4760/r1579/4760/r1580/4760/r1581/4760/r1582/4760/r1583/4760/r1584/4760/r1585/4760/r1586/4760/r1587/4760/r1588/4760/r1589/4760/r1590/4760/r1591/4760/r1592/4760/r1593/4760/r1594/4760/r1595/4760/r1596/4760/r1597/4760/r1598/4760/r1599/4760/r1600/4760/r1601/4760/r1602/4760/r1603/4760/r1604/4760/r1605/4760/r1606/4760/r1607/4760/r1608/4760/r1609/4760/r1610/4760/r1611/4760/r1612/4760/r1613/4760/r1614/4760/r1615/4760/r1616/4760/r1617/4760/r1618/4760/r1619/4760/r1620/4760/r1621/4760/r1622/4760/r1623/4760/r1624/4760/r1625/4760/r1626/4760/r1627/4760/r1628/4760/r1629/4760/r1630/4760/r1631/4760/r1632/4760/r1633/4760/r1634/4760/r1635/4760/r1636/4760/r1637/4760/r1638/4760/r1639/4760/r1640/4760/r1641/4760/r1642/4760/r1643/4760/r1644/4760/r1645/4760/r1646/4760/r1647/4760/r1648/4760/r1649/4760/r1650/4760/r1651/4760/r1652/4760/r1653/4760/r1654/4760/r1655/4760/r1656/4760/r1657/4760/r1658/4760/r1659/4760/r1660/4760/r1661/4760/r1662/4760/r1663/4760/r1664/4760/r1665/4760/r1666/4760/r1667/4760/r1668/4760/r1669/4760/r1670/4760/r1671/4760/r1672/4760/r1673/4760/r1674/4760/r1675/4760/r1676/4760/r1677/4760/r1678/4760/r1679/4760/r1680/4760/r1681/4760/r1682/4760/r1683/4760/r1684/4760/r1685/4760/r1686/4760/r1687/4760/r1688/4760/r1689/4760/r1690/4760/r1691/4760/r1692/4760/r1693/4760/r1694/4760/r1695/4760/r1696/4760/r1697/4760/r1698/4760/r1699/4760/r1700/4760/r1701/4760/r1702/4760/r1703/4760/r1704/4760/r1705/4760/r1706/4760/r1707/4760/r1708/4760/r1709/4760/r1710/4760/r1711/4760/r1712/4760/r1713/4760/r1714/4760/r1715/4760/r1716/4760/r1717/4760/r1718/4760/r1719/4760/r1720/4760/r1721/4760/r1722/4760/r1723/4760/r1724/4760/r1725/4760/r1726/4760/r1727/4760/r1728/4760/r1729/4760/r1730/4760/r1731/4760/r1732/4760/r1733/4760/r1734/4760/r1735/4760/r1736/4760/r1737/4760/r1738/4760/r1739/4760/r1740/4760/r1741/4760/r1742/4760/r1743/4760/r1744/4760/r1745/4760/r1746/4760/r1747/4760/r1748/4760/r1749/4760/r1750/4760/r1751/4760/r1752/4760/r1753/4760/r1754/4760/r1755/4760/r1756/4760/r1757/4760/r1758/4760/r1759/4760/r1760/4760/r1761/4760/r1762/4760/r1763/4760/r1764/4760/r1765/4760/r1766/4760/r1767/4760/r1768/4760/r1769/4760/r1770/4760/r1771/4760/r1772/4760/r1773/4760/r1774/4760/r1775/4760/r1776/4760/r1777/4760/r1778/4760/r1779/4760/r1780/4760/r1781/4760/r1782/4760/r1783/4760/r1784/4760/r1785/4760/r1786/4760/r1787/4760/r1788/4760/r1789/4760/r1790/4760/r1791/4760/r1792/4760/r1793/4760/r1794/4760/r1795/4760/r1796/4760/r1797/4760/r1798/4760/r1799/4760/r1800/4760/r1801/4760/r1802/4760/r1803/4760/r1804/4760/r1805/4760/r1806/4760/r1807/4760/r1808/4760/r1809/4760/r1810/4760/r1811/4760/r1812/4760/r1813/4760/r1814/4760/r1815/4760/r1816/4760/r1817/4760/r1818/4760/r1819/4760/r1820/4760/r1821/4760/r1822/4760/r1823/4760/r1824/4760/r1825/4760/r1826/4760/r1827/4760/r1828/4760/r1829/4760/r1830/4760/r1831/4760/r1832/4760/r1833/4760/r1834/4760/r1835/4760/r1836/4760/r1837/4760/r1838/4760/r1839/4760/r1840/4760/r1841/4760/r1842/4760/r1843/4760/r1844/4760/r1845/4760/r1846/4760/r1847/4760/r1848/4760/r1849/4760/r1850/4760/r1851/4760/r1852/4760/r1853/4760/r1854/4760/r1855/4760/r1856/4760/r1857/4760/r1858/4760/r1859/4760/r1860/4760/r1861/4760/r1862/4760/r1863/4760/r1864/4760/r1865/4760/r1866/4760/r1867/4760/r1868/4760/r1869/4760/r1870/4760/r1871/4760/r1872/4760/r1873/4760/r1874/4760/r1875/4760/r1876/4760/r1877/4760/r1878/4760/r1879/4760/r1880/4760/r1881/4760/r1882/4760/r1883/4760/r1884/4760/r1885/4760/r1886/4760/r1887/4760/r1888/4760/r1889/4760/r1890/4760/r1891/4760/r1892/4760/r1893/4760/r1894/4760/r1895/4760/r1896/4760/r1897/4760/r1898/4760/r1899/4760/r1900/4760/r1901/4760/r1902/4760/r1903/4760/r1904/4760/r1905/4760/r1906/4760/r1907/4760/r1908/4760/r1909/4760/r1910/4760/r1911/4760/r1912/4760/r1913/4760/r1914/4760/r1915/4760/r1916/4760/r1917/4760/r1918/4760/r1919/4760/r1920/4760/r1921/4760/r1922/4760/r1923/4760/r1924/4760/r1925/4760/r1926/4760/r1927/4760/r1928/4760/r1929/4760/r1930/4760/r1931/4760/r1932/4760/r1933/4760/r1934/4760/r1935/4760/r1936/4760/r1937/4760/r1938/4760/r1939/4760/r1940/4760/r1941/4760/r1942/4760/r1943/4760/r1944/4760/r1945/4760/r1946/4760/r1947/4760/r1948/4760/r1949/4760/r1950/4760/r1951/4760/r1952/4760/r1953/4760/r1954/4760/r1955/4760/r1956/4760/r1957/4760/r1958/4760/r1959/4760/r1960/4760/r1961/4760/r1962/4760/r1963/4760/r1964/4760/r1965/4760/r1966/4760/r1967/4760/r1968/4760/r1969/4760/r1970/4760/r1971/4760/r1972/4760/r1973/4760/r1974/4760/r1975/4760/r1976/4760/r1977/4760/r1978/4760/r1979/4760/r1980/4760/r1981/4760/r1982/4760/r1983/4760/r1984/4760/r1985/4760/r1986/4760/r1987/4760/r1988/4760/r1989/4760/r1990/4760/r1991/4760/r1992/4760/r1993/4760/r1994/4760/r1995/4760/r1996/4760/r1997/4760/r1998/4760/r1999/4760/r2000/4760/r2001/4760/r2002/4760/r2003/4760/r2004/4760/r2005/4760/r2006/4760/r2007/4760/r2008/4760/r2009/4760/r2010/4760/r2011/4760/r2012/4760/r2013/4760/r2014/4760/r2015/4760/r2016/4760/r2017/4760/r2018/4760/r2019/4760/r2020/4760/r2021/4760/r2022/4760/r2023/4760/r2024/4760/r2025/4760/r2026/4760/r2027/4760/r2028/4760/r2029/4760/r2030/4760/r2031/4760/r2032/4760/r2033/4760/r2034/4760/r2035/4760/r2036/4760/r2037/4760/r2038/4760/r2039/4760/r2040/4760/r2041/4760/r2042/4760/r2043/4760/r2044/4760/r2045/4760/r2046/4760/r2047/4760/r2048/4760/r2049/4760/r2050/4760/r2051/4760/r2052/4760/r2053/4760/r2054/4760/r2055/4760/r2056/4760/r2057/4760/r2058/4760/r2059/4760/r2060/4760/r2061/4760/r2062/4760/r2063/4760/r2064/4760/r2065/4760/r2066/4760/r2067/4760/r2068/4760/r2069/4760/r2070/4760/r2071/4760/r2072/4760/r2073/4760/r2074/4760/r2075/4760/r2076/4760/r2077/4760/r2078/4760/r2079/4760/r2080/4760/r2081/4760/r2082/4760/r2083/4760/r2084/4760/r2085/4760/r2086/4760/r2087/4760/r2088/4760/r2089/4760/r2090/4760/r2091/4760/r2092/4760/r2093/4760/r2094/4760/r2095/4760/r2096/4760/r2097/4760/r2098/4760/r2099/4760/r2100/4760/r2101/4760/r2102/4760/r2103/4760/r2104/4760/r2105/4760/r2106/4760/r2107/4760/r2108/4760/r2109/4760/r2110/4760/r2111/4760/r2112/4760/r2113/4760/r2114/4760/r2115/4760/r2116/4760/r2117/4760/r2118/4760/r2119/4760/r2120/4760/r2121/4760/r2122/4760/r2123/4760/r2124/4760/r2125/4760/r2126/4760/r2127/4760/r2128/4760/r2129/4760/r2130/4760/r2131/4760/r2132/4760/r2133/4760/r2134/4760/r2135/4760/r2136/4760/r2137/4760/r2138/4760/r2139/4760/r2140/4760/r2141/4760/r2142/4760/r2143/4760/r2144/4760/r2145/4760/r2146/4760/r2147/4760/r2148/4760/r2149/4760/r2150/4760/r2151/4760/r2152/4760/r2153/4760/r2154/4760/r2155/4760/r2156/4760/r2157/4760/r2158/4760/r2159/4760/r2160/4760/r2161/4760/r2162/4760/r2163/4760/r2164/4760/r2165/4760/r2166/4760/r2167/4760/r2168/4760/r2169/4760/r2170/4760/r2171/4760/r2172/4760/r2173/4760/r2174/4760/r2175/4760/r2176/4760/r2177/4760/r2178/4760/r2179/4760/r2180/4760/r2181/4760/r2182/4760/r2183/4760/r2184/4760/r2185/4760/r2186/4760/r2187/4760/r2188/4760/r2189/4760/r2190/4760/r2191/4760/r2192/4760/r2193/4760/r2194/4760/r2195/4760/r2196/4760/r2197/4760/r2198/4760/r2199/4760/r2200/4760/r2201/4760/r2202/4760/r2203/4760/r2204/4760/r2205/4760/r2206/4760/r2207/4760/r2208/4760/r2209/4760/r2210/4760/r2211/4760/r2212/4760/r2213/4760/r2214/4760/r2215/4760/r2216/4760/r2217/4760/r2218/4760/r2219/4760/r2220/4760/r2221/4760/r2222/4760/r2223/4760/r2224/4760/r2225/4760/r2226/4760/r2227/4760/r2228/4760/r2229/4760/r2230/4760/r2231/4760/r2232/4760/r2233/4760/r2234/4760/r2235/4760/r2236/4760/r2237/4760/r2238/4760/r2239/4760/r2240/4760/r2241/4760/r2242/4760/r2243/4760/r2244/4760/r2245/4760/r2246/4760/r2247/4760/r2248/4760/r2249/4760/r2250/4760/r2251/4760/r2252/4760/r2253/4760/r2254/4760/r2255/4760/r2256/4760/r2257/4760/r2258/4760/r2259/4760/r2260/4760/r2261/4760/r2262/4760/r2263/4760/r2264/4760/r2265/4760/r2266/4760/r2267/4760/r2268/4760/r2269/4760/r2270/4760/r2271/4760/r2272/4760/r2273/4760/r2274/4760/r2275/4760/r2276/4760/r2277/4760/r2278/4760/r2279/4760/r2280/4760/r2281/4760/r2282/4760/r2283/4760/r2284/4760/r2285/4760/r2286/4760/r2287/4760/r2288/4760/r2289/4760/r2290/4760/r2291/4760/r2292/4760/r2293/4760/r2294/4760/r2295/4760/r2296/4760/r2297/4760/r2298/4760/r2299/4760/r2300/4760/r2301/4760/r2302/4760/r2303/4760/r2304/4760/r2305/4760/r2306/4760/r2307/4760/r2308/4760/r2309/4760/r2310/4760/r"
     ]
    },
    {
     "ename": "error",
     "evalue": "ignored",
     "output_type": "error",
     "traceback": [
      "\u001b[0;31m---------------------------------------------------------------------------\u001b[0m",
      "\u001b[0;31merror\u001b[0m                                     Traceback (most recent call last)",
      "\u001b[0;32m<ipython-input-20-6db01e25f3d1>\u001b[0m in \u001b[0;36m<module>\u001b[0;34m()\u001b[0m\n\u001b[1;32m      8\u001b[0m \u001b[0;32mfor\u001b[0m \u001b[0mi\u001b[0m \u001b[0;32min\u001b[0m \u001b[0mimage_collection\u001b[0m\u001b[0;34m:\u001b[0m\u001b[0;34m\u001b[0m\u001b[0;34m\u001b[0m\u001b[0m\n\u001b[1;32m      9\u001b[0m   \u001b[0mprint\u001b[0m\u001b[0;34m(\u001b[0m\u001b[0mstr\u001b[0m\u001b[0;34m(\u001b[0m\u001b[0mcount\u001b[0m\u001b[0;34m)\u001b[0m\u001b[0;34m+\u001b[0m\u001b[0;34m'/'\u001b[0m\u001b[0;34m+\u001b[0m\u001b[0mstr\u001b[0m\u001b[0;34m(\u001b[0m\u001b[0mnum\u001b[0m\u001b[0;34m)\u001b[0m\u001b[0;34m,\u001b[0m\u001b[0mend\u001b[0m\u001b[0;34m=\u001b[0m\u001b[0;34m'/r'\u001b[0m\u001b[0;34m)\u001b[0m\u001b[0;34m\u001b[0m\u001b[0;34m\u001b[0m\u001b[0m\n\u001b[0;32m---> 10\u001b[0;31m   \u001b[0mtrainingset\u001b[0m\u001b[0;34m.\u001b[0m\u001b[0mappend\u001b[0m\u001b[0;34m(\u001b[0m\u001b[0mcv2\u001b[0m\u001b[0;34m.\u001b[0m\u001b[0mresize\u001b[0m\u001b[0;34m(\u001b[0m\u001b[0mcv2\u001b[0m\u001b[0;34m.\u001b[0m\u001b[0mimread\u001b[0m\u001b[0;34m(\u001b[0m\u001b[0mi\u001b[0m\u001b[0;34m)\u001b[0m\u001b[0;34m,\u001b[0m\u001b[0;34m(\u001b[0m\u001b[0mscale\u001b[0m\u001b[0;34m,\u001b[0m\u001b[0mscale\u001b[0m\u001b[0;34m)\u001b[0m\u001b[0;34m)\u001b[0m\u001b[0;34m)\u001b[0m\u001b[0;34m\u001b[0m\u001b[0;34m\u001b[0m\u001b[0m\n\u001b[0m\u001b[1;32m     11\u001b[0m   \u001b[0mtraininglabels\u001b[0m\u001b[0;34m.\u001b[0m\u001b[0mappend\u001b[0m\u001b[0;34m(\u001b[0m\u001b[0mi\u001b[0m\u001b[0;34m.\u001b[0m\u001b[0msplit\u001b[0m\u001b[0;34m(\u001b[0m\u001b[0;34m'/'\u001b[0m\u001b[0;34m)\u001b[0m\u001b[0;34m[\u001b[0m\u001b[0;34m-\u001b[0m\u001b[0;36m2\u001b[0m\u001b[0;34m]\u001b[0m\u001b[0;34m)\u001b[0m\u001b[0;34m\u001b[0m\u001b[0;34m\u001b[0m\u001b[0m\n\u001b[1;32m     12\u001b[0m   \u001b[0mcount\u001b[0m \u001b[0;34m=\u001b[0m \u001b[0mcount\u001b[0m\u001b[0;34m+\u001b[0m\u001b[0;36m1\u001b[0m\u001b[0;34m\u001b[0m\u001b[0;34m\u001b[0m\u001b[0m\n",
      "\u001b[0;31merror\u001b[0m: OpenCV(4.1.2) /io/opencv/modules/imgproc/src/resize.cpp:3720: error: (-215:Assertion failed) !ssize.empty() in function 'resize'\n"
     ]
    }
   ],
   "source": [
    "from glob import glob\n",
    "scale = 240\n",
    "path_to_image_conversion = train_path+'/*/*.png'\n",
    "image_collection = glob(path_to_image_conversion)\n",
    "trainingset = []\n",
    "traininglabels = []\n",
    "num = len(image_collection)\n",
    "count = 1\n",
    "for i in image_collection:\n",
    "  print(str(count)+'/'+str(num),end='/r')\n",
    "  trainingset.append(cv2.resize(cv2.imread(i),(scale,scale)))\n",
    "  traininglabels.append(i.split('/')[-2])\n",
    "  count = count+1\n",
    "\n",
    "trainingset = np.asarray(trainingset)\n",
    "traininglabels = pd.DataFrame(traininglabels)\n",
    "\n"
   ]
  },
  {
   "cell_type": "code",
   "execution_count": 0,
   "metadata": {
    "colab": {},
    "colab_type": "code",
    "id": "VVEa4qOsI5TY"
   },
   "outputs": [],
   "source": [
    "trainingset"
   ]
  },
  {
   "cell_type": "code",
   "execution_count": 0,
   "metadata": {
    "colab": {},
    "colab_type": "code",
    "id": "yrPhjIbgI_eH"
   },
   "outputs": [],
   "source": [
    "traininglabels"
   ]
  },
  {
   "cell_type": "code",
   "execution_count": 0,
   "metadata": {
    "colab": {},
    "colab_type": "code",
    "id": "w36YibTdJLPK"
   },
   "outputs": [],
   "source": [
    "traininglabels[0]"
   ]
  },
  {
   "cell_type": "code",
   "execution_count": 0,
   "metadata": {
    "colab": {},
    "colab_type": "code",
    "id": "hccqxdKBE5jf"
   },
   "outputs": [],
   "source": [
    "new_train = []\n",
    "sets = []\n",
    "getEx = True\n",
    "for i in trainingset:\n",
    "    blurr = cv2.GaussianBlur(i,(5,5),0)\n",
    "    hsv = cv2.cvtColor(blurr,cv2.COLOR_BGR2HSV)\n",
    "    #GREEN PARAMETERS\n",
    "    lower = (25,40,50)\n",
    "    upper = (75,255,255)\n",
    "    mask = cv2.inRange(hsv,lower,upper)\n",
    "    struc = cv2.getStructuringElement(cv2.MORPH_ELLIPSE,(20,20))\n",
    "    mask = cv2.morphologyEx(mask,cv2.MORPH_CLOSE,struc)\n",
    "    boolean = mask>0\n",
    "    new = np.zeros_like(i,np.uint8)\n",
    "    new[boolean] = i[boolean]\n",
    "    new_train.append(new)\n",
    "    \n",
    "    if getEx:\n",
    "        plt.subplot(2,3,1);plt.imshow(i) \n",
    "        plt.subplot(2,3,2);plt.imshow(blurr) \n",
    "        plt.subplot(2,3,3);plt.imshow(hsv) \n",
    "        plt.subplot(2,3,4);plt.imshow(mask) \n",
    "        plt.subplot(2,3,5);plt.imshow(boolean) \n",
    "        plt.subplot(2,3,6);plt.imshow(new)\n",
    "        plt.show()\n",
    "        getEx = False\n",
    "new_train = np.asarray(new_train)\n",
    "\n",
    "# CLEANED IMAGES\n",
    "for i in range(8):\n",
    "    plt.subplot(2,4,i+1)\n",
    "    plt.imshow(new_train[i])\n"
   ]
  },
  {
   "cell_type": "code",
   "execution_count": 22,
   "metadata": {
    "colab": {
     "base_uri": "https://localhost:8080/",
     "height": 207
    },
    "colab_type": "code",
    "id": "kWyqO8LnJenE",
    "outputId": "f170243f-e10b-4f39-f9ed-a1d9fe898aab"
   },
   "outputs": [
    {
     "name": "stdout",
     "output_type": "stream",
     "text": [
      "(2309,)\n"
     ]
    },
    {
     "ename": "NameError",
     "evalue": "ignored",
     "output_type": "error",
     "traceback": [
      "\u001b[0;31m---------------------------------------------------------------------------\u001b[0m",
      "\u001b[0;31mNameError\u001b[0m                                 Traceback (most recent call last)",
      "\u001b[0;32m<ipython-input-22-e1a5acebf8e9>\u001b[0m in \u001b[0;36m<module>\u001b[0;34m()\u001b[0m\n\u001b[1;32m      6\u001b[0m \u001b[0mclasses\u001b[0m \u001b[0;34m=\u001b[0m \u001b[0menc\u001b[0m\u001b[0;34m.\u001b[0m\u001b[0mfit_transform\u001b[0m\u001b[0;34m(\u001b[0m\u001b[0mtraininglabels\u001b[0m\u001b[0;34m)\u001b[0m\u001b[0;34m\u001b[0m\u001b[0;34m\u001b[0m\u001b[0m\n\u001b[1;32m      7\u001b[0m \u001b[0mprint\u001b[0m\u001b[0;34m(\u001b[0m\u001b[0mclasses\u001b[0m\u001b[0;34m.\u001b[0m\u001b[0mshape\u001b[0m\u001b[0;34m)\u001b[0m\u001b[0;34m\u001b[0m\u001b[0;34m\u001b[0m\u001b[0m\n\u001b[0;32m----> 8\u001b[0;31m \u001b[0mprint\u001b[0m\u001b[0;34m(\u001b[0m\u001b[0mnew_train\u001b[0m\u001b[0;34m.\u001b[0m\u001b[0mshape\u001b[0m\u001b[0;34m)\u001b[0m\u001b[0;34m\u001b[0m\u001b[0;34m\u001b[0m\u001b[0m\n\u001b[0m",
      "\u001b[0;31mNameError\u001b[0m: name 'new_train' is not defined"
     ]
    }
   ],
   "source": [
    "from sklearn.model_selection import train_test_split\n",
    "from sklearn.metrics import confusion_matrix, classification_report\n",
    "\n",
    "from sklearn.preprocessing import LabelEncoder\n",
    "enc = LabelEncoder()\n",
    "classes = enc.fit_transform(traininglabels)\n",
    "print(classes.shape)\n",
    "print(new_train.shape)"
   ]
  },
  {
   "cell_type": "code",
   "execution_count": 0,
   "metadata": {
    "colab": {},
    "colab_type": "code",
    "id": "4fZ5AIOLO2QC"
   },
   "outputs": [],
   "source": [
    "x_train,x_test,y_train,y_test = train_test_split(new_train,classes,test_size=0.20)"
   ]
  },
  {
   "cell_type": "code",
   "execution_count": 0,
   "metadata": {
    "colab": {},
    "colab_type": "code",
    "id": "2Dm6tds_VB8q"
   },
   "outputs": [],
   "source": [
    "model = Sequential()\n",
    "model.add(Conv2D(filters=32,kernel_size=3,padding='same',activation='relu',input_shape =([64,64,3])))\n",
    "model.add(BatchNormalization(axis=3))\n",
    "model.add(Conv2D(filters=64, kernel_size= 5, activation='relu'))\n",
    "model.add(MaxPooling2D((2, 2)))\n",
    "model.add(BatchNormalization(axis=3))\n",
    "model.add(Dropout(0.1))\n",
    "model.add(Conv2D(filters=128, kernel_size=5, activation='relu'))\n",
    "model.add(BatchNormalization(axis=3))\n",
    "model.add(Conv2D(filters=128, kernel_size=5, activation='relu'))\n",
    "model.add(MaxPooling2D((2, 2)))\n",
    "model.add(BatchNormalization(axis=3))\n",
    "model.add(Dropout(0.1))\n",
    "model.add(Conv2D(filters=256, kernel_size= 5, activation='relu'))\n",
    "model.add(BatchNormalization(axis=3))\n",
    "model.add(Conv2D(filters=256, kernel_size= 5, activation='relu'))\n",
    "model.add(MaxPooling2D((2, 2)))\n",
    "model.add(BatchNormalization(axis=3))\n",
    "model.add(Dropout(0.1))\n",
    "model.add(Flatten())\n",
    "model.add(Dense(256, activation='relu'))\n",
    "model.add(BatchNormalization())\n",
    "model.add(Dropout(0.5))\n",
    "model.add(Dense(256, activation='relu'))\n",
    "model.add(BatchNormalization())\n",
    "model.add(Dropout(0.5))\n",
    "model.add(Dense(12, activation='softmax'))\n",
    "model.compile(loss='categorical_crossentropy', optimizer='adam', metrics=['accuracy'])\n",
    "model.summary()"
   ]
  },
  {
   "cell_type": "code",
   "execution_count": 0,
   "metadata": {
    "colab": {},
    "colab_type": "code",
    "id": "82GG8M2iVfsU"
   },
   "outputs": [],
   "source": [
    "model1 = model.fit(x_train,y_train, epochs=100, validation_data=(x_test,y_test),batch_size=128,callbacks=[ModelCheckpoint(filepath=path_model)])"
   ]
  },
  {
   "cell_type": "code",
   "execution_count": 0,
   "metadata": {
    "colab": {},
    "colab_type": "code",
    "id": "15KKb3wGVq5V"
   },
   "outputs": [],
   "source": [
    "print(model1.evaluate(x_train, y_train))  \n",
    "print(model1.evaluate(x_test, y_test)) "
   ]
  }
 ],
 "metadata": {
  "colab": {
   "collapsed_sections": [],
   "name": "Computer Vision with CNN.ipynb",
   "provenance": []
  },
  "kernelspec": {
   "display_name": "Python 3",
   "language": "python",
   "name": "python3"
  },
  "language_info": {
   "codemirror_mode": {
    "name": "ipython",
    "version": 3
   },
   "file_extension": ".py",
   "mimetype": "text/x-python",
   "name": "python",
   "nbconvert_exporter": "python",
   "pygments_lexer": "ipython3",
   "version": "3.7.3"
  }
 },
 "nbformat": 4,
 "nbformat_minor": 1
}
