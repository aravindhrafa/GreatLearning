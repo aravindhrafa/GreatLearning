{
 "cells": [
  {
   "cell_type": "code",
   "execution_count": 1,
   "metadata": {
    "colab": {
     "base_uri": "https://localhost:8080/",
     "height": 50
    },
    "colab_type": "code",
    "id": "47YeABMI-Q9Y",
    "outputId": "78fc7cc7-7c93-4cd4-e446-c45fbf68f8c8"
   },
   "outputs": [
    {
     "name": "stdout",
     "output_type": "stream",
     "text": [
      "TensorFlow 2.x selected.\n",
      "2.1.0-rc1\n"
     ]
    }
   ],
   "source": [
    "%tensorflow_version 2.x\n",
    "import tensorflow as tf\n",
    "print(tf.__version__)\n",
    "tf.random.set_seed(50)"
   ]
  },
  {
   "cell_type": "code",
   "execution_count": 0,
   "metadata": {
    "colab": {},
    "colab_type": "code",
    "id": "-kv6PJbN-Yff"
   },
   "outputs": [],
   "source": [
    "## Collect Fashion mnist data from tf.keras.datasets"
   ]
  },
  {
   "cell_type": "code",
   "execution_count": 3,
   "metadata": {
    "colab": {
     "base_uri": "https://localhost:8080/",
     "height": 50
    },
    "colab_type": "code",
    "id": "ZlFTQyCc-dx5",
    "outputId": "22934bcc-d984-4d46-f567-56bfe4a22061"
   },
   "outputs": [
    {
     "name": "stdout",
     "output_type": "stream",
     "text": [
      "Downloading data from https://storage.googleapis.com/tensorflow/tf-keras-datasets/mnist.npz\n",
      "11493376/11490434 [==============================] - 0s 0us/step\n"
     ]
    }
   ],
   "source": [
    "(X_train, Y_train), (X_test, Y_test) = tf.keras.datasets.mnist.load_data()"
   ]
  },
  {
   "cell_type": "code",
   "execution_count": 0,
   "metadata": {
    "colab": {},
    "colab_type": "code",
    "id": "s0zsk044-fsa"
   },
   "outputs": [],
   "source": [
    "#### Change train and test labels into one-hot vectors"
   ]
  },
  {
   "cell_type": "code",
   "execution_count": 0,
   "metadata": {
    "colab": {},
    "colab_type": "code",
    "id": "AAIDflMG-k2T"
   },
   "outputs": [],
   "source": [
    "Y_train = tf.keras.utils.to_categorical(Y_train, num_classes=10)\n",
    "Y_test = tf.keras.utils.to_categorical(Y_test, num_classes=10)"
   ]
  },
  {
   "cell_type": "code",
   "execution_count": 0,
   "metadata": {
    "colab": {},
    "colab_type": "code",
    "id": "7ZktWFHq-mc6"
   },
   "outputs": [],
   "source": [
    "#### Initialize model, reshape & normalize data"
   ]
  },
  {
   "cell_type": "code",
   "execution_count": 0,
   "metadata": {
    "colab": {},
    "colab_type": "code",
    "id": "_gpuG38D-zXF"
   },
   "outputs": [],
   "source": [
    "model = tf.keras.models.Sequential()\n",
    "model.add(tf.keras.layers.Reshape((784,),input_shape=(28,28,)))\n",
    "model.add(tf.keras.layers.BatchNormalization())"
   ]
  },
  {
   "cell_type": "code",
   "execution_count": 0,
   "metadata": {
    "colab": {},
    "colab_type": "code",
    "id": "FMPqyYVf--yj"
   },
   "outputs": [],
   "source": [
    "\n",
    "model.add(tf.keras.layers.Dense(200, activation='relu'))\n",
    "model.add(tf.keras.layers.Dense(100, activation='relu'))\n",
    "model.add(tf.keras.layers.Dropout(0.25))"
   ]
  },
  {
   "cell_type": "code",
   "execution_count": 0,
   "metadata": {
    "colab": {},
    "colab_type": "code",
    "id": "A3ItpISJ_DyY"
   },
   "outputs": [],
   "source": [
    "### Add the output layer with a fully connected layer with 10 neurons with `softmax` activation. Use `categorical_crossentropy` loss and `adam` optimizer and train the network. And, report the final validation."
   ]
  },
  {
   "cell_type": "code",
   "execution_count": 0,
   "metadata": {
    "colab": {},
    "colab_type": "code",
    "id": "0TCfyHZt_Oh2"
   },
   "outputs": [],
   "source": [
    "model.add(tf.keras.layers.Dense(10, activation='softmax'))\n",
    "model.compile(optimizer='adam', loss='categorical_crossentropy', metrics=['accuracy'])"
   ]
  },
  {
   "cell_type": "code",
   "execution_count": 12,
   "metadata": {
    "colab": {
     "base_uri": "https://localhost:8080/",
     "height": 342
    },
    "colab_type": "code",
    "id": "EeA0Grxi_Trs",
    "outputId": "a1634059-52ce-4e30-bf8d-7264e73853ac"
   },
   "outputs": [
    {
     "name": "stdout",
     "output_type": "stream",
     "text": [
      "Model: \"sequential\"\n",
      "_________________________________________________________________\n",
      "Layer (type)                 Output Shape              Param #   \n",
      "=================================================================\n",
      "reshape (Reshape)            (None, 784)               0         \n",
      "_________________________________________________________________\n",
      "batch_normalization (BatchNo (None, 784)               3136      \n",
      "_________________________________________________________________\n",
      "dense (Dense)                (None, 200)               157000    \n",
      "_________________________________________________________________\n",
      "dense_1 (Dense)              (None, 100)               20100     \n",
      "_________________________________________________________________\n",
      "dropout (Dropout)            (None, 100)               0         \n",
      "_________________________________________________________________\n",
      "dense_2 (Dense)              (None, 10)                1010      \n",
      "=================================================================\n",
      "Total params: 181,246\n",
      "Trainable params: 179,678\n",
      "Non-trainable params: 1,568\n",
      "_________________________________________________________________\n"
     ]
    }
   ],
   "source": [
    "model.summary()"
   ]
  },
  {
   "cell_type": "code",
   "execution_count": 13,
   "metadata": {
    "colab": {
     "base_uri": "https://localhost:8080/",
     "height": 1000
    },
    "colab_type": "code",
    "id": "QL0pUwE2_UZ0",
    "outputId": "f69b6685-0513-482b-b893-bcc1366e5daa"
   },
   "outputs": [
    {
     "name": "stdout",
     "output_type": "stream",
     "text": [
      "Train on 60000 samples, validate on 10000 samples\n",
      "Epoch 1/30\n",
      "60000/60000 [==============================] - 10s 163us/sample - loss: 0.2633 - accuracy: 0.9200 - val_loss: 0.2297 - val_accuracy: 0.9575\n",
      "Epoch 2/30\n",
      "60000/60000 [==============================] - 9s 148us/sample - loss: 0.1346 - accuracy: 0.9595 - val_loss: 0.3459 - val_accuracy: 0.9667\n",
      "Epoch 3/30\n",
      "60000/60000 [==============================] - 9s 148us/sample - loss: 0.1025 - accuracy: 0.9686 - val_loss: 0.1784 - val_accuracy: 0.9698\n",
      "Epoch 4/30\n",
      "60000/60000 [==============================] - 9s 152us/sample - loss: 0.0823 - accuracy: 0.9741 - val_loss: 0.2441 - val_accuracy: 0.9708\n",
      "Epoch 5/30\n",
      "60000/60000 [==============================] - 9s 152us/sample - loss: 0.0684 - accuracy: 0.9783 - val_loss: 0.2850 - val_accuracy: 0.9703\n",
      "Epoch 6/30\n",
      "60000/60000 [==============================] - 9s 152us/sample - loss: 0.0631 - accuracy: 0.9800 - val_loss: 0.2931 - val_accuracy: 0.9710\n",
      "Epoch 7/30\n",
      "60000/60000 [==============================] - 9s 146us/sample - loss: 0.0537 - accuracy: 0.9833 - val_loss: 0.4133 - val_accuracy: 0.9730\n",
      "Epoch 8/30\n",
      "60000/60000 [==============================] - 9s 147us/sample - loss: 0.0511 - accuracy: 0.9840 - val_loss: 0.2751 - val_accuracy: 0.9703\n",
      "Epoch 9/30\n",
      "60000/60000 [==============================] - 9s 146us/sample - loss: 0.0472 - accuracy: 0.9853 - val_loss: 0.3548 - val_accuracy: 0.9722\n",
      "Epoch 10/30\n",
      "60000/60000 [==============================] - 9s 145us/sample - loss: 0.0422 - accuracy: 0.9866 - val_loss: 0.3013 - val_accuracy: 0.9714\n",
      "Epoch 11/30\n",
      "60000/60000 [==============================] - 9s 145us/sample - loss: 0.0413 - accuracy: 0.9865 - val_loss: 0.3493 - val_accuracy: 0.9730\n",
      "Epoch 12/30\n",
      "60000/60000 [==============================] - 10s 161us/sample - loss: 0.0343 - accuracy: 0.9888 - val_loss: 0.3726 - val_accuracy: 0.9749\n",
      "Epoch 13/30\n",
      "60000/60000 [==============================] - 9s 146us/sample - loss: 0.0352 - accuracy: 0.9892 - val_loss: 0.5048 - val_accuracy: 0.9704\n",
      "Epoch 14/30\n",
      "60000/60000 [==============================] - 9s 145us/sample - loss: 0.0378 - accuracy: 0.9885 - val_loss: 0.4673 - val_accuracy: 0.9711\n",
      "Epoch 15/30\n",
      "60000/60000 [==============================] - 9s 146us/sample - loss: 0.0339 - accuracy: 0.9895 - val_loss: 0.3081 - val_accuracy: 0.9719\n",
      "Epoch 16/30\n",
      "60000/60000 [==============================] - 9s 149us/sample - loss: 0.0337 - accuracy: 0.9893 - val_loss: 0.4735 - val_accuracy: 0.9686\n",
      "Epoch 17/30\n",
      "60000/60000 [==============================] - 9s 158us/sample - loss: 0.0311 - accuracy: 0.9904 - val_loss: 0.4681 - val_accuracy: 0.9701\n",
      "Epoch 18/30\n",
      "60000/60000 [==============================] - 9s 151us/sample - loss: 0.0300 - accuracy: 0.9909 - val_loss: 0.3929 - val_accuracy: 0.9713\n",
      "Epoch 19/30\n",
      "60000/60000 [==============================] - 9s 149us/sample - loss: 0.0282 - accuracy: 0.9914 - val_loss: 0.3412 - val_accuracy: 0.9711\n",
      "Epoch 20/30\n",
      "60000/60000 [==============================] - 9s 149us/sample - loss: 0.0254 - accuracy: 0.9918 - val_loss: 0.3719 - val_accuracy: 0.9733\n",
      "Epoch 21/30\n",
      "60000/60000 [==============================] - 9s 144us/sample - loss: 0.0295 - accuracy: 0.9912 - val_loss: 0.4891 - val_accuracy: 0.9716\n",
      "Epoch 22/30\n",
      "60000/60000 [==============================] - 9s 146us/sample - loss: 0.0284 - accuracy: 0.9915 - val_loss: 0.3948 - val_accuracy: 0.9727\n",
      "Epoch 23/30\n",
      "60000/60000 [==============================] - 9s 146us/sample - loss: 0.0252 - accuracy: 0.9925 - val_loss: 0.4260 - val_accuracy: 0.9704\n",
      "Epoch 24/30\n",
      "60000/60000 [==============================] - 9s 146us/sample - loss: 0.0255 - accuracy: 0.9918 - val_loss: 0.4320 - val_accuracy: 0.9703\n",
      "Epoch 25/30\n",
      "60000/60000 [==============================] - 9s 144us/sample - loss: 0.0258 - accuracy: 0.9923 - val_loss: 0.4453 - val_accuracy: 0.9715\n",
      "Epoch 26/30\n",
      "60000/60000 [==============================] - 9s 145us/sample - loss: 0.0267 - accuracy: 0.9920 - val_loss: 0.3846 - val_accuracy: 0.9704\n",
      "Epoch 27/30\n",
      "60000/60000 [==============================] - 9s 149us/sample - loss: 0.0247 - accuracy: 0.9928 - val_loss: 0.3399 - val_accuracy: 0.9723\n",
      "Epoch 28/30\n",
      "60000/60000 [==============================] - 9s 150us/sample - loss: 0.0229 - accuracy: 0.9933 - val_loss: 0.4543 - val_accuracy: 0.9733\n",
      "Epoch 29/30\n",
      "60000/60000 [==============================] - 9s 150us/sample - loss: 0.0253 - accuracy: 0.9925 - val_loss: 0.3872 - val_accuracy: 0.9712\n",
      "Epoch 30/30\n",
      "60000/60000 [==============================] - 9s 148us/sample - loss: 0.0236 - accuracy: 0.9927 - val_loss: 0.3864 - val_accuracy: 0.9695\n",
      "[0.3863670870489154, 0.9695]\n"
     ]
    }
   ],
   "source": [
    "model.fit(X_train, Y_train, validation_data=(X_test, Y_test), epochs=30,batch_size = 32)\n",
    "print(model.evaluate(X_test,Y_test,verbose=0))"
   ]
  },
  {
   "cell_type": "code",
   "execution_count": 0,
   "metadata": {
    "colab": {},
    "colab_type": "code",
    "id": "CksREAtVASKg"
   },
   "outputs": [],
   "source": []
  }
 ],
 "metadata": {
  "colab": {
   "name": "R7_ExternalLab_Questions.ipynb",
   "provenance": []
  },
  "kernelspec": {
   "display_name": "Python 3",
   "language": "python",
   "name": "python3"
  },
  "language_info": {
   "codemirror_mode": {
    "name": "ipython",
    "version": 3
   },
   "file_extension": ".py",
   "mimetype": "text/x-python",
   "name": "python",
   "nbconvert_exporter": "python",
   "pygments_lexer": "ipython3",
   "version": "3.7.3"
  }
 },
 "nbformat": 4,
 "nbformat_minor": 1
}
