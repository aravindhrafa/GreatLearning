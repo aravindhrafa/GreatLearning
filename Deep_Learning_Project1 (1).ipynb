{
 "cells": [
  {
   "cell_type": "code",
   "execution_count": 1,
   "metadata": {
    "colab": {},
    "colab_type": "code",
    "id": "NHrVTN-oVa2h"
   },
   "outputs": [],
   "source": [
    "\n",
    "import pandas as pd\n",
    "import numpy as np "
   ]
  },
  {
   "cell_type": "code",
   "execution_count": 2,
   "metadata": {
    "colab": {
     "base_uri": "https://localhost:8080/",
     "height": 33
    },
    "colab_type": "code",
    "id": "DKRKmxRgWf7Z",
    "outputId": "29a83c56-b619-4d5d-c693-abdd3c6ce1fb"
   },
   "outputs": [
    {
     "ename": "ModuleNotFoundError",
     "evalue": "No module named 'google'",
     "output_type": "error",
     "traceback": [
      "\u001b[1;31m---------------------------------------------------------------------------\u001b[0m",
      "\u001b[1;31mModuleNotFoundError\u001b[0m                       Traceback (most recent call last)",
      "\u001b[1;32m<ipython-input-2-86697cba6ab5>\u001b[0m in \u001b[0;36m<module>\u001b[1;34m\u001b[0m\n\u001b[1;32m----> 1\u001b[1;33m \u001b[1;32mfrom\u001b[0m \u001b[0mgoogle\u001b[0m\u001b[1;33m.\u001b[0m\u001b[0mcolab\u001b[0m \u001b[1;32mimport\u001b[0m \u001b[0mdrive\u001b[0m\u001b[1;33m\u001b[0m\u001b[1;33m\u001b[0m\u001b[0m\n\u001b[0m\u001b[0;32m      2\u001b[0m \u001b[0mdrive\u001b[0m\u001b[1;33m.\u001b[0m\u001b[0mmount\u001b[0m\u001b[1;33m(\u001b[0m\u001b[1;34m'/content/gdrive'\u001b[0m\u001b[1;33m)\u001b[0m\u001b[1;33m\u001b[0m\u001b[1;33m\u001b[0m\u001b[0m\n\u001b[0;32m      3\u001b[0m \u001b[1;33m\u001b[0m\u001b[0m\n\u001b[0;32m      4\u001b[0m \u001b[1;31m## Mounting the google drive to google colab\u001b[0m\u001b[1;33m\u001b[0m\u001b[1;33m\u001b[0m\u001b[1;33m\u001b[0m\u001b[0m\n",
      "\u001b[1;31mModuleNotFoundError\u001b[0m: No module named 'google'"
     ]
    }
   ],
   "source": [
    "from google.colab import drive\n",
    "drive.mount('/content/gdrive')\n",
    "\n",
    "## Mounting the google drive to google colab"
   ]
  },
  {
   "cell_type": "code",
   "execution_count": null,
   "metadata": {
    "colab": {
     "base_uri": "https://localhost:8080/",
     "height": 391
    },
    "colab_type": "code",
    "id": "q7kHyZDyX_jV",
    "outputId": "c8baf3d3-ba9b-4f38-fc82-94603fac1604"
   },
   "outputs": [],
   "source": [
    "#root_path = '/gdrive/My Drive/Collab_files_GL/bank.csv'\n",
    "dataset1 = pd.read_csv('gdrive/My Drive/Collab_files_GL/bank.csv')\n",
    "dataset1"
   ]
  },
  {
   "cell_type": "code",
   "execution_count": null,
   "metadata": {
    "colab": {
     "base_uri": "https://localhost:8080/",
     "height": 33
    },
    "colab_type": "code",
    "id": "e2l5Upm9Y9jR",
    "outputId": "78f2126a-23ee-442f-a475-44832f880854"
   },
   "outputs": [],
   "source": [
    "dataset1.shape"
   ]
  },
  {
   "cell_type": "markdown",
   "metadata": {
    "colab_type": "text",
    "id": "PnlTuF4oh8q7"
   },
   "source": []
  },
  {
   "cell_type": "code",
   "execution_count": null,
   "metadata": {
    "colab": {
     "base_uri": "https://localhost:8080/",
     "height": 277
    },
    "colab_type": "code",
    "id": "6CJOLUgMh-N_",
    "outputId": "da1499c1-c994-4094-babe-12b60d310dde"
   },
   "outputs": [],
   "source": [
    "dataset1.describe()"
   ]
  },
  {
   "cell_type": "code",
   "execution_count": null,
   "metadata": {
    "colab": {
     "base_uri": "https://localhost:8080/",
     "height": 82
    },
    "colab_type": "code",
    "id": "D16VSBFBcEld",
    "outputId": "a9e7e5cf-1fd2-4cc5-f221-e14ce081991b"
   },
   "outputs": [],
   "source": [
    "dataset1.columns\n",
    "\n",
    "# 14 columns are present on the dataset "
   ]
  },
  {
   "cell_type": "code",
   "execution_count": null,
   "metadata": {
    "colab": {
     "base_uri": "https://localhost:8080/",
     "height": 261
    },
    "colab_type": "code",
    "id": "KdGxNHADcG5s",
    "outputId": "0073c4cf-34c8-4df2-8a61-e04a2846ef22"
   },
   "outputs": [],
   "source": [
    "dataset1.isnull().sum()\n",
    "\n",
    "# the column is  not having any null values "
   ]
  },
  {
   "cell_type": "code",
   "execution_count": null,
   "metadata": {
    "colab": {
     "base_uri": "https://localhost:8080/",
     "height": 261
    },
    "colab_type": "code",
    "id": "y4bFwGTMcTov",
    "outputId": "d44ef6d8-1718-48b4-aa89-820781525259"
   },
   "outputs": [],
   "source": [
    "dataset1.dtypes\n",
    "\n",
    "# Out of that 14 columns,  three columns are object datatypes \n",
    "# 2 - float64 datatypes \n",
    "# 9 - int64 datatypes  \n"
   ]
  },
  {
   "cell_type": "code",
   "execution_count": null,
   "metadata": {
    "colab": {
     "base_uri": "https://localhost:8080/",
     "height": 261
    },
    "colab_type": "code",
    "id": "s0wd3byQjeKz",
    "outputId": "b2366538-657a-4bbf-e7fa-a82dda1bae6b"
   },
   "outputs": [],
   "source": [
    "dataset1.nunique()\n",
    "\n",
    "# Counting the total unique values on all the columns of  dataframe \n",
    "# From the below code, \n",
    "   # 1) Geography can act as categorical \n",
    "   # 2) Gender can act as categorical\n",
    "   # 3) HasCrCard can act as categorical\n",
    "   # 4) IsActiveMemeber act as categorical\n",
    "   # 5) Exited can act as categorical"
   ]
  },
  {
   "cell_type": "code",
   "execution_count": null,
   "metadata": {
    "colab": {
     "base_uri": "https://localhost:8080/",
     "height": 33
    },
    "colab_type": "code",
    "id": "prHbJKbrx4s7",
    "outputId": "3ea56026-5c91-4031-e960-6ac76b1a6f29"
   },
   "outputs": [],
   "source": [
    "dataset1.Gender.unique()"
   ]
  },
  {
   "cell_type": "code",
   "execution_count": null,
   "metadata": {
    "colab": {
     "base_uri": "https://localhost:8080/",
     "height": 66
    },
    "colab_type": "code",
    "id": "rSxSwyHq4okK",
    "outputId": "c9327df1-54d2-4ee0-b11e-c5fe6d7fd738"
   },
   "outputs": [],
   "source": [
    "dataset1.Gender.value_counts()"
   ]
  },
  {
   "cell_type": "code",
   "execution_count": null,
   "metadata": {
    "colab": {
     "base_uri": "https://localhost:8080/",
     "height": 33
    },
    "colab_type": "code",
    "id": "cAfWG6D4yDib",
    "outputId": "e49caa17-9c5b-4e7c-fee9-26f24506bee3"
   },
   "outputs": [],
   "source": [
    "dataset1.Geography.unique()"
   ]
  },
  {
   "cell_type": "code",
   "execution_count": null,
   "metadata": {
    "colab": {
     "base_uri": "https://localhost:8080/",
     "height": 82
    },
    "colab_type": "code",
    "id": "ivrUyYd54vvs",
    "outputId": "95c911ea-8339-41d2-ad2c-f1aa0fe4d7f7"
   },
   "outputs": [],
   "source": [
    "dataset1.Geography.value_counts()"
   ]
  },
  {
   "cell_type": "code",
   "execution_count": null,
   "metadata": {
    "colab": {
     "base_uri": "https://localhost:8080/",
     "height": 33
    },
    "colab_type": "code",
    "id": "x0xcaK9cyMs2",
    "outputId": "ac902505-be3b-4fad-a882-025dc2b53535"
   },
   "outputs": [],
   "source": [
    "dataset1.Exited.unique()"
   ]
  },
  {
   "cell_type": "code",
   "execution_count": null,
   "metadata": {
    "colab": {
     "base_uri": "https://localhost:8080/",
     "height": 66
    },
    "colab_type": "code",
    "id": "pbC7aIZL402o",
    "outputId": "4f9426ac-67c1-4c54-f125-a8977d3c48a2"
   },
   "outputs": [],
   "source": [
    "dataset1.Exited.value_counts()"
   ]
  },
  {
   "cell_type": "code",
   "execution_count": null,
   "metadata": {
    "colab": {
     "base_uri": "https://localhost:8080/",
     "height": 33
    },
    "colab_type": "code",
    "id": "0YBa7pitzVPe",
    "outputId": "f2f556ae-6982-4169-dc5e-b7e06551b8d1"
   },
   "outputs": [],
   "source": [
    "dataset1.NumOfProducts.unique()"
   ]
  },
  {
   "cell_type": "code",
   "execution_count": null,
   "metadata": {
    "colab": {
     "base_uri": "https://localhost:8080/",
     "height": 98
    },
    "colab_type": "code",
    "id": "2jweEuIo44mm",
    "outputId": "abdcf016-79bc-4db2-b2b1-f453e31ad5dc"
   },
   "outputs": [],
   "source": [
    "dataset1.NumOfProducts.value_counts()"
   ]
  },
  {
   "cell_type": "code",
   "execution_count": null,
   "metadata": {
    "colab": {
     "base_uri": "https://localhost:8080/",
     "height": 33
    },
    "colab_type": "code",
    "id": "-FnbPHldz_Vd",
    "outputId": "a03b68fc-8ca4-404c-d475-78c8194ee65f"
   },
   "outputs": [],
   "source": [
    "dataset1.Tenure.unique()"
   ]
  },
  {
   "cell_type": "code",
   "execution_count": null,
   "metadata": {
    "colab": {
     "base_uri": "https://localhost:8080/",
     "height": 212
    },
    "colab_type": "code",
    "id": "VOafVU2T57Zx",
    "outputId": "71a98bf0-f102-4db3-fc5c-82ad0e16da72"
   },
   "outputs": [],
   "source": [
    "dataset1.Tenure.value_counts()"
   ]
  },
  {
   "cell_type": "code",
   "execution_count": null,
   "metadata": {
    "colab": {
     "base_uri": "https://localhost:8080/",
     "height": 212
    },
    "colab_type": "code",
    "id": "2WPJ6KYhZExS",
    "outputId": "517572b2-0a68-4f4b-c777-5b5b2a40f5d4"
   },
   "outputs": [],
   "source": [
    "dataset1.Age.value_counts()"
   ]
  },
  {
   "cell_type": "code",
   "execution_count": null,
   "metadata": {
    "colab": {},
    "colab_type": "code",
    "id": "sA1rVWruZbii"
   },
   "outputs": [],
   "source": [
    "dataset1.Balance.value_counts()\n",
    "median_of_balance = dataset1['Balance'].median(skipna=True)\n",
    "\n",
    "dataset1['Balance'] = dataset1['Balance'].replace(0,median_of_balance)\n",
    "# The value of 0.0 presence in 3617 rows "
   ]
  },
  {
   "cell_type": "code",
   "execution_count": null,
   "metadata": {
    "colab": {
     "base_uri": "https://localhost:8080/",
     "height": 212
    },
    "colab_type": "code",
    "id": "oOtCpvphmtpF",
    "outputId": "5aa46cae-f8c2-4b93-e347-aab2c3547a41"
   },
   "outputs": [],
   "source": [
    "dataset1.Balance.value_counts()"
   ]
  },
  {
   "cell_type": "code",
   "execution_count": null,
   "metadata": {
    "colab": {
     "base_uri": "https://localhost:8080/",
     "height": 212
    },
    "colab_type": "code",
    "id": "oGALFdJuZhb1",
    "outputId": "bc26c6a5-e91c-4231-d850-3be1d91283e8"
   },
   "outputs": [],
   "source": [
    "dataset1.EstimatedSalary.value_counts()"
   ]
  },
  {
   "cell_type": "code",
   "execution_count": null,
   "metadata": {
    "colab": {},
    "colab_type": "code",
    "id": "8yMR0lQNcX_j"
   },
   "outputs": [],
   "source": [
    "import seaborn as sns \n",
    "#sns.pairplot(data =  dataset1, diag_kind ='kde' )"
   ]
  },
  {
   "cell_type": "code",
   "execution_count": null,
   "metadata": {
    "colab": {
     "base_uri": "https://localhost:8080/",
     "height": 363
    },
    "colab_type": "code",
    "id": "4nJnF07e8rzF",
    "outputId": "1b2836ca-6b8b-4d66-c870-cc490b328639"
   },
   "outputs": [],
   "source": [
    "dataset1.corr()"
   ]
  },
  {
   "cell_type": "code",
   "execution_count": null,
   "metadata": {
    "colab": {
     "base_uri": "https://localhost:8080/",
     "height": 391
    },
    "colab_type": "code",
    "id": "1gld6p4QczeV",
    "outputId": "8a68a634-9b65-4a10-b970-fc8530ede9c4"
   },
   "outputs": [],
   "source": [
    "# Dropping Row number and Customer ID column \n",
    "dataset2 = dataset1.drop(labels = ['RowNumber','CustomerId','Surname'],axis=1)\n",
    "dataset2"
   ]
  },
  {
   "cell_type": "code",
   "execution_count": null,
   "metadata": {
    "colab": {
     "base_uri": "https://localhost:8080/",
     "height": 306
    },
    "colab_type": "code",
    "id": "ktzg_6kU8zZU",
    "outputId": "7be4af85-3538-4d82-b7db-accab79b69ae"
   },
   "outputs": [],
   "source": [
    "dataset2.corr()"
   ]
  },
  {
   "cell_type": "code",
   "execution_count": null,
   "metadata": {
    "colab": {},
    "colab_type": "code",
    "id": "Eo3_vBrx271D"
   },
   "outputs": [],
   "source": [
    "# sns.pairplot(data = dataset2,diag_kind = 'kde')"
   ]
  },
  {
   "cell_type": "code",
   "execution_count": null,
   "metadata": {
    "colab": {},
    "colab_type": "code",
    "id": "YKNJX9uS2-RM"
   },
   "outputs": [],
   "source": [
    "from sklearn.preprocessing import LabelEncoder\n",
    "\n",
    "encoder = LabelEncoder()\n",
    "# Converting the Sex into nominal categorical variables\n",
    "# One of the ways of treating the categorical variables \n",
    "dataset2['Gender'] = encoder.fit_transform(dataset2['Gender'].astype('str'))\n",
    "\n",
    "# What if, one hot encoding is being done for Gender and find their correlation status \n",
    "\n",
    "#dataset4  = pd.get_dummies(dataset2, columns = ['Gender'])"
   ]
  },
  {
   "cell_type": "code",
   "execution_count": null,
   "metadata": {
    "colab": {
     "base_uri": "https://localhost:8080/",
     "height": 335
    },
    "colab_type": "code",
    "id": "mZ3NdxjdTWe9",
    "outputId": "20db7bd0-ce99-41f2-f278-293d86b299b1"
   },
   "outputs": [],
   "source": [
    "dataset2.corr()\n",
    "#dataset4.corr()   # Dataset for one hot encoded Gender column "
   ]
  },
  {
   "cell_type": "code",
   "execution_count": null,
   "metadata": {
    "colab": {
     "base_uri": "https://localhost:8080/",
     "height": 391
    },
    "colab_type": "code",
    "id": "wZ3ycle88cnZ",
    "outputId": "5df093b2-5fac-4ae5-90d5-6ed137c58b17"
   },
   "outputs": [],
   "source": [
    "dataset2"
   ]
  },
  {
   "cell_type": "code",
   "execution_count": null,
   "metadata": {
    "colab": {},
    "colab_type": "code",
    "id": "lm_ijCoOEDol"
   },
   "outputs": [],
   "source": [
    "# sns.pairplot(data= dataset2, hue = 'Exited', diag_kind='kde')"
   ]
  },
  {
   "cell_type": "code",
   "execution_count": null,
   "metadata": {
    "colab": {},
    "colab_type": "code",
    "id": "ttwbNko58fhR"
   },
   "outputs": [],
   "source": [
    "# Study between the Exited column and the other columns \n",
    "\n",
    "import matplotlib.pyplot as plt \n"
   ]
  },
  {
   "cell_type": "code",
   "execution_count": null,
   "metadata": {
    "colab": {},
    "colab_type": "code",
    "id": "VP2oRTrgEC5o"
   },
   "outputs": [],
   "source": [
    "\n",
    "# Let us do one Hot encoding for the Geography column \n",
    "#dataset3 = pd.get_dummies(dataset2, columns = ['Geography'])\n",
    "# dataset3\n",
    "\n",
    "# Doing the  One Hot Encoding had brought a drastic decrease in the accuracy\n",
    "\n",
    "\n",
    "dataset2['Geography'] = encoder.fit_transform(dataset2['Geography'].astype('str'))\n",
    "dataset3 = dataset2"
   ]
  },
  {
   "cell_type": "code",
   "execution_count": null,
   "metadata": {
    "colab": {
     "base_uri": "https://localhost:8080/",
     "height": 82
    },
    "colab_type": "code",
    "id": "4mTxC6Kbxp1Z",
    "outputId": "b26d34ce-2663-442f-f82a-7cb7c3550665"
   },
   "outputs": [],
   "source": [
    "#dataset2.columns\n",
    "dataset3.columns"
   ]
  },
  {
   "cell_type": "code",
   "execution_count": null,
   "metadata": {
    "colab": {
     "base_uri": "https://localhost:8080/",
     "height": 82
    },
    "colab_type": "code",
    "id": "-X5F3myextoO",
    "outputId": "3665c897-fa8f-4dde-ba4a-511043c70dfc"
   },
   "outputs": [],
   "source": [
    " dataset3.columns\n",
    " #dataset2.shape"
   ]
  },
  {
   "cell_type": "code",
   "execution_count": null,
   "metadata": {
    "colab": {},
    "colab_type": "code",
    "id": "HIk0AoIByJXv"
   },
   "outputs": [],
   "source": [
    "# sns.box(dataset3)"
   ]
  },
  {
   "cell_type": "code",
   "execution_count": null,
   "metadata": {
    "colab": {
     "base_uri": "https://localhost:8080/",
     "height": 295
    },
    "colab_type": "code",
    "id": "VbvHgyJ7xxKX",
    "outputId": "e06a63b1-7a5d-48c1-d8cc-a9f5a655695d"
   },
   "outputs": [],
   "source": [
    "# Now, treating the Balance column since they are having the excess 0.0 values in them \n",
    "sns.boxplot(x = 'Balance',data= dataset3)\n"
   ]
  },
  {
   "cell_type": "code",
   "execution_count": null,
   "metadata": {
    "colab": {
     "base_uri": "https://localhost:8080/",
     "height": 50
    },
    "colab_type": "code",
    "id": "n2zHb3CMo-ch",
    "outputId": "4ef1dc62-8a9c-49be-e450-683ce30d3e7d"
   },
   "outputs": [],
   "source": [
    "def outlier_treatment(data1):\n",
    " sorted(data1)\n",
    " Q1,Q3 = np.percentile(data1 , [25,75])\n",
    " IQR = (Q3 - Q1)\n",
    " lower_range = (Q1 - (1.5 * IQR))\n",
    " upper_range = (Q3 + (1.5 * IQR))\n",
    " return lower_range,upper_range\n",
    "\n",
    "\n",
    "lbound,ubound = outlier_treatment(dataset3.Balance)\n",
    "print(lbound)\n",
    "print(ubound)\n",
    "dataset3[(dataset3.Balance < lbound) | (dataset3.Balance > ubound)]\n",
    "dataset3.drop(dataset3[ (dataset3.Balance > ubound) | (dataset3.Balance < lbound) ].index , inplace=True)"
   ]
  },
  {
   "cell_type": "code",
   "execution_count": null,
   "metadata": {
    "colab": {
     "base_uri": "https://localhost:8080/",
     "height": 295
    },
    "colab_type": "code",
    "id": "7S3p8kuKpojk",
    "outputId": "fee3c557-c1f4-4a82-c5c6-0cf73ab9cf60"
   },
   "outputs": [],
   "source": [
    "sns.boxplot(x = 'Balance',data= dataset3)"
   ]
  },
  {
   "cell_type": "code",
   "execution_count": null,
   "metadata": {
    "colab": {
     "base_uri": "https://localhost:8080/",
     "height": 295
    },
    "colab_type": "code",
    "id": "t4C65wr-y_DX",
    "outputId": "434e4f2a-c250-4dd4-95cf-0d015ad4c9d6"
   },
   "outputs": [],
   "source": [
    "sns.boxplot(x= 'EstimatedSalary', data =  dataset3)"
   ]
  },
  {
   "cell_type": "code",
   "execution_count": null,
   "metadata": {
    "colab": {},
    "colab_type": "code",
    "id": "aFcFDOIJ0dcd"
   },
   "outputs": [],
   "source": [
    "dataset3_feature = dataset3.drop(labels =['Exited','Gender','Balance'], axis = 1 )\n",
    "dataset3_target  = dataset3['Exited']"
   ]
  },
  {
   "cell_type": "code",
   "execution_count": null,
   "metadata": {
    "colab": {
     "base_uri": "https://localhost:8080/",
     "height": 391
    },
    "colab_type": "code",
    "id": "mlpjRuKG36u5",
    "outputId": "c6d7fc2f-87ea-4d51-cbc6-96c46a9484e5"
   },
   "outputs": [],
   "source": [
    "dataset3_feature"
   ]
  },
  {
   "cell_type": "code",
   "execution_count": null,
   "metadata": {
    "colab": {
     "base_uri": "https://localhost:8080/",
     "height": 212
    },
    "colab_type": "code",
    "id": "mrDfKYjw39Dg",
    "outputId": "8d002c94-cf8b-4a29-cb66-fdc6a31744ce"
   },
   "outputs": [],
   "source": [
    "dataset3_target"
   ]
  },
  {
   "cell_type": "code",
   "execution_count": null,
   "metadata": {
    "colab": {
     "base_uri": "https://localhost:8080/",
     "height": 61
    },
    "colab_type": "code",
    "id": "rNyr0aVm3_w5",
    "outputId": "f658ef6a-ba9f-4333-83ce-34d52a354369"
   },
   "outputs": [],
   "source": [
    "from sklearn.model_selection import train_test_split \n",
    "import tensorflow as tf\n",
    "tf.set_random_seed(42)\n"
   ]
  },
  {
   "cell_type": "code",
   "execution_count": null,
   "metadata": {
    "colab": {
     "base_uri": "https://localhost:8080/",
     "height": 33
    },
    "colab_type": "code",
    "id": "BDvpw6x95kDt",
    "outputId": "b5952de5-99d3-42cb-8ec8-83d50b8555cb"
   },
   "outputs": [],
   "source": [
    "tf.__version__"
   ]
  },
  {
   "cell_type": "code",
   "execution_count": null,
   "metadata": {
    "colab": {
     "base_uri": "https://localhost:8080/",
     "height": 33
    },
    "colab_type": "code",
    "id": "k1OEH-r85n4H",
    "outputId": "7a42021b-7da9-4826-b0aa-0590fbb952b3"
   },
   "outputs": [],
   "source": [
    "import keras"
   ]
  },
  {
   "cell_type": "code",
   "execution_count": null,
   "metadata": {
    "colab": {},
    "colab_type": "code",
    "id": "o3diStGu5vU7"
   },
   "outputs": [],
   "source": [
    "X_train, X_test,y_train, y_test = train_test_split(dataset3_feature,dataset3_target, test_size=0.30 , random_state = 5)"
   ]
  },
  {
   "cell_type": "code",
   "execution_count": null,
   "metadata": {
    "colab": {
     "base_uri": "https://localhost:8080/",
     "height": 391
    },
    "colab_type": "code",
    "id": "dbx84FHJ71SM",
    "outputId": "f3a9e41a-9e4f-4435-e6f4-e06463b710fe"
   },
   "outputs": [],
   "source": [
    "X_train"
   ]
  },
  {
   "cell_type": "code",
   "execution_count": null,
   "metadata": {
    "colab": {
     "base_uri": "https://localhost:8080/",
     "height": 212
    },
    "colab_type": "code",
    "id": "36gXLgF6-8L_",
    "outputId": "ba338e40-d147-49e1-fb18-9652805a6940"
   },
   "outputs": [],
   "source": [
    "y_train"
   ]
  },
  {
   "cell_type": "code",
   "execution_count": null,
   "metadata": {
    "colab": {
     "base_uri": "https://localhost:8080/",
     "height": 391
    },
    "colab_type": "code",
    "id": "2FgQCZVN-9c5",
    "outputId": "13bd06a5-ecef-4206-c234-3cfac10025a8"
   },
   "outputs": [],
   "source": [
    "X_test"
   ]
  },
  {
   "cell_type": "code",
   "execution_count": null,
   "metadata": {
    "colab": {
     "base_uri": "https://localhost:8080/",
     "height": 212
    },
    "colab_type": "code",
    "id": "A_YPF5eB_E3j",
    "outputId": "e4308098-8306-4415-db8f-e2c66f51f8f1"
   },
   "outputs": [],
   "source": [
    "y_test"
   ]
  },
  {
   "cell_type": "code",
   "execution_count": null,
   "metadata": {
    "colab": {},
    "colab_type": "code",
    "id": "_IevqJfA_Gfn"
   },
   "outputs": [],
   "source": [
    "# 5. Normalize the train and test data \n",
    "\n",
    "from sklearn.preprocessing import StandardScaler\n",
    "ss = StandardScaler()\n",
    "X_train  = ss.fit_transform(X_train)\n",
    "X_test  = ss.fit_transform(X_test)"
   ]
  },
  {
   "cell_type": "code",
   "execution_count": null,
   "metadata": {
    "colab": {
     "base_uri": "https://localhost:8080/",
     "height": 228
    },
    "colab_type": "code",
    "id": "eDES_ZerAvUG",
    "outputId": "cab2714b-54ac-4b8c-b8d1-32cd9b30b0bd"
   },
   "outputs": [],
   "source": [
    "X_train  # Array format"
   ]
  },
  {
   "cell_type": "code",
   "execution_count": null,
   "metadata": {
    "colab": {
     "base_uri": "https://localhost:8080/",
     "height": 228
    },
    "colab_type": "code",
    "id": "spXKYdwWA93l",
    "outputId": "7a452403-597f-4752-a90a-5199ba8bc836"
   },
   "outputs": [],
   "source": [
    "X_test  # Array format"
   ]
  },
  {
   "cell_type": "code",
   "execution_count": null,
   "metadata": {
    "colab": {
     "base_uri": "https://localhost:8080/",
     "height": 1000
    },
    "colab_type": "code",
    "id": "rObja6r6A_Mg",
    "outputId": "fe09f419-851b-4ed5-be7b-eae48beabdea"
   },
   "outputs": [],
   "source": [
    "# 6. Initialize & build the model\n",
    "\n",
    "model = tf.keras.models.Sequential()\n",
    "model.add(tf.keras.layers.Dense(10,input_dim = 8, activation = 'relu'))\n",
    "model.add(tf.keras.layers.Dense(8 ,activation = 'relu'))\n",
    "model.add(tf.keras.layers.Dense(8 ,activation = 'relu'))\n",
    "model.add(tf.keras.layers.Dense(8 ,activation = 'relu'))\n",
    "model.add(tf.keras.layers.Dense(1 ,activation = 'sigmoid'))\n",
    "\n",
    "# Model building is being done above with three Dense layers as 1) Input layers with Softmax activation function \n",
    "# 2) Middle Layer with sigmoid activation function 3 ) Output layer with sigmoid activation function \n",
    "\n",
    "# The input layer has 10 nodes with input as 12 features\n",
    "# The middle layer has 12 nodes \n",
    "# the last layer has only one nodes \n",
    "\n",
    "\n",
    "from keras import optimizers\n",
    "\n",
    "# compilation of the model \n",
    "adam = keras.optimizers.Adam(lr=0.0001)  \n",
    "model.compile(optimizer = 'adam', loss='binary_crossentropy', metrics = ['accuracy'])\n",
    "model.fit(X_train,y_train,validation_data = (X_test,y_test), epochs = 50, batch_size= X_train.shape[0])\n",
    "\n",
    "#When trying with the softmax, the accuracy value increases from 0.199 to 0.81\n",
    "# when trying with the relu, its performance is low when compared with softmax\n",
    "\n",
    "\n",
    "\n"
   ]
  },
  {
   "cell_type": "code",
   "execution_count": null,
   "metadata": {
    "colab": {},
    "colab_type": "code",
    "id": "ZQgsczwOKVNr"
   },
   "outputs": [],
   "source": [
    "# # Doing the normalizatio by adding Batch Normalization after the Input layer and finding the accuray\n",
    "\n",
    "# model = tf.keras.models.Sequential()\n",
    "\n",
    "# model.add(tf.keras.layers.Dense(10,input_dim = 10, activation = 'softmax'))\n",
    "# model.add(tf.keras.layers.BatchNormalization())\n",
    "# model.add(tf.keras.layers.Dense(10 ,activation = 'softmax'))\n",
    "# model.add(tf.keras.layers.Dense(1 ,activation = 'sigmoid'))\n"
   ]
  },
  {
   "cell_type": "code",
   "execution_count": null,
   "metadata": {
    "colab": {},
    "colab_type": "code",
    "id": "Uj7hXW2aKpVI"
   },
   "outputs": [],
   "source": [
    "# model.compile(optimizer = 'sgd', loss='binary_crossentropy', metrics = ['accuracy'])"
   ]
  },
  {
   "cell_type": "code",
   "execution_count": null,
   "metadata": {
    "colab": {},
    "colab_type": "code",
    "id": "TJxPjBnrKsin"
   },
   "outputs": [],
   "source": [
    "# model.fit(X_train,y_train,validation_data = (X_test,y_test), epochs = 50, batch_size= X_train.shape[0])\n",
    "\n",
    "# # After the adding the Batch Normalization layer after the first input layer, the accuracy value doesnt show increase from its preformed 80.10 value "
   ]
  },
  {
   "cell_type": "code",
   "execution_count": null,
   "metadata": {
    "colab": {},
    "colab_type": "code",
    "id": "2-jfGv3EHzh0"
   },
   "outputs": [],
   "source": [
    "# # Another try\n",
    "\n",
    "# model1 = tf.keras.models.Sequential()\n",
    "# model1.add(tf.keras.layers.Dense(10,input_dim = 10, activation = 'relu'))\n",
    "# model1.add(tf.keras.layers.Dense(10 ,activation = 'relu'))\n",
    "# model1.add(tf.keras.layers.Dense(1 ,activation = 'relu'))"
   ]
  },
  {
   "cell_type": "code",
   "execution_count": null,
   "metadata": {
    "colab": {},
    "colab_type": "code",
    "id": "9nW2Map1J9GQ"
   },
   "outputs": [],
   "source": [
    "# compilation of the model \n",
    "\n",
    "# model1.compile(optimizer = 'sgd', loss='binary_crossentropy', metrics = ['accuracy'])"
   ]
  },
  {
   "cell_type": "code",
   "execution_count": null,
   "metadata": {
    "colab": {},
    "colab_type": "code",
    "id": "cqJ_ejiLKCkN"
   },
   "outputs": [],
   "source": [
    "# model1.fit(X_train,y_train,validation_data = (X_test,y_test), epochs = 50, batch_size= X_train.shape[0])"
   ]
  },
  {
   "cell_type": "code",
   "execution_count": null,
   "metadata": {
    "colab": {},
    "colab_type": "code",
    "id": "UuhvfxYTKFSE"
   },
   "outputs": [],
   "source": [
    "# #Consolidating the above \n",
    "\n",
    "# #dataset3 = pd.get_dummies(dataset2, columns = ['Gender'])\n",
    "# #dataset3\n",
    "\n",
    "# # Let us do one Hot encoding for the Geography column \n",
    "# # dataset3 = pd.get_dummies(dataset2, columns = ['Geography'])\n",
    "# # dataset3\n",
    "\n",
    "# # Doing the  One Hot Encoding had brought a drastic decrease in the accuracy\n",
    "\n",
    "\n",
    "# dataset4['Geography'] = encoder.fit_transform(dataset2['Geography'].astype('str'))\n",
    "\n",
    "# dataset4_feature = dataset4.drop(labels =['Exited'], axis = 1 )\n",
    "# dataset4_target  = dataset4['Exited']\n",
    "# X_train, X_test,y_train, y_test = train_test_split(dataset4_feature,dataset4_target, test_size=0.30 , random_state = 5)\n",
    "# from sklearn.preprocessing import StandardScaler\n",
    "# ss = StandardScaler()\n",
    "# X_train  = ss.fit_transform(X_train)\n",
    "# X_test  = ss.fit_transform(X_test)\n",
    "\n",
    "# model2 = tf.keras.models.Sequential()\n",
    "# model2.add(tf.keras.layers.Dense(10,input_dim = 11, activation = 'softmax'))\n",
    "# #model2.add(tf.keras.layers.BatchNormalization())\n",
    "# model2.add(tf.keras.layers.Dense(11,activation = 'softmax'))\n",
    "# model2.add(tf.keras.layers.Dense(1 ,activation = 'sigmoid'))\n",
    "# model2.compile(optimizer = 'sgd', loss='binary_crossentropy', metrics = ['accuracy'])\n",
    "# model2.fit(X_train,y_train,validation_data = (X_test,y_test), epochs = 50, batch_size= X_train.shape[0])\n",
    "\n",
    "# # The accuracy is not increasing even when dropping the Gender and Geography columns "
   ]
  },
  {
   "cell_type": "code",
   "execution_count": null,
   "metadata": {
    "colab": {},
    "colab_type": "code",
    "id": "HbbpkT_PVMv2"
   },
   "outputs": [],
   "source": [
    "from sklearn.metrics import confusion_matrix\n",
    "y_pred = model.predict_classes(X_test)\n",
    "final = confusion_matrix(y_test,y_pred)"
   ]
  },
  {
   "cell_type": "code",
   "execution_count": null,
   "metadata": {
    "colab": {
     "base_uri": "https://localhost:8080/",
     "height": 50
    },
    "colab_type": "code",
    "id": "5hUtT1koxGRL",
    "outputId": "0ebf63ec-46a6-4767-82a9-90dedb509ab1"
   },
   "outputs": [],
   "source": [
    "final"
   ]
  },
  {
   "cell_type": "code",
   "execution_count": null,
   "metadata": {
    "colab": {},
    "colab_type": "code",
    "id": "gVtNPmegxHPw"
   },
   "outputs": [],
   "source": []
  }
 ],
 "metadata": {
  "colab": {
   "collapsed_sections": [],
   "name": "Deep_Learning_Project1.ipynb",
   "provenance": []
  },
  "kernelspec": {
   "display_name": "Python 3",
   "language": "python",
   "name": "python3"
  },
  "language_info": {
   "codemirror_mode": {
    "name": "ipython",
    "version": 3
   },
   "file_extension": ".py",
   "mimetype": "text/x-python",
   "name": "python",
   "nbconvert_exporter": "python",
   "pygments_lexer": "ipython3",
   "version": "3.7.3"
  }
 },
 "nbformat": 4,
 "nbformat_minor": 1
}
